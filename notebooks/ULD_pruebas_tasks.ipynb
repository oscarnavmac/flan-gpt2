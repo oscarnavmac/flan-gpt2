{
 "cells": [
  {
   "cell_type": "code",
   "execution_count": 1,
   "metadata": {},
   "outputs": [
    {
     "name": "stdout",
     "output_type": "stream",
     "text": [
      "cuda\n"
     ]
    }
   ],
   "source": [
    "import torch\n",
    "from rich.markdown import Markdown\n",
    "\n",
    "device = ('cuda' if torch.cuda.is_available() else 'cpu')\n",
    "print(device)"
   ]
  },
  {
   "cell_type": "code",
   "execution_count": 2,
   "metadata": {},
   "outputs": [
    {
     "name": "stdout",
     "output_type": "stream",
     "text": [
      "/home/oscarn/flan-gpt2\n"
     ]
    }
   ],
   "source": [
    "%cd .."
   ]
  },
  {
   "cell_type": "code",
   "execution_count": 3,
   "metadata": {},
   "outputs": [
    {
     "name": "stdout",
     "output_type": "stream",
     "text": [
      "output/flan-gpt2-medium-distill_V3\n"
     ]
    }
   ],
   "source": [
    "from models.model_utils import GPT2Model\n",
    "\n",
    "#model_name = \"output/gpt2-multitask-4_V2\"\n",
    "#model_name = \"flan-gpt2-medium-distill_V2\"\n",
    "#model_name = \"gpt2-multitask_V3\"\n",
    "model_name = \"output/flan-gpt2-medium-distill_V3\"\n",
    "#model_name = \"pythia-multitask_V3\"\n",
    "\n",
    "#model_name = \"OscarNav/flan-gpt2-medium-ft\"\n",
    "\n",
    "wrapped_model = GPT2Model(model_name, device)\n",
    "model = wrapped_model.get_model()\n",
    "tokenizer = wrapped_model.get_tokenizer()"
   ]
  },
  {
   "cell_type": "code",
   "execution_count": 4,
   "metadata": {},
   "outputs": [],
   "source": [
    "from eval.eval_utils import Evaluation\n",
    "from data.data_utils import create_instruct_dataset\n",
    "\n",
    "\n",
    "eval = Evaluation(model, tokenizer, device)"
   ]
  },
  {
   "cell_type": "code",
   "execution_count": 5,
   "metadata": {},
   "outputs": [],
   "source": [
    "num_samples = 100\n",
    "CAUSAL_LM = True"
   ]
  },
  {
   "cell_type": "code",
   "execution_count": 6,
   "metadata": {},
   "outputs": [],
   "source": [
    "template = \"\"\"\n",
    "## INPUT PROMPT\n",
    "{prompt}\n",
    "## GROUND_TRUTH\n",
    "{completion}\n",
    "## MODEL OUTPUT\n",
    "{prediction}\n",
    "\"\"\""
   ]
  },
  {
   "cell_type": "markdown",
   "metadata": {},
   "source": [
    "### ANLI"
   ]
  },
  {
   "cell_type": "code",
   "execution_count": 7,
   "metadata": {},
   "outputs": [
    {
     "data": {
      "application/vnd.jupyter.widget-view+json": {
       "model_id": "2c2dc44e7c384539845035522aa31157",
       "version_major": 2,
       "version_minor": 0
      },
      "text/plain": [
       "Map:   0%|          | 0/16946 [00:00<?, ? examples/s]"
      ]
     },
     "metadata": {},
     "output_type": "display_data"
    },
    {
     "data": {
      "application/vnd.jupyter.widget-view+json": {
       "model_id": "a0a73b8ff4ee4f929807af777fc3afde",
       "version_major": 2,
       "version_minor": 0
      },
      "text/plain": [
       "Filter:   0%|          | 0/16946 [00:00<?, ? examples/s]"
      ]
     },
     "metadata": {},
     "output_type": "display_data"
    },
    {
     "data": {
      "application/vnd.jupyter.widget-view+json": {
       "model_id": "b71f5d80b44d4814a2cfa46cdc645b10",
       "version_major": 2,
       "version_minor": 0
      },
      "text/plain": [
       "Map:   0%|          | 0/100 [00:00<?, ? examples/s]"
      ]
     },
     "metadata": {},
     "output_type": "display_data"
    },
    {
     "name": "stderr",
     "output_type": "stream",
     "text": [
      "Generating responses... : 100%|██████████| 1/1 [00:00<00:00,  1.00it/s]\n"
     ]
    },
    {
     "data": {
      "text/html": [
       "<pre style=\"white-space:pre;overflow-x:auto;line-height:normal;font-family:Menlo,'DejaVu Sans Mono',consolas,'Courier New',monospace\">\n",
       "                                                   <span style=\"font-weight: bold; text-decoration: underline\">INPUT PROMPT</span>                                                    \n",
       "\n",
       "Can we draw the following hypothesis from the context?                                                             \n",
       "\n",
       "Context:                                                                                                           \n",
       "\n",
       "Lee Il-hyung is a South Korean film director and screenwriter. Prior to directing his first feature film \"A Violent\n",
       "Prosecutor\" (2016), Lee is an assistant director on films, such as \"The Moonlight of Seoul\" (2008), \"My Way\" (2011)\n",
       "and \"\" (2014), and commercial films.                                                                               \n",
       "\n",
       "Hypothesis: A violent Prosecutor was screened in 2015                                                              \n",
       "\n",
       "OPTIONS:                                                                                                           \n",
       "\n",
       "<span style=\"color: #808000; text-decoration-color: #808000; font-weight: bold\"> • </span>entailment                                                                                                      \n",
       "<span style=\"color: #808000; text-decoration-color: #808000; font-weight: bold\"> • </span>neutral                                                                                                         \n",
       "<span style=\"color: #808000; text-decoration-color: #808000; font-weight: bold\"> • </span>contradiction                                                                                                   \n",
       "\n",
       "\n",
       "                                                   <span style=\"font-weight: bold; text-decoration: underline\">GROUND_TRUTH</span>                                                    \n",
       "\n",
       "contradiction                                                                                                      \n",
       "\n",
       "\n",
       "                                                   <span style=\"font-weight: bold; text-decoration: underline\">MODEL OUTPUT</span>                                                    \n",
       "\n",
       "neutral-cont- contradictioncontradiction                                                                           \n",
       "</pre>\n"
      ],
      "text/plain": [
       "\n",
       "                                                   \u001b[1;4mINPUT PROMPT\u001b[0m                                                    \n",
       "\n",
       "Can we draw the following hypothesis from the context?                                                             \n",
       "\n",
       "Context:                                                                                                           \n",
       "\n",
       "Lee Il-hyung is a South Korean film director and screenwriter. Prior to directing his first feature film \"A Violent\n",
       "Prosecutor\" (2016), Lee is an assistant director on films, such as \"The Moonlight of Seoul\" (2008), \"My Way\" (2011)\n",
       "and \"\" (2014), and commercial films.                                                                               \n",
       "\n",
       "Hypothesis: A violent Prosecutor was screened in 2015                                                              \n",
       "\n",
       "OPTIONS:                                                                                                           \n",
       "\n",
       "\u001b[1;33m • \u001b[0mentailment                                                                                                      \n",
       "\u001b[1;33m • \u001b[0mneutral                                                                                                         \n",
       "\u001b[1;33m • \u001b[0mcontradiction                                                                                                   \n",
       "\n",
       "\n",
       "                                                   \u001b[1;4mGROUND_TRUTH\u001b[0m                                                    \n",
       "\n",
       "contradiction                                                                                                      \n",
       "\n",
       "\n",
       "                                                   \u001b[1;4mMODEL OUTPUT\u001b[0m                                                    \n",
       "\n",
       "neutral-cont- contradictioncontradiction                                                                           \n"
      ]
     },
     "execution_count": 7,
     "metadata": {},
     "output_type": "execute_result"
    }
   ],
   "source": [
    "dataset = create_instruct_dataset(num_samples, [\"anli\"])\n",
    "example = dataset[0]\n",
    "prediction = eval.generate([example[\"prompt\"]], return_full_text=not CAUSAL_LM)[0]\n",
    "Markdown(template.format(prompt=example[\"prompt\"], \n",
    "                         completion=example[\"completion\"], \n",
    "                         prediction=prediction))"
   ]
  },
  {
   "cell_type": "markdown",
   "metadata": {},
   "source": [
    "## Common Gen"
   ]
  },
  {
   "cell_type": "code",
   "execution_count": 8,
   "metadata": {},
   "outputs": [
    {
     "name": "stderr",
     "output_type": "stream",
     "text": [
      "Generating responses... : 100%|██████████| 1/1 [00:00<00:00,  1.74it/s]\n"
     ]
    },
    {
     "data": {
      "text/html": [
       "<pre style=\"white-space:pre;overflow-x:auto;line-height:normal;font-family:Menlo,'DejaVu Sans Mono',consolas,'Courier New',monospace\">\n",
       "                                                   <span style=\"font-weight: bold; text-decoration: underline\">INPUT PROMPT</span>                                                    \n",
       "\n",
       "Here are some concepts: ['herd', 'dog', 'sheep']                                                                   \n",
       "\n",
       "What is a sentence about these concepts?                                                                           \n",
       "\n",
       "\n",
       "                                                   <span style=\"font-weight: bold; text-decoration: underline\">GROUND_TRUTH</span>                                                    \n",
       "\n",
       "A dog herds a sheep.                                                                                               \n",
       "\n",
       "\n",
       "                                                   <span style=\"font-weight: bold; text-decoration: underline\">MODEL OUTPUT</span>                                                    \n",
       "\n",
       "A herd of sheep are grazing together in a field.                                                                   \n",
       "</pre>\n"
      ],
      "text/plain": [
       "\n",
       "                                                   \u001b[1;4mINPUT PROMPT\u001b[0m                                                    \n",
       "\n",
       "Here are some concepts: ['herd', 'dog', 'sheep']                                                                   \n",
       "\n",
       "What is a sentence about these concepts?                                                                           \n",
       "\n",
       "\n",
       "                                                   \u001b[1;4mGROUND_TRUTH\u001b[0m                                                    \n",
       "\n",
       "A dog herds a sheep.                                                                                               \n",
       "\n",
       "\n",
       "                                                   \u001b[1;4mMODEL OUTPUT\u001b[0m                                                    \n",
       "\n",
       "A herd of sheep are grazing together in a field.                                                                   \n"
      ]
     },
     "execution_count": 8,
     "metadata": {},
     "output_type": "execute_result"
    }
   ],
   "source": [
    "dataset = create_instruct_dataset(num_samples, [\"common_gen\"])\n",
    "example = dataset[0]\n",
    "prediction = eval.generate([example[\"prompt\"]], return_full_text=not CAUSAL_LM)[0]\n",
    "Markdown(template.format(prompt=example[\"prompt\"], \n",
    "                         completion=example[\"completion\"], \n",
    "                         prediction=prediction))"
   ]
  },
  {
   "cell_type": "markdown",
   "metadata": {},
   "source": [
    "## SQUAD"
   ]
  },
  {
   "cell_type": "code",
   "execution_count": 9,
   "metadata": {},
   "outputs": [
    {
     "name": "stderr",
     "output_type": "stream",
     "text": [
      "Using the latest cached version of the dataset since rajpurkar/squad couldn't be found on the Hugging Face Hub\n",
      "Found the latest cached dataset configuration 'plain_text' at /home/oscarn/.cache/huggingface/datasets/rajpurkar___squad/plain_text/0.0.0/7b6d24c440a36b6815f21b70d25016731768db1f (last modified on Fri Nov 22 00:36:36 2024).\n"
     ]
    },
    {
     "data": {
      "application/vnd.jupyter.widget-view+json": {
       "model_id": "2d78b32c0c9641d883a6b915b5bd4e12",
       "version_major": 2,
       "version_minor": 0
      },
      "text/plain": [
       "Filter:   0%|          | 0/87599 [00:00<?, ? examples/s]"
      ]
     },
     "metadata": {},
     "output_type": "display_data"
    },
    {
     "data": {
      "application/vnd.jupyter.widget-view+json": {
       "model_id": "13bd016c647b4e1ab3c1b3a0228b56ff",
       "version_major": 2,
       "version_minor": 0
      },
      "text/plain": [
       "Map:   0%|          | 0/87241 [00:00<?, ? examples/s]"
      ]
     },
     "metadata": {},
     "output_type": "display_data"
    },
    {
     "data": {
      "application/vnd.jupyter.widget-view+json": {
       "model_id": "b46dba9ee412473791fab8e2041c915f",
       "version_major": 2,
       "version_minor": 0
      },
      "text/plain": [
       "Filter:   0%|          | 0/87241 [00:00<?, ? examples/s]"
      ]
     },
     "metadata": {},
     "output_type": "display_data"
    },
    {
     "data": {
      "application/vnd.jupyter.widget-view+json": {
       "model_id": "6fd59e9c44e74ecb8ae25f59fa893535",
       "version_major": 2,
       "version_minor": 0
      },
      "text/plain": [
       "Map:   0%|          | 0/100 [00:00<?, ? examples/s]"
      ]
     },
     "metadata": {},
     "output_type": "display_data"
    },
    {
     "name": "stderr",
     "output_type": "stream",
     "text": [
      "Generating responses... : 100%|██████████| 1/1 [00:00<00:00,  2.59it/s]\n"
     ]
    },
    {
     "data": {
      "text/html": [
       "<pre style=\"white-space:pre;overflow-x:auto;line-height:normal;font-family:Menlo,'DejaVu Sans Mono',consolas,'Courier New',monospace\">\n",
       "                                                   <span style=\"font-weight: bold; text-decoration: underline\">INPUT PROMPT</span>                                                    \n",
       "\n",
       "Ask a question about University_of_Notre_Dame.                                                                     \n",
       "\n",
       "\n",
       "                                                   <span style=\"font-weight: bold; text-decoration: underline\">GROUND_TRUTH</span>                                                    \n",
       "\n",
       "When did study of a germ-free-life begin at Notre Dame?                                                            \n",
       "\n",
       "\n",
       "                                                   <span style=\"font-weight: bold; text-decoration: underline\">MODEL OUTPUT</span>                                                    \n",
       "\n",
       "Who received the most votes in the top ten poll?                                                                   \n",
       "</pre>\n"
      ],
      "text/plain": [
       "\n",
       "                                                   \u001b[1;4mINPUT PROMPT\u001b[0m                                                    \n",
       "\n",
       "Ask a question about University_of_Notre_Dame.                                                                     \n",
       "\n",
       "\n",
       "                                                   \u001b[1;4mGROUND_TRUTH\u001b[0m                                                    \n",
       "\n",
       "When did study of a germ-free-life begin at Notre Dame?                                                            \n",
       "\n",
       "\n",
       "                                                   \u001b[1;4mMODEL OUTPUT\u001b[0m                                                    \n",
       "\n",
       "Who received the most votes in the top ten poll?                                                                   \n"
      ]
     },
     "execution_count": 9,
     "metadata": {},
     "output_type": "execute_result"
    }
   ],
   "source": [
    "dataset = create_instruct_dataset(num_samples, [\"squad\"])\n",
    "example = dataset[0]\n",
    "prediction = eval.generate([example[\"prompt\"]], return_full_text=not CAUSAL_LM)[0]\n",
    "Markdown(template.format(prompt=example[\"prompt\"], \n",
    "                         completion=example[\"completion\"], \n",
    "                         prediction=prediction))"
   ]
  },
  {
   "cell_type": "markdown",
   "metadata": {},
   "source": [
    "## Cosmos QA"
   ]
  },
  {
   "cell_type": "code",
   "execution_count": 10,
   "metadata": {},
   "outputs": [
    {
     "name": "stderr",
     "output_type": "stream",
     "text": [
      "Using the latest cached version of the module from /home/oscarn/.cache/huggingface/modules/datasets_modules/datasets/allenai--cosmos_qa/3e18538cbfdb2c04189b16642715f0f6da3e97ed5df0aadcec3641245b2cf157 (last modified on Fri Nov 22 00:37:03 2024) since it couldn't be found locally at allenai/cosmos_qa, or remotely on the Hugging Face Hub.\n"
     ]
    },
    {
     "data": {
      "application/vnd.jupyter.widget-view+json": {
       "model_id": "cc2ee45c2a9143788735f6f2a6f48644",
       "version_major": 2,
       "version_minor": 0
      },
      "text/plain": [
       "Map:   0%|          | 0/25262 [00:00<?, ? examples/s]"
      ]
     },
     "metadata": {},
     "output_type": "display_data"
    },
    {
     "data": {
      "application/vnd.jupyter.widget-view+json": {
       "model_id": "e9d0d7e0fc364bf28546ae637798aad3",
       "version_major": 2,
       "version_minor": 0
      },
      "text/plain": [
       "Filter:   0%|          | 0/25262 [00:00<?, ? examples/s]"
      ]
     },
     "metadata": {},
     "output_type": "display_data"
    },
    {
     "data": {
      "application/vnd.jupyter.widget-view+json": {
       "model_id": "74011bc7e66943e19ee75adf9e6052fb",
       "version_major": 2,
       "version_minor": 0
      },
      "text/plain": [
       "Map:   0%|          | 0/100 [00:00<?, ? examples/s]"
      ]
     },
     "metadata": {},
     "output_type": "display_data"
    },
    {
     "name": "stderr",
     "output_type": "stream",
     "text": [
      "Generating responses... : 100%|██████████| 1/1 [00:00<00:00,  4.89it/s]\n"
     ]
    },
    {
     "data": {
      "text/html": [
       "<pre style=\"white-space:pre;overflow-x:auto;line-height:normal;font-family:Menlo,'DejaVu Sans Mono',consolas,'Courier New',monospace\">\n",
       "                                                   <span style=\"font-weight: bold; text-decoration: underline\">INPUT PROMPT</span>                                                    \n",
       "\n",
       "Read the following article and answer the question.                                                                \n",
       "\n",
       "The flash in the room that followed was proof of that assumption . The man grabbed his arm again . \" Please let go \n",
       "of my arm . \" He requested , his voice low . \" Look .                                                              \n",
       "\n",
       "What may he feel if the man did not let go of his arm ? OPTIONS:                                                   \n",
       "\n",
       "<span style=\"color: #808000; text-decoration-color: #808000; font-weight: bold\"> • </span>He would feel happy .                                                                                           \n",
       "<span style=\"color: #808000; text-decoration-color: #808000; font-weight: bold\"> • </span>He would not feel anything .                                                                                    \n",
       "<span style=\"color: #808000; text-decoration-color: #808000; font-weight: bold\"> • </span>He would feel sad .                                                                                             \n",
       "<span style=\"color: #808000; text-decoration-color: #808000; font-weight: bold\"> • </span>He would feel annoyed .                                                                                         \n",
       "\n",
       "\n",
       "                                                   <span style=\"font-weight: bold; text-decoration: underline\">GROUND_TRUTH</span>                                                    \n",
       "\n",
       "He would feel annoyed .                                                                                            \n",
       "\n",
       "\n",
       "                                                   <span style=\"font-weight: bold; text-decoration: underline\">MODEL OUTPUT</span>                                                    \n",
       "\n",
       "He would feel sad.                                                                                                 \n",
       "</pre>\n"
      ],
      "text/plain": [
       "\n",
       "                                                   \u001b[1;4mINPUT PROMPT\u001b[0m                                                    \n",
       "\n",
       "Read the following article and answer the question.                                                                \n",
       "\n",
       "The flash in the room that followed was proof of that assumption . The man grabbed his arm again . \" Please let go \n",
       "of my arm . \" He requested , his voice low . \" Look .                                                              \n",
       "\n",
       "What may he feel if the man did not let go of his arm ? OPTIONS:                                                   \n",
       "\n",
       "\u001b[1;33m • \u001b[0mHe would feel happy .                                                                                           \n",
       "\u001b[1;33m • \u001b[0mHe would not feel anything .                                                                                    \n",
       "\u001b[1;33m • \u001b[0mHe would feel sad .                                                                                             \n",
       "\u001b[1;33m • \u001b[0mHe would feel annoyed .                                                                                         \n",
       "\n",
       "\n",
       "                                                   \u001b[1;4mGROUND_TRUTH\u001b[0m                                                    \n",
       "\n",
       "He would feel annoyed .                                                                                            \n",
       "\n",
       "\n",
       "                                                   \u001b[1;4mMODEL OUTPUT\u001b[0m                                                    \n",
       "\n",
       "He would feel sad.                                                                                                 \n"
      ]
     },
     "execution_count": 10,
     "metadata": {},
     "output_type": "execute_result"
    }
   ],
   "source": [
    "dataset = create_instruct_dataset(num_samples, [\"cosmos_qa\"])\n",
    "example = dataset[0]\n",
    "prediction = eval.generate([example[\"prompt\"]], return_full_text=not CAUSAL_LM)[0]\n",
    "Markdown(template.format(prompt=example[\"prompt\"], \n",
    "                         completion=example[\"completion\"], \n",
    "                         prediction=prediction))"
   ]
  },
  {
   "cell_type": "markdown",
   "metadata": {},
   "source": [
    "## CoQA"
   ]
  },
  {
   "cell_type": "code",
   "execution_count": 11,
   "metadata": {},
   "outputs": [
    {
     "data": {
      "application/vnd.jupyter.widget-view+json": {
       "model_id": "8cc73a48ceee4a77b03ad2c51ef69dc9",
       "version_major": 2,
       "version_minor": 0
      },
      "text/plain": [
       "Filter:   0%|          | 0/7199 [00:00<?, ? examples/s]"
      ]
     },
     "metadata": {},
     "output_type": "display_data"
    },
    {
     "data": {
      "application/vnd.jupyter.widget-view+json": {
       "model_id": "d39c0c7ce18f438bb638bd8b740e8edf",
       "version_major": 2,
       "version_minor": 0
      },
      "text/plain": [
       "Map:   0%|          | 0/4063 [00:00<?, ? examples/s]"
      ]
     },
     "metadata": {},
     "output_type": "display_data"
    },
    {
     "data": {
      "application/vnd.jupyter.widget-view+json": {
       "model_id": "cb91d51a25cc45a48c0501a50e3e8681",
       "version_major": 2,
       "version_minor": 0
      },
      "text/plain": [
       "Filter:   0%|          | 0/4063 [00:00<?, ? examples/s]"
      ]
     },
     "metadata": {},
     "output_type": "display_data"
    },
    {
     "data": {
      "application/vnd.jupyter.widget-view+json": {
       "model_id": "169970807423457aac2207042ece19e6",
       "version_major": 2,
       "version_minor": 0
      },
      "text/plain": [
       "Map:   0%|          | 0/100 [00:00<?, ? examples/s]"
      ]
     },
     "metadata": {},
     "output_type": "display_data"
    },
    {
     "name": "stderr",
     "output_type": "stream",
     "text": [
      "Generating responses... : 100%|██████████| 1/1 [00:04<00:00,  4.74s/it]\n"
     ]
    },
    {
     "data": {
      "text/html": [
       "<pre style=\"white-space:pre;overflow-x:auto;line-height:normal;font-family:Menlo,'DejaVu Sans Mono',consolas,'Courier New',monospace\">\n",
       "                                                   <span style=\"font-weight: bold; text-decoration: underline\">INPUT PROMPT</span>                                                    \n",
       "\n",
       "Ibn Rushd (; 14 April 1126 – 10 December 1198), full name (), often Latinized as Averroes (), was a medieval       \n",
       "Andalusian polymath. He wrote on logic, Aristotelian and Islamic philosophy, theology, the Maliki school of Islamic\n",
       "jurisprudence, psychology, political and Andalusian classical music theory, geography, mathematics, and the        \n",
       "mediæval sciences of medicine, astronomy, physics, and celestial mechanics. Ibn Rushd was born in Córdoba, Al      \n",
       "Andalus (present-day Spain), and died at Marrakesh in present-day Morocco. His body was interred in his family tomb\n",
       "at Córdoba. The 13th-century philosophical movement in Latin Christian and Jewish tradition based on Ibn Rushd's   \n",
       "work is called Averroism.                                                                                          \n",
       "\n",
       "Ibn Rushd was a defender of Aristotelian philosophy against Ash'ari theologians led by Al-Ghazali. Although highly \n",
       "regarded as a legal scholar of the Maliki school of Islamic law, Ibn Rushd's philosophical ideas were considered   \n",
       "controversial in Ash'arite Muslim circles. Whereas al-Ghazali believed that any individual act of a natural        \n",
       "phenomenon occurred only because God willed it to happen, Ibn Rushd insisted phenomena followed natural laws that  \n",
       "God created.                                                                                                       \n",
       "\n",
       "Ibn Rushd had a greater impact on Christian Europe, being known by the \"the Commentator\" for his detailed          \n",
       "emendations to Aristotle. Latin translations of Ibn Rushd's work led the way to the popularization of Aristotle.   \n",
       "\n",
       "<span style=\"color: #808000; text-decoration-color: #808000; font-weight: bold\">  1 </span>Where was Rushd born?                                                                                          \n",
       "<span style=\"color: #808000; text-decoration-color: #808000; font-weight: bold\">  2 </span>In what country is this today?                                                                                 \n",
       "<span style=\"color: #808000; text-decoration-color: #808000; font-weight: bold\">  3 </span>Where did he die?                                                                                              \n",
       "<span style=\"color: #808000; text-decoration-color: #808000; font-weight: bold\">  4 </span>In what modern place?                                                                                          \n",
       "<span style=\"color: #808000; text-decoration-color: #808000; font-weight: bold\">  5 </span>Where was he laid to rest?                                                                                     \n",
       "<span style=\"color: #808000; text-decoration-color: #808000; font-weight: bold\">  6 </span>Who was Rushd?                                                                                                 \n",
       "<span style=\"color: #808000; text-decoration-color: #808000; font-weight: bold\">  7 </span>What is one subject he wrote on?                                                                               \n",
       "<span style=\"color: #808000; text-decoration-color: #808000; font-weight: bold\">  8 </span>And another?                                                                                                   \n",
       "<span style=\"color: #808000; text-decoration-color: #808000; font-weight: bold\">  9 </span>And another?                                                                                                   \n",
       "<span style=\"color: #808000; text-decoration-color: #808000; font-weight: bold\"> 10 </span>Did he also write about the study of stars?                                                                    \n",
       "<span style=\"color: #808000; text-decoration-color: #808000; font-weight: bold\"> 11 </span>When was he born?                                                                                              \n",
       "<span style=\"color: #808000; text-decoration-color: #808000; font-weight: bold\"> 12 </span>When did he die?                                                                                               \n",
       "<span style=\"color: #808000; text-decoration-color: #808000; font-weight: bold\"> 13 </span>What did he defend?                                                                                            \n",
       "<span style=\"color: #808000; text-decoration-color: #808000; font-weight: bold\"> 14 </span>Against whom?                                                                                                  \n",
       "<span style=\"color: #808000; text-decoration-color: #808000; font-weight: bold\"> 15 </span>Who was their leader?                                                                                          \n",
       "<span style=\"color: #808000; text-decoration-color: #808000; font-weight: bold\"> 16 </span>By what title was Rushd known in Europe?                                                                       \n",
       "<span style=\"color: #808000; text-decoration-color: #808000; font-weight: bold\"> 17 </span>For what?                                                                                                      \n",
       "<span style=\"color: #808000; text-decoration-color: #808000; font-weight: bold\"> 18 </span>Did his work make Aristotle better known?                                                                      \n",
       "<span style=\"color: #808000; text-decoration-color: #808000; font-weight: bold\"> 19 </span>True or False: Rushd believed everything happened by the direct will of God.                                   \n",
       "<span style=\"color: #808000; text-decoration-color: #808000; font-weight: bold\"> 20 </span>Who did?                                                                                                       \n",
       "\n",
       "\n",
       "                                                   <span style=\"font-weight: bold; text-decoration: underline\">GROUND_TRUTH</span>                                                    \n",
       "\n",
       "<span style=\"color: #808000; text-decoration-color: #808000; font-weight: bold\">  1 </span>Córdoba, Al Andalus                                                                                            \n",
       "<span style=\"color: #808000; text-decoration-color: #808000; font-weight: bold\">  2 </span>Spain                                                                                                          \n",
       "<span style=\"color: #808000; text-decoration-color: #808000; font-weight: bold\">  3 </span>Marrakesh                                                                                                      \n",
       "<span style=\"color: #808000; text-decoration-color: #808000; font-weight: bold\">  4 </span>Morocco                                                                                                        \n",
       "<span style=\"color: #808000; text-decoration-color: #808000; font-weight: bold\">  5 </span>In his family tomb at Córdoba.                                                                                 \n",
       "<span style=\"color: #808000; text-decoration-color: #808000; font-weight: bold\">  6 </span>A medieval Andalusian polymath                                                                                 \n",
       "<span style=\"color: #808000; text-decoration-color: #808000; font-weight: bold\">  7 </span>logic                                                                                                          \n",
       "<span style=\"color: #808000; text-decoration-color: #808000; font-weight: bold\">  8 </span>theology                                                                                                       \n",
       "<span style=\"color: #808000; text-decoration-color: #808000; font-weight: bold\">  9 </span>geography                                                                                                      \n",
       "<span style=\"color: #808000; text-decoration-color: #808000; font-weight: bold\"> 10 </span>yes                                                                                                            \n",
       "<span style=\"color: #808000; text-decoration-color: #808000; font-weight: bold\"> 11 </span>14 April 1126                                                                                                  \n",
       "<span style=\"color: #808000; text-decoration-color: #808000; font-weight: bold\"> 12 </span>10 December 1198                                                                                               \n",
       "<span style=\"color: #808000; text-decoration-color: #808000; font-weight: bold\"> 13 </span>Aristotelian philosophy                                                                                        \n",
       "<span style=\"color: #808000; text-decoration-color: #808000; font-weight: bold\"> 14 </span>against Ash'ari theologians                                                                                    \n",
       "<span style=\"color: #808000; text-decoration-color: #808000; font-weight: bold\"> 15 </span>Al-Ghazali                                                                                                     \n",
       "<span style=\"color: #808000; text-decoration-color: #808000; font-weight: bold\"> 16 </span>\"the Commentator\"                                                                                              \n",
       "<span style=\"color: #808000; text-decoration-color: #808000; font-weight: bold\"> 17 </span>His emendations to Aristotle.                                                                                  \n",
       "<span style=\"color: #808000; text-decoration-color: #808000; font-weight: bold\"> 18 </span>yes                                                                                                            \n",
       "<span style=\"color: #808000; text-decoration-color: #808000; font-weight: bold\"> 19 </span>False.                                                                                                         \n",
       "<span style=\"color: #808000; text-decoration-color: #808000; font-weight: bold\"> 20 </span>al-Ghazali                                                                                                     \n",
       "\n",
       "\n",
       "                                                   <span style=\"font-weight: bold; text-decoration: underline\">MODEL OUTPUT</span>                                                    \n",
       "\n",
       "<span style=\"color: #808000; text-decoration-color: #808000; font-weight: bold\">  1 </span>Córdoba, Al Andalus                                                                                            \n",
       "<span style=\"color: #808000; text-decoration-color: #808000; font-weight: bold\">  2 </span>Córdoba, Al Andalus                                                                                            \n",
       "<span style=\"color: #808000; text-decoration-color: #808000; font-weight: bold\">  3 </span>Córdoba                                                                                                        \n",
       "<span style=\"color: #808000; text-decoration-color: #808000; font-weight: bold\">  4 </span>Córdoba                                                                                                        \n",
       "<span style=\"color: #808000; text-decoration-color: #808000; font-weight: bold\">  5 </span>Arabic                                                                                                         \n",
       "<span style=\"color: #808000; text-decoration-color: #808000; font-weight: bold\">  6 </span>Ibn Rushd                                                                                                      \n",
       "<span style=\"color: #808000; text-decoration-color: #808000; font-weight: bold\">  7 </span>logic, Aristotelian and Islamic philosophy, theology, political and Andalusian classical music theory,         \n",
       "<span style=\"color: #808000; text-decoration-color: #808000; font-weight: bold\">    </span>geography, math, political and Andalusian classical music theory, geography, chemistry, mathematics, and the   \n",
       "<span style=\"color: #808000; text-decoration-color: #808000; font-weight: bold\">    </span>mediæval sciences of medicine, astronomy, physics, and celestial mechanics.                                    \n",
       "<span style=\"color: #808000; text-decoration-color: #808000; font-weight: bold\">  8 </span>Al-Ghazali                                                                                                     \n",
       "<span style=\"color: #808000; text-decoration-color: #808000; font-weight: bold\">  9 </span>yes                                                                                                            \n",
       "<span style=\"color: #808000; text-decoration-color: #808000; font-weight: bold\"> 10 </span>Yes                                                                                                            \n",
       "<span style=\"color: #808000; text-decoration-color: #808000; font-weight: bold\"> 11 </span>14th centuries                                                                                                 \n",
       "<span style=\"color: #808000; text-decoration-color: #808000; font-weight: bold\"> 12 </span>14th century on the Maliki school of Islamic law                                                               \n",
       "<span style=\"color: #808000; text-decoration-color: #808000; font-weight: bold\"> 13 </span>yes                                                                                                            \n",
       "<span style=\"color: #808000; text-decoration-color: #808000; font-weight: bold\"> 14 </span>yes                                                                                                            \n",
       "</pre>\n"
      ],
      "text/plain": [
       "\n",
       "                                                   \u001b[1;4mINPUT PROMPT\u001b[0m                                                    \n",
       "\n",
       "Ibn Rushd (; 14 April 1126 – 10 December 1198), full name (), often Latinized as Averroes (), was a medieval       \n",
       "Andalusian polymath. He wrote on logic, Aristotelian and Islamic philosophy, theology, the Maliki school of Islamic\n",
       "jurisprudence, psychology, political and Andalusian classical music theory, geography, mathematics, and the        \n",
       "mediæval sciences of medicine, astronomy, physics, and celestial mechanics. Ibn Rushd was born in Córdoba, Al      \n",
       "Andalus (present-day Spain), and died at Marrakesh in present-day Morocco. His body was interred in his family tomb\n",
       "at Córdoba. The 13th-century philosophical movement in Latin Christian and Jewish tradition based on Ibn Rushd's   \n",
       "work is called Averroism.                                                                                          \n",
       "\n",
       "Ibn Rushd was a defender of Aristotelian philosophy against Ash'ari theologians led by Al-Ghazali. Although highly \n",
       "regarded as a legal scholar of the Maliki school of Islamic law, Ibn Rushd's philosophical ideas were considered   \n",
       "controversial in Ash'arite Muslim circles. Whereas al-Ghazali believed that any individual act of a natural        \n",
       "phenomenon occurred only because God willed it to happen, Ibn Rushd insisted phenomena followed natural laws that  \n",
       "God created.                                                                                                       \n",
       "\n",
       "Ibn Rushd had a greater impact on Christian Europe, being known by the \"the Commentator\" for his detailed          \n",
       "emendations to Aristotle. Latin translations of Ibn Rushd's work led the way to the popularization of Aristotle.   \n",
       "\n",
       "\u001b[1;33m  1 \u001b[0mWhere was Rushd born?                                                                                          \n",
       "\u001b[1;33m  2 \u001b[0mIn what country is this today?                                                                                 \n",
       "\u001b[1;33m  3 \u001b[0mWhere did he die?                                                                                              \n",
       "\u001b[1;33m  4 \u001b[0mIn what modern place?                                                                                          \n",
       "\u001b[1;33m  5 \u001b[0mWhere was he laid to rest?                                                                                     \n",
       "\u001b[1;33m  6 \u001b[0mWho was Rushd?                                                                                                 \n",
       "\u001b[1;33m  7 \u001b[0mWhat is one subject he wrote on?                                                                               \n",
       "\u001b[1;33m  8 \u001b[0mAnd another?                                                                                                   \n",
       "\u001b[1;33m  9 \u001b[0mAnd another?                                                                                                   \n",
       "\u001b[1;33m 10 \u001b[0mDid he also write about the study of stars?                                                                    \n",
       "\u001b[1;33m 11 \u001b[0mWhen was he born?                                                                                              \n",
       "\u001b[1;33m 12 \u001b[0mWhen did he die?                                                                                               \n",
       "\u001b[1;33m 13 \u001b[0mWhat did he defend?                                                                                            \n",
       "\u001b[1;33m 14 \u001b[0mAgainst whom?                                                                                                  \n",
       "\u001b[1;33m 15 \u001b[0mWho was their leader?                                                                                          \n",
       "\u001b[1;33m 16 \u001b[0mBy what title was Rushd known in Europe?                                                                       \n",
       "\u001b[1;33m 17 \u001b[0mFor what?                                                                                                      \n",
       "\u001b[1;33m 18 \u001b[0mDid his work make Aristotle better known?                                                                      \n",
       "\u001b[1;33m 19 \u001b[0mTrue or False: Rushd believed everything happened by the direct will of God.                                   \n",
       "\u001b[1;33m 20 \u001b[0mWho did?                                                                                                       \n",
       "\n",
       "\n",
       "                                                   \u001b[1;4mGROUND_TRUTH\u001b[0m                                                    \n",
       "\n",
       "\u001b[1;33m  1 \u001b[0mCórdoba, Al Andalus                                                                                            \n",
       "\u001b[1;33m  2 \u001b[0mSpain                                                                                                          \n",
       "\u001b[1;33m  3 \u001b[0mMarrakesh                                                                                                      \n",
       "\u001b[1;33m  4 \u001b[0mMorocco                                                                                                        \n",
       "\u001b[1;33m  5 \u001b[0mIn his family tomb at Córdoba.                                                                                 \n",
       "\u001b[1;33m  6 \u001b[0mA medieval Andalusian polymath                                                                                 \n",
       "\u001b[1;33m  7 \u001b[0mlogic                                                                                                          \n",
       "\u001b[1;33m  8 \u001b[0mtheology                                                                                                       \n",
       "\u001b[1;33m  9 \u001b[0mgeography                                                                                                      \n",
       "\u001b[1;33m 10 \u001b[0myes                                                                                                            \n",
       "\u001b[1;33m 11 \u001b[0m14 April 1126                                                                                                  \n",
       "\u001b[1;33m 12 \u001b[0m10 December 1198                                                                                               \n",
       "\u001b[1;33m 13 \u001b[0mAristotelian philosophy                                                                                        \n",
       "\u001b[1;33m 14 \u001b[0magainst Ash'ari theologians                                                                                    \n",
       "\u001b[1;33m 15 \u001b[0mAl-Ghazali                                                                                                     \n",
       "\u001b[1;33m 16 \u001b[0m\"the Commentator\"                                                                                              \n",
       "\u001b[1;33m 17 \u001b[0mHis emendations to Aristotle.                                                                                  \n",
       "\u001b[1;33m 18 \u001b[0myes                                                                                                            \n",
       "\u001b[1;33m 19 \u001b[0mFalse.                                                                                                         \n",
       "\u001b[1;33m 20 \u001b[0mal-Ghazali                                                                                                     \n",
       "\n",
       "\n",
       "                                                   \u001b[1;4mMODEL OUTPUT\u001b[0m                                                    \n",
       "\n",
       "\u001b[1;33m  1 \u001b[0mCórdoba, Al Andalus                                                                                            \n",
       "\u001b[1;33m  2 \u001b[0mCórdoba, Al Andalus                                                                                            \n",
       "\u001b[1;33m  3 \u001b[0mCórdoba                                                                                                        \n",
       "\u001b[1;33m  4 \u001b[0mCórdoba                                                                                                        \n",
       "\u001b[1;33m  5 \u001b[0mArabic                                                                                                         \n",
       "\u001b[1;33m  6 \u001b[0mIbn Rushd                                                                                                      \n",
       "\u001b[1;33m  7 \u001b[0mlogic, Aristotelian and Islamic philosophy, theology, political and Andalusian classical music theory,         \n",
       "\u001b[1;33m    \u001b[0mgeography, math, political and Andalusian classical music theory, geography, chemistry, mathematics, and the   \n",
       "\u001b[1;33m    \u001b[0mmediæval sciences of medicine, astronomy, physics, and celestial mechanics.                                    \n",
       "\u001b[1;33m  8 \u001b[0mAl-Ghazali                                                                                                     \n",
       "\u001b[1;33m  9 \u001b[0myes                                                                                                            \n",
       "\u001b[1;33m 10 \u001b[0mYes                                                                                                            \n",
       "\u001b[1;33m 11 \u001b[0m14th centuries                                                                                                 \n",
       "\u001b[1;33m 12 \u001b[0m14th century on the Maliki school of Islamic law                                                               \n",
       "\u001b[1;33m 13 \u001b[0myes                                                                                                            \n",
       "\u001b[1;33m 14 \u001b[0myes                                                                                                            \n"
      ]
     },
     "execution_count": 11,
     "metadata": {},
     "output_type": "execute_result"
    }
   ],
   "source": [
    "dataset = create_instruct_dataset(num_samples, [\"coqa\"])\n",
    "example = dataset[0]\n",
    "prediction = eval.generate([example[\"prompt\"]], max_tokens=150, return_full_text=not CAUSAL_LM)[0]\n",
    "Markdown(template.format(prompt=example[\"prompt\"], \n",
    "                         completion=example[\"completion\"], \n",
    "                         prediction=prediction))"
   ]
  },
  {
   "cell_type": "markdown",
   "metadata": {},
   "source": [
    "## XSum"
   ]
  },
  {
   "cell_type": "code",
   "execution_count": 12,
   "metadata": {},
   "outputs": [
    {
     "name": "stderr",
     "output_type": "stream",
     "text": [
      "Using the latest cached version of the dataset since EdinburghNLP/xsum couldn't be found on the Hugging Face Hub\n",
      "Found the latest cached dataset configuration 'default' at /home/oscarn/.cache/huggingface/datasets/EdinburghNLP___xsum/default/1.2.0/40db7604fedb616a9d2b0673d11838fa5be8451c (last modified on Sat Sep  6 17:13:49 2025).\n"
     ]
    },
    {
     "data": {
      "application/vnd.jupyter.widget-view+json": {
       "model_id": "7d4de0eaded345759ae578c004ffbeb8",
       "version_major": 2,
       "version_minor": 0
      },
      "text/plain": [
       "Filter:   0%|          | 0/204045 [00:00<?, ? examples/s]"
      ]
     },
     "metadata": {},
     "output_type": "display_data"
    },
    {
     "name": "stderr",
     "output_type": "stream",
     "text": [
      "Generating responses... : 100%|██████████| 1/1 [00:06<00:00,  6.18s/it]\n"
     ]
    },
    {
     "data": {
      "text/html": [
       "<pre style=\"white-space:pre;overflow-x:auto;line-height:normal;font-family:Menlo,'DejaVu Sans Mono',consolas,'Courier New',monospace\">\n",
       "                                                   <span style=\"font-weight: bold; text-decoration: underline\">INPUT PROMPT</span>                                                    \n",
       "\n",
       "Write an article based on this summary:                                                                            \n",
       "\n",
       "A giant chalk carving of a kiwi has been granted protected status on the centenary of a World War One battle.      \n",
       "\n",
       "\n",
       "                                                   <span style=\"font-weight: bold; text-decoration: underline\">GROUND_TRUTH</span>                                                    \n",
       "\n",
       "The 130m-tall (420ft) Bulford Kiwi, on Bulford Hill near Stonehenge, was carved by New Zealand troops who were     \n",
       "stationed there. The Department for Culture, Media and Sport has made it a scheduled monument on the advice of     \n",
       "Historic England. Kiwi soldiers played a significant role in the Battle of Messines, fought in June 1917 in        \n",
       "Belgium. Another monument at Cannock Chase in Staffordshire, marking the same battle, has also been granted        \n",
       "protection. The Terrain Model of Messines - a scale model of the battlefield - was made by German prisoners of war \n",
       "using soil, concrete, bricks and pebbles. The model was a popular tourist attraction at the end of the war, but it \n",
       "became neglected and was lost until it was recently excavated. It has now been covered over again to protect it    \n",
       "from damage and erosion. Roger Bowdler from Historic England said: \"These two monuments pay tribute to the bravery \n",
       "of New Zealand's fighting forces in the First World War and we are delighted that they are now being protected for \n",
       "the future. \"The Bulford Kiwi was cut into the chalk at the end of the war by Kiwi soldiers themselves, to mark the\n",
       "presence of their forces in England, and their achievements at the front. \"The taking of the Messines ridge was one\n",
       "of the war's most stirring attacks, and this model lay-out remains as testimony to the planning which made possible\n",
       "the victory. \"Like so much of our historic environment, these lasting reminders enable us to connect with lives and\n",
       "events from the past that made us who we are as a nation. \"One hundred years on, it is right to remember New       \n",
       "Zealand's valour.\" Sir Jerry Mateparae, New Zealand High Commissioner to the UK said: \"It's fantastic to see       \n",
       "Historic England protecting two very significant sites of huge importance for New Zealand. \"The special connections\n",
       "that were forged 100 years ago, with communities in the UK where New Zealanders trained, are still strong today and\n",
       "it's moving to see these sites protected for generations to come.\"                                                 \n",
       "\n",
       "\n",
       "                                                   <span style=\"font-weight: bold; text-decoration: underline\">MODEL OUTPUT</span>                                                    \n",
       "\n",
       "About 12,600 young women died in the battle, which started the week before. The carving shows Wotonga, a kiwi that \n",
       "went on to live its own life in South Africa. It is to close the memorial at an event on 24 September at the South \n",
       "African Museum and Gardens. It comes a month before the centenary of the battle, in which many of the wgne fought. \n",
       "There was also a memorial and a statue of Wotonga. They were named after the famous battle at Long Beach,          \n",
       "Queensland, in which Wotonga was killed. The group, which says it is trying to highlight \"whilst preserving the    \n",
       "legacy of South Africa's armed forces and the fighting that took place\", said it wanted to open the memorial to the\n",
       "public while allowing the ceremony through private events, as long as the event was not an official event. The     \n",
       "ceremony, which will be held on the 28 September, is expected to cost about $60                                    \n",
       "</pre>\n"
      ],
      "text/plain": [
       "\n",
       "                                                   \u001b[1;4mINPUT PROMPT\u001b[0m                                                    \n",
       "\n",
       "Write an article based on this summary:                                                                            \n",
       "\n",
       "A giant chalk carving of a kiwi has been granted protected status on the centenary of a World War One battle.      \n",
       "\n",
       "\n",
       "                                                   \u001b[1;4mGROUND_TRUTH\u001b[0m                                                    \n",
       "\n",
       "The 130m-tall (420ft) Bulford Kiwi, on Bulford Hill near Stonehenge, was carved by New Zealand troops who were     \n",
       "stationed there. The Department for Culture, Media and Sport has made it a scheduled monument on the advice of     \n",
       "Historic England. Kiwi soldiers played a significant role in the Battle of Messines, fought in June 1917 in        \n",
       "Belgium. Another monument at Cannock Chase in Staffordshire, marking the same battle, has also been granted        \n",
       "protection. The Terrain Model of Messines - a scale model of the battlefield - was made by German prisoners of war \n",
       "using soil, concrete, bricks and pebbles. The model was a popular tourist attraction at the end of the war, but it \n",
       "became neglected and was lost until it was recently excavated. It has now been covered over again to protect it    \n",
       "from damage and erosion. Roger Bowdler from Historic England said: \"These two monuments pay tribute to the bravery \n",
       "of New Zealand's fighting forces in the First World War and we are delighted that they are now being protected for \n",
       "the future. \"The Bulford Kiwi was cut into the chalk at the end of the war by Kiwi soldiers themselves, to mark the\n",
       "presence of their forces in England, and their achievements at the front. \"The taking of the Messines ridge was one\n",
       "of the war's most stirring attacks, and this model lay-out remains as testimony to the planning which made possible\n",
       "the victory. \"Like so much of our historic environment, these lasting reminders enable us to connect with lives and\n",
       "events from the past that made us who we are as a nation. \"One hundred years on, it is right to remember New       \n",
       "Zealand's valour.\" Sir Jerry Mateparae, New Zealand High Commissioner to the UK said: \"It's fantastic to see       \n",
       "Historic England protecting two very significant sites of huge importance for New Zealand. \"The special connections\n",
       "that were forged 100 years ago, with communities in the UK where New Zealanders trained, are still strong today and\n",
       "it's moving to see these sites protected for generations to come.\"                                                 \n",
       "\n",
       "\n",
       "                                                   \u001b[1;4mMODEL OUTPUT\u001b[0m                                                    \n",
       "\n",
       "About 12,600 young women died in the battle, which started the week before. The carving shows Wotonga, a kiwi that \n",
       "went on to live its own life in South Africa. It is to close the memorial at an event on 24 September at the South \n",
       "African Museum and Gardens. It comes a month before the centenary of the battle, in which many of the wgne fought. \n",
       "There was also a memorial and a statue of Wotonga. They were named after the famous battle at Long Beach,          \n",
       "Queensland, in which Wotonga was killed. The group, which says it is trying to highlight \"whilst preserving the    \n",
       "legacy of South Africa's armed forces and the fighting that took place\", said it wanted to open the memorial to the\n",
       "public while allowing the ceremony through private events, as long as the event was not an official event. The     \n",
       "ceremony, which will be held on the 28 September, is expected to cost about $60                                    \n"
      ]
     },
     "execution_count": 12,
     "metadata": {},
     "output_type": "execute_result"
    }
   ],
   "source": [
    "dataset = create_instruct_dataset(num_samples, [\"xsum\"])\n",
    "example = dataset[0]\n",
    "prediction = eval.generate([example[\"prompt\"]], return_full_text=not CAUSAL_LM)[0]\n",
    "Markdown(template.format(prompt=example[\"prompt\"], \n",
    "                         completion=example[\"completion\"], \n",
    "                         prediction=prediction))"
   ]
  },
  {
   "cell_type": "markdown",
   "metadata": {},
   "source": [
    "## BoolQ"
   ]
  },
  {
   "cell_type": "code",
   "execution_count": 13,
   "metadata": {},
   "outputs": [
    {
     "data": {
      "application/vnd.jupyter.widget-view+json": {
       "model_id": "203455cbde44462291e570f1000d1886",
       "version_major": 2,
       "version_minor": 0
      },
      "text/plain": [
       "Filter:   0%|          | 0/9427 [00:00<?, ? examples/s]"
      ]
     },
     "metadata": {},
     "output_type": "display_data"
    },
    {
     "data": {
      "application/vnd.jupyter.widget-view+json": {
       "model_id": "4b74ce6ab1364565b3f069c2df87bfd6",
       "version_major": 2,
       "version_minor": 0
      },
      "text/plain": [
       "Map:   0%|          | 0/9399 [00:00<?, ? examples/s]"
      ]
     },
     "metadata": {},
     "output_type": "display_data"
    },
    {
     "data": {
      "application/vnd.jupyter.widget-view+json": {
       "model_id": "7a21bb0e057f412abbdb63253ef646b5",
       "version_major": 2,
       "version_minor": 0
      },
      "text/plain": [
       "Filter:   0%|          | 0/9399 [00:00<?, ? examples/s]"
      ]
     },
     "metadata": {},
     "output_type": "display_data"
    },
    {
     "data": {
      "application/vnd.jupyter.widget-view+json": {
       "model_id": "e2d3c81e1c2f406bbd31a8033e72df1a",
       "version_major": 2,
       "version_minor": 0
      },
      "text/plain": [
       "Map:   0%|          | 0/100 [00:00<?, ? examples/s]"
      ]
     },
     "metadata": {},
     "output_type": "display_data"
    },
    {
     "name": "stderr",
     "output_type": "stream",
     "text": [
      "Generating responses... : 100%|██████████| 1/1 [00:02<00:00,  2.95s/it]\n"
     ]
    },
    {
     "data": {
      "text/html": [
       "<pre style=\"white-space:pre;overflow-x:auto;line-height:normal;font-family:Menlo,'DejaVu Sans Mono',consolas,'Courier New',monospace\">\n",
       "                                                   <span style=\"font-weight: bold; text-decoration: underline\">INPUT PROMPT</span>                                                    \n",
       "\n",
       "In the 1998 war film Saving Private Ryan, General George Marshall (played by Harve Presnell) reads the Bixby letter\n",
       "to his officers before giving the order to find and send home Private James Francis Ryan after Ryan's three        \n",
       "brothers died in battle.                                                                                           \n",
       "\n",
       "What's the best answer to this question: did abraham lincoln write the letter in saving private ryan?              \n",
       "\n",
       "OPTIONS:                                                                                                           \n",
       "\n",
       "<span style=\"color: #808000; text-decoration-color: #808000; font-weight: bold\"> • </span>True                                                                                                            \n",
       "<span style=\"color: #808000; text-decoration-color: #808000; font-weight: bold\"> • </span>False                                                                                                           \n",
       "\n",
       "\n",
       "                                                   <span style=\"font-weight: bold; text-decoration: underline\">GROUND_TRUTH</span>                                                    \n",
       "\n",
       "True                                                                                                               \n",
       "\n",
       "\n",
       "                                                   <span style=\"font-weight: bold; text-decoration: underline\">MODEL OUTPUT</span>                                                    \n",
       "\n",
       "True- True- FalseTrue- True- FalseTrue- True- True- FalseTrue- True- True- True- True- True- Good_A- Yes- Yes- Yes-\n",
       "Yes- Yes- True- Yes- Yes- None_ Yes- Good-Good-Good-Yes-                                                           \n",
       "Good-Good-Good-Good-Good-Good-Good-Good-Good-Good-Good-Good-Good-Good-Good-Good-Good                               \n",
       "</pre>\n"
      ],
      "text/plain": [
       "\n",
       "                                                   \u001b[1;4mINPUT PROMPT\u001b[0m                                                    \n",
       "\n",
       "In the 1998 war film Saving Private Ryan, General George Marshall (played by Harve Presnell) reads the Bixby letter\n",
       "to his officers before giving the order to find and send home Private James Francis Ryan after Ryan's three        \n",
       "brothers died in battle.                                                                                           \n",
       "\n",
       "What's the best answer to this question: did abraham lincoln write the letter in saving private ryan?              \n",
       "\n",
       "OPTIONS:                                                                                                           \n",
       "\n",
       "\u001b[1;33m • \u001b[0mTrue                                                                                                            \n",
       "\u001b[1;33m • \u001b[0mFalse                                                                                                           \n",
       "\n",
       "\n",
       "                                                   \u001b[1;4mGROUND_TRUTH\u001b[0m                                                    \n",
       "\n",
       "True                                                                                                               \n",
       "\n",
       "\n",
       "                                                   \u001b[1;4mMODEL OUTPUT\u001b[0m                                                    \n",
       "\n",
       "True- True- FalseTrue- True- FalseTrue- True- True- FalseTrue- True- True- True- True- True- Good_A- Yes- Yes- Yes-\n",
       "Yes- Yes- True- Yes- Yes- None_ Yes- Good-Good-Good-Yes-                                                           \n",
       "Good-Good-Good-Good-Good-Good-Good-Good-Good-Good-Good-Good-Good-Good-Good-Good-Good                               \n"
      ]
     },
     "execution_count": 13,
     "metadata": {},
     "output_type": "execute_result"
    }
   ],
   "source": [
    "dataset = create_instruct_dataset(num_samples, [\"bool_q\"])\n",
    "example = dataset[0]\n",
    "prediction = eval.generate([example[\"prompt\"]], return_full_text=not CAUSAL_LM)[0]\n",
    "Markdown(template.format(prompt=example[\"prompt\"], \n",
    "                         completion=example[\"completion\"], \n",
    "                         prediction=prediction))"
   ]
  },
  {
   "cell_type": "markdown",
   "metadata": {},
   "source": [
    "## Python Code"
   ]
  },
  {
   "cell_type": "code",
   "execution_count": 14,
   "metadata": {},
   "outputs": [
    {
     "data": {
      "application/vnd.jupyter.widget-view+json": {
       "model_id": "5097566c848144aaad7e92253102a5de",
       "version_major": 2,
       "version_minor": 0
      },
      "text/plain": [
       "Filter:   0%|          | 0/16750 [00:00<?, ? examples/s]"
      ]
     },
     "metadata": {},
     "output_type": "display_data"
    },
    {
     "data": {
      "application/vnd.jupyter.widget-view+json": {
       "model_id": "fab3025c308845ebb0658c52a620fd80",
       "version_major": 2,
       "version_minor": 0
      },
      "text/plain": [
       "Map:   0%|          | 0/16237 [00:00<?, ? examples/s]"
      ]
     },
     "metadata": {},
     "output_type": "display_data"
    },
    {
     "data": {
      "application/vnd.jupyter.widget-view+json": {
       "model_id": "420af2cf13164b95b22929d840897e14",
       "version_major": 2,
       "version_minor": 0
      },
      "text/plain": [
       "Filter:   0%|          | 0/16237 [00:00<?, ? examples/s]"
      ]
     },
     "metadata": {},
     "output_type": "display_data"
    },
    {
     "data": {
      "application/vnd.jupyter.widget-view+json": {
       "model_id": "4a3879ef20854be19dcc37d8f852af01",
       "version_major": 2,
       "version_minor": 0
      },
      "text/plain": [
       "Map:   0%|          | 0/100 [00:00<?, ? examples/s]"
      ]
     },
     "metadata": {},
     "output_type": "display_data"
    },
    {
     "name": "stderr",
     "output_type": "stream",
     "text": [
      "Generating responses... : 100%|██████████| 1/1 [00:06<00:00,  6.46s/it]\n"
     ]
    },
    {
     "data": {
      "text/html": [
       "<pre style=\"white-space:pre;overflow-x:auto;line-height:normal;font-family:Menlo,'DejaVu Sans Mono',consolas,'Courier New',monospace\">\n",
       "                                                   <span style=\"font-weight: bold; text-decoration: underline\">INPUT PROMPT</span>                                                    \n",
       "\n",
       "Write a Python program that removes duplicates from a list. Input List: [1, 2, 3, 4, 3, 2, 1]                      \n",
       "\n",
       "\n",
       "                                                   <span style=\"font-weight: bold; text-decoration: underline\">GROUND_TRUTH</span>                                                    \n",
       "\n",
       "<span style=\"background-color: #272822\">                                                                                                                   \n",
       " </span><span style=\"color: #66d9ef; text-decoration-color: #66d9ef; background-color: #272822\">def</span><span style=\"color: #f8f8f2; text-decoration-color: #f8f8f2; background-color: #272822\"> </span><span style=\"color: #a6e22e; text-decoration-color: #a6e22e; background-color: #272822\">remove_duplicates</span><span style=\"color: #f8f8f2; text-decoration-color: #f8f8f2; background-color: #272822\">(my_list):</span><span style=\"background-color: #272822\">                                                                                   </span>\n",
       "<span style=\"background-color: #272822\"> </span><span style=\"color: #f8f8f2; text-decoration-color: #f8f8f2; background-color: #272822\"> </span><span style=\"color: #66d9ef; text-decoration-color: #66d9ef; background-color: #272822\">return</span><span style=\"color: #f8f8f2; text-decoration-color: #f8f8f2; background-color: #272822\"> list(dict</span><span style=\"color: #ff4689; text-decoration-color: #ff4689; background-color: #272822\">.</span><span style=\"color: #f8f8f2; text-decoration-color: #f8f8f2; background-color: #272822\">fromkeys(my_list))</span><span style=\"background-color: #272822\">                                                                              </span>\n",
       "<span style=\"background-color: #272822\">                                                                                                                   </span>\n",
       "<span style=\"background-color: #272822\"> </span><span style=\"color: #f8f8f2; text-decoration-color: #f8f8f2; background-color: #272822\">my_list </span><span style=\"color: #ff4689; text-decoration-color: #ff4689; background-color: #272822\">=</span><span style=\"color: #f8f8f2; text-decoration-color: #f8f8f2; background-color: #272822\"> [</span><span style=\"color: #ae81ff; text-decoration-color: #ae81ff; background-color: #272822\">1</span><span style=\"color: #f8f8f2; text-decoration-color: #f8f8f2; background-color: #272822\">, </span><span style=\"color: #ae81ff; text-decoration-color: #ae81ff; background-color: #272822\">2</span><span style=\"color: #f8f8f2; text-decoration-color: #f8f8f2; background-color: #272822\">, </span><span style=\"color: #ae81ff; text-decoration-color: #ae81ff; background-color: #272822\">3</span><span style=\"color: #f8f8f2; text-decoration-color: #f8f8f2; background-color: #272822\">, </span><span style=\"color: #ae81ff; text-decoration-color: #ae81ff; background-color: #272822\">4</span><span style=\"color: #f8f8f2; text-decoration-color: #f8f8f2; background-color: #272822\">, </span><span style=\"color: #ae81ff; text-decoration-color: #ae81ff; background-color: #272822\">3</span><span style=\"color: #f8f8f2; text-decoration-color: #f8f8f2; background-color: #272822\">, </span><span style=\"color: #ae81ff; text-decoration-color: #ae81ff; background-color: #272822\">2</span><span style=\"color: #f8f8f2; text-decoration-color: #f8f8f2; background-color: #272822\">, </span><span style=\"color: #ae81ff; text-decoration-color: #ae81ff; background-color: #272822\">1</span><span style=\"color: #f8f8f2; text-decoration-color: #f8f8f2; background-color: #272822\">]</span><span style=\"background-color: #272822\">                                                                                   </span>\n",
       "<span style=\"background-color: #272822\">                                                                                                                   </span>\n",
       "<span style=\"background-color: #272822\"> </span><span style=\"color: #f8f8f2; text-decoration-color: #f8f8f2; background-color: #272822\">print(remove_duplicates(my_list)) </span><span style=\"color: #959077; text-decoration-color: #959077; background-color: #272822\"># output [1, 2, 3, 4]</span><span style=\"background-color: #272822\">                                                           </span>\n",
       "<span style=\"background-color: #272822\">                                                                                                                   \n",
       "</span>\n",
       "\n",
       "                                                   <span style=\"font-weight: bold; text-decoration: underline\">MODEL OUTPUT</span>                                                    \n",
       "\n",
       "<span style=\"background-color: #272822\">                                                                                                                   \n",
       " </span><span style=\"color: #959077; text-decoration-color: #959077; background-color: #272822\"># Create a loop to loop over a list of numbers</span><span style=\"background-color: #272822\">                                                                    </span>\n",
       "<span style=\"background-color: #272822\"> </span><span style=\"color: #66d9ef; text-decoration-color: #66d9ef; background-color: #272822\">for</span><span style=\"color: #f8f8f2; text-decoration-color: #f8f8f2; background-color: #272822\"> i </span><span style=\"color: #ff4689; text-decoration-color: #ff4689; background-color: #272822\">in</span><span style=\"color: #f8f8f2; text-decoration-color: #f8f8f2; background-color: #272822\"> range(</span><span style=\"color: #ae81ff; text-decoration-color: #ae81ff; background-color: #272822\">1</span><span style=\"color: #f8f8f2; text-decoration-color: #f8f8f2; background-color: #272822\">, len(input_list)):</span><span style=\"background-color: #272822\">                                                                               </span>\n",
       "<span style=\"background-color: #272822\"> </span><span style=\"color: #f8f8f2; text-decoration-color: #f8f8f2; background-color: #272822\">    </span><span style=\"color: #959077; text-decoration-color: #959077; background-color: #272822\"># Loop over the duplicates, remove duplicates and remove duplicates from the list</span><span style=\"background-color: #272822\">                             </span>\n",
       "<span style=\"background-color: #272822\"> </span><span style=\"color: #f8f8f2; text-decoration-color: #f8f8f2; background-color: #272822\">    </span><span style=\"color: #66d9ef; text-decoration-color: #66d9ef; background-color: #272822\">while</span><span style=\"color: #f8f8f2; text-decoration-color: #f8f8f2; background-color: #272822\"> i </span><span style=\"color: #ff4689; text-decoration-color: #ff4689; background-color: #272822\">&lt;=</span><span style=\"color: #f8f8f2; text-decoration-color: #f8f8f2; background-color: #272822\"> len(input_list):</span><span style=\"background-color: #272822\">                                                                                   </span>\n",
       "<span style=\"background-color: #272822\"> </span><span style=\"color: #f8f8f2; text-decoration-color: #f8f8f2; background-color: #272822\">        </span><span style=\"color: #66d9ef; text-decoration-color: #66d9ef; background-color: #272822\">if</span><span style=\"color: #f8f8f2; text-decoration-color: #f8f8f2; background-color: #272822\"> i </span><span style=\"color: #ff4689; text-decoration-color: #ff4689; background-color: #272822\">not</span><span style=\"color: #f8f8f2; text-decoration-color: #f8f8f2; background-color: #272822\"> </span><span style=\"color: #ff4689; text-decoration-color: #ff4689; background-color: #272822\">in</span><span style=\"color: #f8f8f2; text-decoration-color: #f8f8f2; background-color: #272822\"> input_list:</span><span style=\"background-color: #272822\">                                                                                   </span>\n",
       "<span style=\"background-color: #272822\"> </span><span style=\"color: #f8f8f2; text-decoration-color: #f8f8f2; background-color: #272822\">            i </span><span style=\"color: #ff4689; text-decoration-color: #ff4689; background-color: #272822\">+=</span><span style=\"color: #f8f8f2; text-decoration-color: #f8f8f2; background-color: #272822\"> </span><span style=\"color: #ae81ff; text-decoration-color: #ae81ff; background-color: #272822\">1</span><span style=\"background-color: #272822\">                                                                                                </span>\n",
       "<span style=\"background-color: #272822\"> </span><span style=\"color: #f8f8f2; text-decoration-color: #f8f8f2; background-color: #272822\">         </span><span style=\"color: #66d9ef; text-decoration-color: #66d9ef; background-color: #272822\">else</span><span style=\"color: #f8f8f2; text-decoration-color: #f8f8f2; background-color: #272822\">:</span><span style=\"background-color: #272822\">                                                                                                    </span>\n",
       "<span style=\"background-color: #272822\"> </span><span style=\"color: #f8f8f2; text-decoration-color: #f8f8f2; background-color: #272822\">             output_list </span><span style=\"color: #ff4689; text-decoration-color: #ff4689; background-color: #272822\">=</span><span style=\"color: #f8f8f2; text-decoration-color: #f8f8f2; background-color: #272822\"> input_list[i</span><span style=\"color: #ff4689; text-decoration-color: #ff4689; background-color: #272822\">-</span><span style=\"color: #ae81ff; text-decoration-color: #ae81ff; background-color: #272822\">1</span><span style=\"color: #f8f8f2; text-decoration-color: #f8f8f2; background-color: #272822\">]</span><span style=\"background-color: #272822\">                                                                        </span>\n",
       "<span style=\"background-color: #272822\"> </span><span style=\"color: #f8f8f2; text-decoration-color: #f8f8f2; background-color: #272822\">          </span><span style=\"color: #66d9ef; text-decoration-color: #66d9ef; background-color: #272822\">break</span><span style=\"background-color: #272822\">                                                                                                   </span>\n",
       "<span style=\"background-color: #272822\"> </span><span style=\"color: #f8f8f2; text-decoration-color: #f8f8f2; background-color: #272822\">           </span><span style=\"color: #66d9ef; text-decoration-color: #66d9ef; background-color: #272822\">break</span><span style=\"background-color: #272822\">                                                                                                  </span>\n",
       "<span style=\"background-color: #272822\"> </span><span style=\"color: #f8f8f2; text-decoration-color: #f8f8f2; background-color: #272822\">         </span><span style=\"color: #959077; text-decoration-color: #959077; background-color: #272822\"># Remove duplicates from the result list</span><span style=\"background-color: #272822\">                                                                 </span>\n",
       "<span style=\"background-color: #272822\"> </span><span style=\"color: #f8f8f2; text-decoration-color: #f8f8f2; background-color: #272822\">        </span><span style=\"color: #66d9ef; text-decoration-color: #66d9ef; background-color: #272822\">if</span><span style=\"color: #f8f8f2; text-decoration-color: #f8f8f2; background-color: #272822\"> i </span><span style=\"color: #ff4689; text-decoration-color: #ff4689; background-color: #272822\">not</span><span style=\"color: #f8f8f2; text-decoration-color: #f8f8f2; background-color: #272822\"> </span><span style=\"color: #ff4689; text-decoration-color: #ff4689; background-color: #272822\">in</span><span style=\"color: #f8f8f2; text-decoration-color: #f8f8f2; background-color: #272822\"> output_list: </span><span style=\"background-color: #272822\">                                                                                 </span>\n",
       "<span style=\"background-color: #272822\"> </span><span style=\"color: #f8f8f2; text-decoration-color: #f8f8f2; background-color: #272822\">            output_list</span><span style=\"color: #ff4689; text-decoration-color: #ff4689; background-color: #272822\">.</span><span style=\"color: #f8f8f2; text-decoration-color: #f8f8f2; background-color: #272822\">remove(i)</span><span style=\"background-color: #272822\">                                                                                 </span>\n",
       "<span style=\"background-color: #272822\">                                                                                                                   \n",
       "</span></pre>\n"
      ],
      "text/plain": [
       "\n",
       "                                                   \u001b[1;4mINPUT PROMPT\u001b[0m                                                    \n",
       "\n",
       "Write a Python program that removes duplicates from a list. Input List: [1, 2, 3, 4, 3, 2, 1]                      \n",
       "\n",
       "\n",
       "                                                   \u001b[1;4mGROUND_TRUTH\u001b[0m                                                    \n",
       "\n",
       "\u001b[48;2;39;40;34m                                                                                                                   \n",
       "\u001b[0m\u001b[48;2;39;40;34m \u001b[0m\u001b[38;2;102;217;239;48;2;39;40;34mdef\u001b[0m\u001b[38;2;248;248;242;48;2;39;40;34m \u001b[0m\u001b[38;2;166;226;46;48;2;39;40;34mremove_duplicates\u001b[0m\u001b[38;2;248;248;242;48;2;39;40;34m(\u001b[0m\u001b[38;2;248;248;242;48;2;39;40;34mmy_list\u001b[0m\u001b[38;2;248;248;242;48;2;39;40;34m)\u001b[0m\u001b[38;2;248;248;242;48;2;39;40;34m:\u001b[0m\u001b[48;2;39;40;34m                                                                                  \u001b[0m\u001b[48;2;39;40;34m \u001b[0m\n",
       "\u001b[48;2;39;40;34m \u001b[0m\u001b[38;2;248;248;242;48;2;39;40;34m \u001b[0m\u001b[38;2;102;217;239;48;2;39;40;34mreturn\u001b[0m\u001b[38;2;248;248;242;48;2;39;40;34m \u001b[0m\u001b[38;2;248;248;242;48;2;39;40;34mlist\u001b[0m\u001b[38;2;248;248;242;48;2;39;40;34m(\u001b[0m\u001b[38;2;248;248;242;48;2;39;40;34mdict\u001b[0m\u001b[38;2;255;70;137;48;2;39;40;34m.\u001b[0m\u001b[38;2;248;248;242;48;2;39;40;34mfromkeys\u001b[0m\u001b[38;2;248;248;242;48;2;39;40;34m(\u001b[0m\u001b[38;2;248;248;242;48;2;39;40;34mmy_list\u001b[0m\u001b[38;2;248;248;242;48;2;39;40;34m)\u001b[0m\u001b[38;2;248;248;242;48;2;39;40;34m)\u001b[0m\u001b[48;2;39;40;34m                                                                             \u001b[0m\u001b[48;2;39;40;34m \u001b[0m\n",
       "\u001b[48;2;39;40;34m \u001b[0m\u001b[48;2;39;40;34m                                                                                                                 \u001b[0m\u001b[48;2;39;40;34m \u001b[0m\n",
       "\u001b[48;2;39;40;34m \u001b[0m\u001b[38;2;248;248;242;48;2;39;40;34mmy_list\u001b[0m\u001b[38;2;248;248;242;48;2;39;40;34m \u001b[0m\u001b[38;2;255;70;137;48;2;39;40;34m=\u001b[0m\u001b[38;2;248;248;242;48;2;39;40;34m \u001b[0m\u001b[38;2;248;248;242;48;2;39;40;34m[\u001b[0m\u001b[38;2;174;129;255;48;2;39;40;34m1\u001b[0m\u001b[38;2;248;248;242;48;2;39;40;34m,\u001b[0m\u001b[38;2;248;248;242;48;2;39;40;34m \u001b[0m\u001b[38;2;174;129;255;48;2;39;40;34m2\u001b[0m\u001b[38;2;248;248;242;48;2;39;40;34m,\u001b[0m\u001b[38;2;248;248;242;48;2;39;40;34m \u001b[0m\u001b[38;2;174;129;255;48;2;39;40;34m3\u001b[0m\u001b[38;2;248;248;242;48;2;39;40;34m,\u001b[0m\u001b[38;2;248;248;242;48;2;39;40;34m \u001b[0m\u001b[38;2;174;129;255;48;2;39;40;34m4\u001b[0m\u001b[38;2;248;248;242;48;2;39;40;34m,\u001b[0m\u001b[38;2;248;248;242;48;2;39;40;34m \u001b[0m\u001b[38;2;174;129;255;48;2;39;40;34m3\u001b[0m\u001b[38;2;248;248;242;48;2;39;40;34m,\u001b[0m\u001b[38;2;248;248;242;48;2;39;40;34m \u001b[0m\u001b[38;2;174;129;255;48;2;39;40;34m2\u001b[0m\u001b[38;2;248;248;242;48;2;39;40;34m,\u001b[0m\u001b[38;2;248;248;242;48;2;39;40;34m \u001b[0m\u001b[38;2;174;129;255;48;2;39;40;34m1\u001b[0m\u001b[38;2;248;248;242;48;2;39;40;34m]\u001b[0m\u001b[48;2;39;40;34m                                                                                  \u001b[0m\u001b[48;2;39;40;34m \u001b[0m\n",
       "\u001b[48;2;39;40;34m \u001b[0m\u001b[48;2;39;40;34m                                                                                                                 \u001b[0m\u001b[48;2;39;40;34m \u001b[0m\n",
       "\u001b[48;2;39;40;34m \u001b[0m\u001b[38;2;248;248;242;48;2;39;40;34mprint\u001b[0m\u001b[38;2;248;248;242;48;2;39;40;34m(\u001b[0m\u001b[38;2;248;248;242;48;2;39;40;34mremove_duplicates\u001b[0m\u001b[38;2;248;248;242;48;2;39;40;34m(\u001b[0m\u001b[38;2;248;248;242;48;2;39;40;34mmy_list\u001b[0m\u001b[38;2;248;248;242;48;2;39;40;34m)\u001b[0m\u001b[38;2;248;248;242;48;2;39;40;34m)\u001b[0m\u001b[38;2;248;248;242;48;2;39;40;34m \u001b[0m\u001b[38;2;149;144;119;48;2;39;40;34m# output [1, 2, 3, 4]\u001b[0m\u001b[48;2;39;40;34m                                                          \u001b[0m\u001b[48;2;39;40;34m \u001b[0m\n",
       "\u001b[48;2;39;40;34m                                                                                                                   \n",
       "\u001b[0m\n",
       "\n",
       "                                                   \u001b[1;4mMODEL OUTPUT\u001b[0m                                                    \n",
       "\n",
       "\u001b[48;2;39;40;34m                                                                                                                   \n",
       "\u001b[0m\u001b[48;2;39;40;34m \u001b[0m\u001b[38;2;149;144;119;48;2;39;40;34m# Create a loop to loop over a list of numbers\u001b[0m\u001b[48;2;39;40;34m                                                                   \u001b[0m\u001b[48;2;39;40;34m \u001b[0m\n",
       "\u001b[48;2;39;40;34m \u001b[0m\u001b[38;2;102;217;239;48;2;39;40;34mfor\u001b[0m\u001b[38;2;248;248;242;48;2;39;40;34m \u001b[0m\u001b[38;2;248;248;242;48;2;39;40;34mi\u001b[0m\u001b[38;2;248;248;242;48;2;39;40;34m \u001b[0m\u001b[38;2;255;70;137;48;2;39;40;34min\u001b[0m\u001b[38;2;248;248;242;48;2;39;40;34m \u001b[0m\u001b[38;2;248;248;242;48;2;39;40;34mrange\u001b[0m\u001b[38;2;248;248;242;48;2;39;40;34m(\u001b[0m\u001b[38;2;174;129;255;48;2;39;40;34m1\u001b[0m\u001b[38;2;248;248;242;48;2;39;40;34m,\u001b[0m\u001b[38;2;248;248;242;48;2;39;40;34m \u001b[0m\u001b[38;2;248;248;242;48;2;39;40;34mlen\u001b[0m\u001b[38;2;248;248;242;48;2;39;40;34m(\u001b[0m\u001b[38;2;248;248;242;48;2;39;40;34minput_list\u001b[0m\u001b[38;2;248;248;242;48;2;39;40;34m)\u001b[0m\u001b[38;2;248;248;242;48;2;39;40;34m)\u001b[0m\u001b[38;2;248;248;242;48;2;39;40;34m:\u001b[0m\u001b[48;2;39;40;34m                                                                              \u001b[0m\u001b[48;2;39;40;34m \u001b[0m\n",
       "\u001b[48;2;39;40;34m \u001b[0m\u001b[38;2;248;248;242;48;2;39;40;34m    \u001b[0m\u001b[38;2;149;144;119;48;2;39;40;34m# Loop over the duplicates, remove duplicates and remove duplicates from the list\u001b[0m\u001b[48;2;39;40;34m                            \u001b[0m\u001b[48;2;39;40;34m \u001b[0m\n",
       "\u001b[48;2;39;40;34m \u001b[0m\u001b[38;2;248;248;242;48;2;39;40;34m    \u001b[0m\u001b[38;2;102;217;239;48;2;39;40;34mwhile\u001b[0m\u001b[38;2;248;248;242;48;2;39;40;34m \u001b[0m\u001b[38;2;248;248;242;48;2;39;40;34mi\u001b[0m\u001b[38;2;248;248;242;48;2;39;40;34m \u001b[0m\u001b[38;2;255;70;137;48;2;39;40;34m<\u001b[0m\u001b[38;2;255;70;137;48;2;39;40;34m=\u001b[0m\u001b[38;2;248;248;242;48;2;39;40;34m \u001b[0m\u001b[38;2;248;248;242;48;2;39;40;34mlen\u001b[0m\u001b[38;2;248;248;242;48;2;39;40;34m(\u001b[0m\u001b[38;2;248;248;242;48;2;39;40;34minput_list\u001b[0m\u001b[38;2;248;248;242;48;2;39;40;34m)\u001b[0m\u001b[38;2;248;248;242;48;2;39;40;34m:\u001b[0m\u001b[48;2;39;40;34m                                                                                  \u001b[0m\u001b[48;2;39;40;34m \u001b[0m\n",
       "\u001b[48;2;39;40;34m \u001b[0m\u001b[38;2;248;248;242;48;2;39;40;34m        \u001b[0m\u001b[38;2;102;217;239;48;2;39;40;34mif\u001b[0m\u001b[38;2;248;248;242;48;2;39;40;34m \u001b[0m\u001b[38;2;248;248;242;48;2;39;40;34mi\u001b[0m\u001b[38;2;248;248;242;48;2;39;40;34m \u001b[0m\u001b[38;2;255;70;137;48;2;39;40;34mnot\u001b[0m\u001b[38;2;248;248;242;48;2;39;40;34m \u001b[0m\u001b[38;2;255;70;137;48;2;39;40;34min\u001b[0m\u001b[38;2;248;248;242;48;2;39;40;34m \u001b[0m\u001b[38;2;248;248;242;48;2;39;40;34minput_list\u001b[0m\u001b[38;2;248;248;242;48;2;39;40;34m:\u001b[0m\u001b[48;2;39;40;34m                                                                                  \u001b[0m\u001b[48;2;39;40;34m \u001b[0m\n",
       "\u001b[48;2;39;40;34m \u001b[0m\u001b[38;2;248;248;242;48;2;39;40;34m            \u001b[0m\u001b[38;2;248;248;242;48;2;39;40;34mi\u001b[0m\u001b[38;2;248;248;242;48;2;39;40;34m \u001b[0m\u001b[38;2;255;70;137;48;2;39;40;34m+\u001b[0m\u001b[38;2;255;70;137;48;2;39;40;34m=\u001b[0m\u001b[38;2;248;248;242;48;2;39;40;34m \u001b[0m\u001b[38;2;174;129;255;48;2;39;40;34m1\u001b[0m\u001b[48;2;39;40;34m                                                                                               \u001b[0m\u001b[48;2;39;40;34m \u001b[0m\n",
       "\u001b[48;2;39;40;34m \u001b[0m\u001b[38;2;248;248;242;48;2;39;40;34m         \u001b[0m\u001b[38;2;102;217;239;48;2;39;40;34melse\u001b[0m\u001b[38;2;248;248;242;48;2;39;40;34m:\u001b[0m\u001b[48;2;39;40;34m                                                                                                   \u001b[0m\u001b[48;2;39;40;34m \u001b[0m\n",
       "\u001b[48;2;39;40;34m \u001b[0m\u001b[38;2;248;248;242;48;2;39;40;34m             \u001b[0m\u001b[38;2;248;248;242;48;2;39;40;34moutput_list\u001b[0m\u001b[38;2;248;248;242;48;2;39;40;34m \u001b[0m\u001b[38;2;255;70;137;48;2;39;40;34m=\u001b[0m\u001b[38;2;248;248;242;48;2;39;40;34m \u001b[0m\u001b[38;2;248;248;242;48;2;39;40;34minput_list\u001b[0m\u001b[38;2;248;248;242;48;2;39;40;34m[\u001b[0m\u001b[38;2;248;248;242;48;2;39;40;34mi\u001b[0m\u001b[38;2;255;70;137;48;2;39;40;34m-\u001b[0m\u001b[38;2;174;129;255;48;2;39;40;34m1\u001b[0m\u001b[38;2;248;248;242;48;2;39;40;34m]\u001b[0m\u001b[48;2;39;40;34m                                                                       \u001b[0m\u001b[48;2;39;40;34m \u001b[0m\n",
       "\u001b[48;2;39;40;34m \u001b[0m\u001b[38;2;248;248;242;48;2;39;40;34m          \u001b[0m\u001b[38;2;102;217;239;48;2;39;40;34mbreak\u001b[0m\u001b[48;2;39;40;34m                                                                                                  \u001b[0m\u001b[48;2;39;40;34m \u001b[0m\n",
       "\u001b[48;2;39;40;34m \u001b[0m\u001b[38;2;248;248;242;48;2;39;40;34m           \u001b[0m\u001b[38;2;102;217;239;48;2;39;40;34mbreak\u001b[0m\u001b[48;2;39;40;34m                                                                                                 \u001b[0m\u001b[48;2;39;40;34m \u001b[0m\n",
       "\u001b[48;2;39;40;34m \u001b[0m\u001b[38;2;248;248;242;48;2;39;40;34m         \u001b[0m\u001b[38;2;149;144;119;48;2;39;40;34m# Remove duplicates from the result list\u001b[0m\u001b[48;2;39;40;34m                                                                \u001b[0m\u001b[48;2;39;40;34m \u001b[0m\n",
       "\u001b[48;2;39;40;34m \u001b[0m\u001b[38;2;248;248;242;48;2;39;40;34m        \u001b[0m\u001b[38;2;102;217;239;48;2;39;40;34mif\u001b[0m\u001b[38;2;248;248;242;48;2;39;40;34m \u001b[0m\u001b[38;2;248;248;242;48;2;39;40;34mi\u001b[0m\u001b[38;2;248;248;242;48;2;39;40;34m \u001b[0m\u001b[38;2;255;70;137;48;2;39;40;34mnot\u001b[0m\u001b[38;2;248;248;242;48;2;39;40;34m \u001b[0m\u001b[38;2;255;70;137;48;2;39;40;34min\u001b[0m\u001b[38;2;248;248;242;48;2;39;40;34m \u001b[0m\u001b[38;2;248;248;242;48;2;39;40;34moutput_list\u001b[0m\u001b[38;2;248;248;242;48;2;39;40;34m:\u001b[0m\u001b[38;2;248;248;242;48;2;39;40;34m \u001b[0m\u001b[48;2;39;40;34m                                                                                \u001b[0m\u001b[48;2;39;40;34m \u001b[0m\n",
       "\u001b[48;2;39;40;34m \u001b[0m\u001b[38;2;248;248;242;48;2;39;40;34m            \u001b[0m\u001b[38;2;248;248;242;48;2;39;40;34moutput_list\u001b[0m\u001b[38;2;255;70;137;48;2;39;40;34m.\u001b[0m\u001b[38;2;248;248;242;48;2;39;40;34mremove\u001b[0m\u001b[38;2;248;248;242;48;2;39;40;34m(\u001b[0m\u001b[38;2;248;248;242;48;2;39;40;34mi\u001b[0m\u001b[38;2;248;248;242;48;2;39;40;34m)\u001b[0m\u001b[48;2;39;40;34m                                                                                \u001b[0m\u001b[48;2;39;40;34m \u001b[0m\n",
       "\u001b[48;2;39;40;34m                                                                                                                   \n",
       "\u001b[0m"
      ]
     },
     "execution_count": 14,
     "metadata": {},
     "output_type": "execute_result"
    }
   ],
   "source": [
    "dataset = create_instruct_dataset(num_samples, [\"python_code\"])\n",
    "example = dataset[0]\n",
    "prediction = eval.generate([example[\"prompt\"]], max_tokens=1000, return_full_text=not CAUSAL_LM)[0]\n",
    "Markdown(template.format(prompt=example[\"prompt\"], \n",
    "                         completion=example[\"completion\"], \n",
    "                         prediction=prediction))"
   ]
  },
  {
   "cell_type": "markdown",
   "metadata": {},
   "source": [
    "## Eng-Spa"
   ]
  },
  {
   "cell_type": "code",
   "execution_count": 15,
   "metadata": {},
   "outputs": [
    {
     "name": "stderr",
     "output_type": "stream",
     "text": [
      "Generating responses... : 100%|██████████| 1/1 [00:00<00:00,  1.54it/s]\n"
     ]
    },
    {
     "data": {
      "text/html": [
       "<pre style=\"white-space:pre;overflow-x:auto;line-height:normal;font-family:Menlo,'DejaVu Sans Mono',consolas,'Courier New',monospace\">\n",
       "                                                   <span style=\"font-weight: bold; text-decoration: underline\">INPUT PROMPT</span>                                                    \n",
       "\n",
       "Translate from English to Spanish:                                                                                 \n",
       "\n",
       "She's older than him.                                                                                              \n",
       "\n",
       "\n",
       "                                                   <span style=\"font-weight: bold; text-decoration: underline\">GROUND_TRUTH</span>                                                    \n",
       "\n",
       "Ella es mayor que él.                                                                                              \n",
       "\n",
       "\n",
       "                                                   <span style=\"font-weight: bold; text-decoration: underline\">MODEL OUTPUT</span>                                                    \n",
       "\n",
       "Ella es más oído.                                                                                                  \n",
       "</pre>\n"
      ],
      "text/plain": [
       "\n",
       "                                                   \u001b[1;4mINPUT PROMPT\u001b[0m                                                    \n",
       "\n",
       "Translate from English to Spanish:                                                                                 \n",
       "\n",
       "She's older than him.                                                                                              \n",
       "\n",
       "\n",
       "                                                   \u001b[1;4mGROUND_TRUTH\u001b[0m                                                    \n",
       "\n",
       "Ella es mayor que él.                                                                                              \n",
       "\n",
       "\n",
       "                                                   \u001b[1;4mMODEL OUTPUT\u001b[0m                                                    \n",
       "\n",
       "Ella es más oído.                                                                                                  \n"
      ]
     },
     "execution_count": 15,
     "metadata": {},
     "output_type": "execute_result"
    }
   ],
   "source": [
    "dataset = create_instruct_dataset(num_samples, [\"eng_spa\"])\n",
    "example = dataset[0]\n",
    "prediction = eval.generate([example[\"prompt\"]], return_full_text=not CAUSAL_LM)[0]\n",
    "Markdown(template.format(prompt=example[\"prompt\"], \n",
    "                         completion=example[\"completion\"], \n",
    "                         prediction=prediction))"
   ]
  },
  {
   "cell_type": "markdown",
   "metadata": {},
   "source": [
    "## PAWS"
   ]
  },
  {
   "cell_type": "code",
   "execution_count": 16,
   "metadata": {},
   "outputs": [
    {
     "data": {
      "application/vnd.jupyter.widget-view+json": {
       "model_id": "068d3e70e9c444f79f9ab581be47ddd3",
       "version_major": 2,
       "version_minor": 0
      },
      "text/plain": [
       "Map:   0%|          | 0/49401 [00:00<?, ? examples/s]"
      ]
     },
     "metadata": {},
     "output_type": "display_data"
    },
    {
     "data": {
      "application/vnd.jupyter.widget-view+json": {
       "model_id": "02f05841c251454b9464914c7d5d5933",
       "version_major": 2,
       "version_minor": 0
      },
      "text/plain": [
       "Filter:   0%|          | 0/49401 [00:00<?, ? examples/s]"
      ]
     },
     "metadata": {},
     "output_type": "display_data"
    },
    {
     "data": {
      "application/vnd.jupyter.widget-view+json": {
       "model_id": "5c52393d22b24286b0670cd6812cf1b7",
       "version_major": 2,
       "version_minor": 0
      },
      "text/plain": [
       "Map:   0%|          | 0/100 [00:00<?, ? examples/s]"
      ]
     },
     "metadata": {},
     "output_type": "display_data"
    },
    {
     "name": "stderr",
     "output_type": "stream",
     "text": [
      "Generating responses... : 100%|██████████| 1/1 [00:00<00:00,  6.15it/s]\n"
     ]
    },
    {
     "data": {
      "text/html": [
       "<pre style=\"white-space:pre;overflow-x:auto;line-height:normal;font-family:Menlo,'DejaVu Sans Mono',consolas,'Courier New',monospace\">\n",
       "                                                   <span style=\"font-weight: bold; text-decoration: underline\">INPUT PROMPT</span>                                                    \n",
       "\n",
       "He was asked for his opinion about the books '' Mission to Moscow <span style=\"color: #008080; text-decoration-color: #008080; background-color: #000000; font-weight: bold\">by Joseph E. Davies and '' One World</span> by Wendell  \n",
       "Willkie .                                                                                                          \n",
       "\n",
       "He was asked about his opinions on the books '' Mission to Moscow <span style=\"color: #008080; text-decoration-color: #008080; background-color: #000000; font-weight: bold\">by Wendell Willkie and '' One World</span> by Joseph E. \n",
       "Davies .                                                                                                           \n",
       "\n",
       "Do the above sentences mean the same thing? OPTIONS:                                                               \n",
       "\n",
       "<span style=\"color: #808000; text-decoration-color: #808000; font-weight: bold\"> • </span>No                                                                                                              \n",
       "<span style=\"color: #808000; text-decoration-color: #808000; font-weight: bold\"> • </span>Yes                                                                                                             \n",
       "\n",
       "\n",
       "                                                   <span style=\"font-weight: bold; text-decoration: underline\">GROUND_TRUTH</span>                                                    \n",
       "\n",
       "No                                                                                                                 \n",
       "\n",
       "\n",
       "                                                   <span style=\"font-weight: bold; text-decoration: underline\">MODEL OUTPUT</span>                                                    \n",
       "\n",
       "No- YesNo                                                                                                          \n",
       "</pre>\n"
      ],
      "text/plain": [
       "\n",
       "                                                   \u001b[1;4mINPUT PROMPT\u001b[0m                                                    \n",
       "\n",
       "He was asked for his opinion about the books '' Mission to Moscow \u001b[1;36;40mby Joseph E. Davies and '' One World\u001b[0m by Wendell  \n",
       "Willkie .                                                                                                          \n",
       "\n",
       "He was asked about his opinions on the books '' Mission to Moscow \u001b[1;36;40mby Wendell Willkie and '' One World\u001b[0m by Joseph E. \n",
       "Davies .                                                                                                           \n",
       "\n",
       "Do the above sentences mean the same thing? OPTIONS:                                                               \n",
       "\n",
       "\u001b[1;33m • \u001b[0mNo                                                                                                              \n",
       "\u001b[1;33m • \u001b[0mYes                                                                                                             \n",
       "\n",
       "\n",
       "                                                   \u001b[1;4mGROUND_TRUTH\u001b[0m                                                    \n",
       "\n",
       "No                                                                                                                 \n",
       "\n",
       "\n",
       "                                                   \u001b[1;4mMODEL OUTPUT\u001b[0m                                                    \n",
       "\n",
       "No- YesNo                                                                                                          \n"
      ]
     },
     "execution_count": 16,
     "metadata": {},
     "output_type": "execute_result"
    }
   ],
   "source": [
    "dataset = create_instruct_dataset(num_samples, [\"paws\"])\n",
    "example = dataset[0]\n",
    "prediction = eval.generate([example[\"prompt\"]], return_full_text=not CAUSAL_LM)[0]\n",
    "Markdown(template.format(prompt=example[\"prompt\"], \n",
    "                         completion=example[\"completion\"], \n",
    "                         prediction=prediction))"
   ]
  },
  {
   "cell_type": "markdown",
   "metadata": {},
   "source": [
    "## Quora"
   ]
  },
  {
   "cell_type": "code",
   "execution_count": 17,
   "metadata": {},
   "outputs": [
    {
     "data": {
      "application/vnd.jupyter.widget-view+json": {
       "model_id": "463d94c6e1a94949b139702f9f4bc8e0",
       "version_major": 2,
       "version_minor": 0
      },
      "text/plain": [
       "Filter:   0%|          | 0/56402 [00:00<?, ? examples/s]"
      ]
     },
     "metadata": {},
     "output_type": "display_data"
    },
    {
     "name": "stderr",
     "output_type": "stream",
     "text": [
      "Generating responses... : 100%|██████████| 1/1 [00:00<00:00,  1.88it/s]\n"
     ]
    },
    {
     "data": {
      "text/html": [
       "<pre style=\"white-space:pre;overflow-x:auto;line-height:normal;font-family:Menlo,'DejaVu Sans Mono',consolas,'Courier New',monospace\">\n",
       "                                                   <span style=\"font-weight: bold; text-decoration: underline\">INPUT PROMPT</span>                                                    \n",
       "\n",
       "Why are the Orthodox, Catholic, Western, Eastern, and Oriental Christianity, Mithraism, Judaism, Buddism, and Islam\n",
       "still competing?                                                                                                   \n",
       "\n",
       "\n",
       "                                                   <span style=\"font-weight: bold; text-decoration: underline\">GROUND_TRUTH</span>                                                    \n",
       "\n",
       "Before you ask why, ask if.                                                                                        \n",
       "\n",
       "\n",
       "                                                   <span style=\"font-weight: bold; text-decoration: underline\">MODEL OUTPUT</span>                                                    \n",
       "\n",
       "Say this using Spanish¿Qué está de esmogran?                                                                       \n",
       "</pre>\n"
      ],
      "text/plain": [
       "\n",
       "                                                   \u001b[1;4mINPUT PROMPT\u001b[0m                                                    \n",
       "\n",
       "Why are the Orthodox, Catholic, Western, Eastern, and Oriental Christianity, Mithraism, Judaism, Buddism, and Islam\n",
       "still competing?                                                                                                   \n",
       "\n",
       "\n",
       "                                                   \u001b[1;4mGROUND_TRUTH\u001b[0m                                                    \n",
       "\n",
       "Before you ask why, ask if.                                                                                        \n",
       "\n",
       "\n",
       "                                                   \u001b[1;4mMODEL OUTPUT\u001b[0m                                                    \n",
       "\n",
       "Say this using Spanish¿Qué está de esmogran?                                                                       \n"
      ]
     },
     "execution_count": 17,
     "metadata": {},
     "output_type": "execute_result"
    }
   ],
   "source": [
    "dataset = create_instruct_dataset(num_samples, [\"quora\"])\n",
    "example = dataset[0]\n",
    "prediction = eval.generate([example[\"prompt\"]], return_full_text=not CAUSAL_LM)[0]\n",
    "Markdown(template.format(prompt=example[\"prompt\"], \n",
    "                         completion=example[\"completion\"], \n",
    "                         prediction=prediction))"
   ]
  },
  {
   "cell_type": "markdown",
   "metadata": {},
   "source": [
    "## Alpaca"
   ]
  },
  {
   "cell_type": "code",
   "execution_count": 18,
   "metadata": {},
   "outputs": [
    {
     "data": {
      "application/vnd.jupyter.widget-view+json": {
       "model_id": "39d1348a2bd64a0198a75a84c0ec2b42",
       "version_major": 2,
       "version_minor": 0
      },
      "text/plain": [
       "Filter:   0%|          | 0/52002 [00:00<?, ? examples/s]"
      ]
     },
     "metadata": {},
     "output_type": "display_data"
    },
    {
     "data": {
      "application/vnd.jupyter.widget-view+json": {
       "model_id": "a1dc37e521244386832ff2f55363cd54",
       "version_major": 2,
       "version_minor": 0
      },
      "text/plain": [
       "Map:   0%|          | 0/20100 [00:00<?, ? examples/s]"
      ]
     },
     "metadata": {},
     "output_type": "display_data"
    },
    {
     "data": {
      "application/vnd.jupyter.widget-view+json": {
       "model_id": "b51327a04c194fa4a786f1f3bc54f9f8",
       "version_major": 2,
       "version_minor": 0
      },
      "text/plain": [
       "Filter:   0%|          | 0/20100 [00:00<?, ? examples/s]"
      ]
     },
     "metadata": {},
     "output_type": "display_data"
    },
    {
     "data": {
      "application/vnd.jupyter.widget-view+json": {
       "model_id": "aa0ec7d99b934c3ba939a63d843de523",
       "version_major": 2,
       "version_minor": 0
      },
      "text/plain": [
       "Map:   0%|          | 0/100 [00:00<?, ? examples/s]"
      ]
     },
     "metadata": {},
     "output_type": "display_data"
    },
    {
     "name": "stderr",
     "output_type": "stream",
     "text": [
      "Generating responses... : 100%|██████████| 1/1 [00:06<00:00,  6.19s/it]\n"
     ]
    },
    {
     "data": {
      "text/html": [
       "<pre style=\"white-space:pre;overflow-x:auto;line-height:normal;font-family:Menlo,'DejaVu Sans Mono',consolas,'Courier New',monospace\">\n",
       "                                                   <span style=\"font-weight: bold; text-decoration: underline\">INPUT PROMPT</span>                                                    \n",
       "\n",
       "Make a prediction about what will happen in the next paragraph. Mary had been living in the small town for many    \n",
       "years and had never seen anything like what was coming.                                                            \n",
       "\n",
       "\n",
       "                                                   <span style=\"font-weight: bold; text-decoration: underline\">GROUND_TRUTH</span>                                                    \n",
       "\n",
       "It appears that something extraordinary and unprecedented will happen in the next paragraph.                       \n",
       "\n",
       "\n",
       "                                                   <span style=\"font-weight: bold; text-decoration: underline\">MODEL OUTPUT</span>                                                    \n",
       "\n",
       "The doctor came up with a few names, such as \"a guy from Texas\" and \"a guy from Oklahoma\". He took Mary to the     \n",
       "doctor and her last name was John. She was worried that John, John, Peter and Joe would go out that night. John    \n",
       "explained that you can see people in Oklahoma, but you can never see you or anyone near you. So Mary had to be     \n",
       "careful and make sure that she was just making sure that Tom, Kevin, Tim and Jimmy would keep watching the show for\n",
       "her, even though they were in Texas. John explained that he knew that Tom, Tim and Jimmy would go out after a while\n",
       "in Oklahoma if Mary didn't watch the show for a long time. John asked Mary why she had not yet seen everything John\n",
       "had asked. Mary explained that John would have the chance to see everything John had asked her. John explained that\n",
       "John knew what Tom would have to do if Mary didn't watch the show. She asked Mary what John would                  \n",
       "</pre>\n"
      ],
      "text/plain": [
       "\n",
       "                                                   \u001b[1;4mINPUT PROMPT\u001b[0m                                                    \n",
       "\n",
       "Make a prediction about what will happen in the next paragraph. Mary had been living in the small town for many    \n",
       "years and had never seen anything like what was coming.                                                            \n",
       "\n",
       "\n",
       "                                                   \u001b[1;4mGROUND_TRUTH\u001b[0m                                                    \n",
       "\n",
       "It appears that something extraordinary and unprecedented will happen in the next paragraph.                       \n",
       "\n",
       "\n",
       "                                                   \u001b[1;4mMODEL OUTPUT\u001b[0m                                                    \n",
       "\n",
       "The doctor came up with a few names, such as \"a guy from Texas\" and \"a guy from Oklahoma\". He took Mary to the     \n",
       "doctor and her last name was John. She was worried that John, John, Peter and Joe would go out that night. John    \n",
       "explained that you can see people in Oklahoma, but you can never see you or anyone near you. So Mary had to be     \n",
       "careful and make sure that she was just making sure that Tom, Kevin, Tim and Jimmy would keep watching the show for\n",
       "her, even though they were in Texas. John explained that he knew that Tom, Tim and Jimmy would go out after a while\n",
       "in Oklahoma if Mary didn't watch the show for a long time. John asked Mary why she had not yet seen everything John\n",
       "had asked. Mary explained that John would have the chance to see everything John had asked her. John explained that\n",
       "John knew what Tom would have to do if Mary didn't watch the show. She asked Mary what John would                  \n"
      ]
     },
     "execution_count": 18,
     "metadata": {},
     "output_type": "execute_result"
    }
   ],
   "source": [
    "dataset = create_instruct_dataset(num_samples, [\"alpaca\"])\n",
    "example = dataset[0]\n",
    "prediction = eval.generate([example[\"prompt\"]], return_full_text=not CAUSAL_LM)[0]\n",
    "Markdown(template.format(prompt=example[\"prompt\"], \n",
    "                         completion=example[\"completion\"], \n",
    "                         prediction=prediction))"
   ]
  },
  {
   "cell_type": "code",
   "execution_count": null,
   "metadata": {},
   "outputs": [],
   "source": []
  }
 ],
 "metadata": {
  "kernelspec": {
   "display_name": "transformers-311",
   "language": "python",
   "name": "python3"
  },
  "language_info": {
   "codemirror_mode": {
    "name": "ipython",
    "version": 3
   },
   "file_extension": ".py",
   "mimetype": "text/x-python",
   "name": "python",
   "nbconvert_exporter": "python",
   "pygments_lexer": "ipython3",
   "version": "3.11.10"
  }
 },
 "nbformat": 4,
 "nbformat_minor": 2
}
