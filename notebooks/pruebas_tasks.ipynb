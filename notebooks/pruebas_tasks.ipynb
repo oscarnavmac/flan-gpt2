{
 "cells": [
  {
   "cell_type": "code",
   "execution_count": 1,
   "metadata": {},
   "outputs": [
    {
     "name": "stdout",
     "output_type": "stream",
     "text": [
      "cuda\n"
     ]
    }
   ],
   "source": [
    "import torch\n",
    "from rich.markdown import Markdown\n",
    "\n",
    "device = ('cuda' if torch.cuda.is_available() else 'cpu')\n",
    "print(device)"
   ]
  },
  {
   "cell_type": "code",
   "execution_count": 2,
   "metadata": {},
   "outputs": [
    {
     "name": "stdout",
     "output_type": "stream",
     "text": [
      "/home/oscarn/flan-gpt2\n"
     ]
    }
   ],
   "source": [
    "%cd .."
   ]
  },
  {
   "cell_type": "code",
   "execution_count": 3,
   "metadata": {},
   "outputs": [
    {
     "name": "stdout",
     "output_type": "stream",
     "text": [
      "output/flan-gpt2-medium-distill_V3\n"
     ]
    }
   ],
   "source": [
    "from models.model_utils import GPT2Model\n",
    "\n",
    "#model_name = \"gpt2-multitask-4_V2\"\n",
    "#model_name = \"flan-gpt2-medium-distill_V2\"\n",
    "#model_name = \"gpt2-multitask_V3\"\n",
    "model_name = \"output/flan-gpt2-medium-distill_V3\"\n",
    "#model_name = \"pythia-multitask_V3\"\n",
    "\n",
    "#model_name = \"OscarNav/flan-gpt2-medium-ft\"\n",
    "\n",
    "wrapped_model = GPT2Model(model_name, device)\n",
    "model = wrapped_model.get_model()\n",
    "tokenizer = wrapped_model.get_tokenizer()"
   ]
  },
  {
   "cell_type": "code",
   "execution_count": 13,
   "metadata": {},
   "outputs": [
    {
     "name": "stdout",
     "output_type": "stream",
     "text": [
      "openai-community/gpt2-medium\n"
     ]
    }
   ],
   "source": [
    "from models.model_utils import GPT2Model\n",
    "\n",
    "wrapped_model = GPT2Model(\"output/gpt2-lora\", device, peft=True)\n",
    "peft_model = wrapped_model.get_model(peft=True)\n",
    "peft_tokenizer = wrapped_model.get_tokenizer()"
   ]
  },
  {
   "cell_type": "code",
   "execution_count": 3,
   "metadata": {},
   "outputs": [
    {
     "data": {
      "application/vnd.jupyter.widget-view+json": {
       "model_id": "70169cd9805a4c2fa718c53bc1902666",
       "version_major": 2,
       "version_minor": 0
      },
      "text/plain": [
       "config.json:   0%|          | 0.00/774 [00:00<?, ?B/s]"
      ]
     },
     "metadata": {},
     "output_type": "display_data"
    },
    {
     "data": {
      "application/vnd.jupyter.widget-view+json": {
       "model_id": "6281a35b34ba4122a55b3dd056193439",
       "version_major": 2,
       "version_minor": 0
      },
      "text/plain": [
       "model.safetensors:   0%|          | 0.00/1.57G [00:00<?, ?B/s]"
      ]
     },
     "metadata": {},
     "output_type": "display_data"
    },
    {
     "data": {
      "application/vnd.jupyter.widget-view+json": {
       "model_id": "55e509caf2444ff091762f83fa0f0f0b",
       "version_major": 2,
       "version_minor": 0
      },
      "text/plain": [
       "generation_config.json:   0%|          | 0.00/142 [00:00<?, ?B/s]"
      ]
     },
     "metadata": {},
     "output_type": "display_data"
    },
    {
     "data": {
      "application/vnd.jupyter.widget-view+json": {
       "model_id": "3ed7d06709b44ccdbda403722b4646dc",
       "version_major": 2,
       "version_minor": 0
      },
      "text/plain": [
       "tokenizer_config.json:   0%|          | 0.00/20.8k [00:00<?, ?B/s]"
      ]
     },
     "metadata": {},
     "output_type": "display_data"
    },
    {
     "data": {
      "application/vnd.jupyter.widget-view+json": {
       "model_id": "964ab91f5e8248e2beaf8ad7dac4d914",
       "version_major": 2,
       "version_minor": 0
      },
      "text/plain": [
       "spiece.model:   0%|          | 0.00/792k [00:00<?, ?B/s]"
      ]
     },
     "metadata": {},
     "output_type": "display_data"
    },
    {
     "data": {
      "application/vnd.jupyter.widget-view+json": {
       "model_id": "88933bcc2d824cfc89aa74816d60848f",
       "version_major": 2,
       "version_minor": 0
      },
      "text/plain": [
       "tokenizer.json:   0%|          | 0.00/2.42M [00:00<?, ?B/s]"
      ]
     },
     "metadata": {},
     "output_type": "display_data"
    },
    {
     "data": {
      "application/vnd.jupyter.widget-view+json": {
       "model_id": "6df8fa385c0f46229188788bbb5b247a",
       "version_major": 2,
       "version_minor": 0
      },
      "text/plain": [
       "special_tokens_map.json:   0%|          | 0.00/2.54k [00:00<?, ?B/s]"
      ]
     },
     "metadata": {},
     "output_type": "display_data"
    }
   ],
   "source": [
    "from models.model_utils import SmolLMModel, T5Model\n",
    "\n",
    "#model_name = \"output/flan-SmolLM-135M-distill\"\n",
    "#model_name = \"output/flan-flan-t5-base-ft\"\n",
    "model_name = \"OscarNav/flan-flan-t5-large-ft\"\n",
    "\n",
    "wrapped_model = T5Model(model_name, device)\n",
    "model = wrapped_model.get_model()\n",
    "model.resize_token_embeddings(len(wrapped_model.get_tokenizer()))\n",
    "tokenizer = wrapped_model.get_tokenizer()"
   ]
  },
  {
   "cell_type": "code",
   "execution_count": 14,
   "metadata": {},
   "outputs": [],
   "source": [
    "from eval.eval_utils import Evaluation\n",
    "from data.data_utils import create_instruct_dataset\n",
    "\n",
    "\n",
    "eval = Evaluation(peft_model, peft_tokenizer, device)"
   ]
  },
  {
   "cell_type": "code",
   "execution_count": 15,
   "metadata": {},
   "outputs": [],
   "source": [
    "num_samples = 100"
   ]
  },
  {
   "cell_type": "code",
   "execution_count": 16,
   "metadata": {},
   "outputs": [],
   "source": [
    "template = \"\"\"\n",
    "## INPUT PROMPT\n",
    "{prompt}\n",
    "## GROUND_TRUTH\n",
    "{completion}\n",
    "## MODEL OUTPUT\n",
    "{prediction}\n",
    "\"\"\""
   ]
  },
  {
   "cell_type": "markdown",
   "metadata": {},
   "source": [
    "### ANLI"
   ]
  },
  {
   "cell_type": "code",
   "execution_count": 17,
   "metadata": {},
   "outputs": [
    {
     "data": {
      "application/vnd.jupyter.widget-view+json": {
       "model_id": "e13526d43dfd42f2a2af97ee5401ac21",
       "version_major": 2,
       "version_minor": 0
      },
      "text/plain": [
       "Map:   0%|          | 0/16946 [00:00<?, ? examples/s]"
      ]
     },
     "metadata": {},
     "output_type": "display_data"
    },
    {
     "data": {
      "application/vnd.jupyter.widget-view+json": {
       "model_id": "cce7b9accb9a46b09326347c69c0b1ad",
       "version_major": 2,
       "version_minor": 0
      },
      "text/plain": [
       "Filter:   0%|          | 0/16946 [00:00<?, ? examples/s]"
      ]
     },
     "metadata": {},
     "output_type": "display_data"
    },
    {
     "data": {
      "application/vnd.jupyter.widget-view+json": {
       "model_id": "b07f149fe3864808b6921c756d43eed6",
       "version_major": 2,
       "version_minor": 0
      },
      "text/plain": [
       "Map:   0%|          | 0/100 [00:00<?, ? examples/s]"
      ]
     },
     "metadata": {},
     "output_type": "display_data"
    },
    {
     "name": "stderr",
     "output_type": "stream",
     "text": [
      "Generating responses... : 100%|██████████| 1/1 [00:00<00:00,  7.00it/s]\n"
     ]
    },
    {
     "data": {
      "text/html": [
       "<pre style=\"white-space:pre;overflow-x:auto;line-height:normal;font-family:Menlo,'DejaVu Sans Mono',consolas,'Courier New',monospace\">\n",
       "                                                   <span style=\"font-weight: bold; text-decoration: underline\">INPUT PROMPT</span>                                                    \n",
       "\n",
       "L. M. Singhvi (9 November 1931 – 6 October 2007) was an Indian jurist, parliamentarian, scholar, writer and        \n",
       "diplomat. He was, after V. K. Krishna Menon, the second-longest-serving High Commissioner for India in the United  \n",
       "Kingdom (1991–97) He was conferred Padma Bhushan in 1998.                                                          \n",
       "\n",
       "Based on that paragraph can we conclude that this sentence is true? L.M. Singvhi served 76 years.                  \n",
       "\n",
       "OPTIONS:                                                                                                           \n",
       "\n",
       "<span style=\"color: #808000; text-decoration-color: #808000; font-weight: bold\"> • </span>entailment                                                                                                      \n",
       "<span style=\"color: #808000; text-decoration-color: #808000; font-weight: bold\"> • </span>neutral                                                                                                         \n",
       "<span style=\"color: #808000; text-decoration-color: #808000; font-weight: bold\"> • </span>contradiction                                                                                                   \n",
       "\n",
       "\n",
       "                                                   <span style=\"font-weight: bold; text-decoration: underline\">GROUND_TRUTH</span>                                                    \n",
       "\n",
       "neutral                                                                                                            \n",
       "\n",
       "\n",
       "                                                   <span style=\"font-weight: bold; text-decoration: underline\">MODEL OUTPUT</span>                                                    \n",
       "\n",
       "L. M. Singhvi (9 November 1931 – 6 October 2007) was an Indian jurist, parliamentarian, scholar, writer and        \n",
       "diplomat. He was, after V. K. Krishna Menon, the second-longest-serving High Commissioner for India in the United  \n",
       "Kingdom (1991–97) He was conferred Padma Bhushan in 1998.                                                          \n",
       "\n",
       "Based on that paragraph can we conclude that this sentence is true? L.M. Singvhi served 76 years.                  \n",
       "\n",
       "OPTIONS:                                                                                                           \n",
       "\n",
       "<span style=\"color: #808000; text-decoration-color: #808000; font-weight: bold\"> • </span>entailment                                                                                                      \n",
       "<span style=\"color: #808000; text-decoration-color: #808000; font-weight: bold\"> • </span>neutral                                                                                                         \n",
       "<span style=\"color: #808000; text-decoration-color: #808000; font-weight: bold\"> • </span>contradictionneutral                                                                                            \n",
       "</pre>\n"
      ],
      "text/plain": [
       "\n",
       "                                                   \u001b[1;4mINPUT PROMPT\u001b[0m                                                    \n",
       "\n",
       "L. M. Singhvi (9 November 1931 – 6 October 2007) was an Indian jurist, parliamentarian, scholar, writer and        \n",
       "diplomat. He was, after V. K. Krishna Menon, the second-longest-serving High Commissioner for India in the United  \n",
       "Kingdom (1991–97) He was conferred Padma Bhushan in 1998.                                                          \n",
       "\n",
       "Based on that paragraph can we conclude that this sentence is true? L.M. Singvhi served 76 years.                  \n",
       "\n",
       "OPTIONS:                                                                                                           \n",
       "\n",
       "\u001b[1;33m • \u001b[0mentailment                                                                                                      \n",
       "\u001b[1;33m • \u001b[0mneutral                                                                                                         \n",
       "\u001b[1;33m • \u001b[0mcontradiction                                                                                                   \n",
       "\n",
       "\n",
       "                                                   \u001b[1;4mGROUND_TRUTH\u001b[0m                                                    \n",
       "\n",
       "neutral                                                                                                            \n",
       "\n",
       "\n",
       "                                                   \u001b[1;4mMODEL OUTPUT\u001b[0m                                                    \n",
       "\n",
       "L. M. Singhvi (9 November 1931 – 6 October 2007) was an Indian jurist, parliamentarian, scholar, writer and        \n",
       "diplomat. He was, after V. K. Krishna Menon, the second-longest-serving High Commissioner for India in the United  \n",
       "Kingdom (1991–97) He was conferred Padma Bhushan in 1998.                                                          \n",
       "\n",
       "Based on that paragraph can we conclude that this sentence is true? L.M. Singvhi served 76 years.                  \n",
       "\n",
       "OPTIONS:                                                                                                           \n",
       "\n",
       "\u001b[1;33m • \u001b[0mentailment                                                                                                      \n",
       "\u001b[1;33m • \u001b[0mneutral                                                                                                         \n",
       "\u001b[1;33m • \u001b[0mcontradictionneutral                                                                                            \n"
      ]
     },
     "execution_count": 17,
     "metadata": {},
     "output_type": "execute_result"
    }
   ],
   "source": [
    "dataset = create_instruct_dataset(num_samples, [\"anli\"])\n",
    "example = dataset[0]\n",
    "prediction = eval.generate([example[\"prompt\"]], return_full_text=True)[0]\n",
    "Markdown(template.format(prompt=example[\"prompt\"], \n",
    "                         completion=example[\"completion\"], \n",
    "                         prediction=prediction))"
   ]
  },
  {
   "cell_type": "markdown",
   "metadata": {},
   "source": [
    "## Common Gen"
   ]
  },
  {
   "cell_type": "code",
   "execution_count": 18,
   "metadata": {},
   "outputs": [
    {
     "name": "stderr",
     "output_type": "stream",
     "text": [
      "Generating responses... : 100%|██████████| 1/1 [00:00<00:00,  2.19it/s]\n"
     ]
    },
    {
     "data": {
      "text/html": [
       "<pre style=\"white-space:pre;overflow-x:auto;line-height:normal;font-family:Menlo,'DejaVu Sans Mono',consolas,'Courier New',monospace\">\n",
       "                                                   <span style=\"font-weight: bold; text-decoration: underline\">INPUT PROMPT</span>                                                    \n",
       "\n",
       "Here are some concepts: ['grass', 'horse', 'eat']                                                                  \n",
       "\n",
       "What is a sentence about these concepts?                                                                           \n",
       "\n",
       "\n",
       "                                                   <span style=\"font-weight: bold; text-decoration: underline\">GROUND_TRUTH</span>                                                    \n",
       "\n",
       "The horses are eating grass.                                                                                       \n",
       "\n",
       "\n",
       "                                                   <span style=\"font-weight: bold; text-decoration: underline\">MODEL OUTPUT</span>                                                    \n",
       "\n",
       "Here are some concepts: ['grass', 'horse', 'eat']                                                                  \n",
       "\n",
       "What is a sentence about these concepts?                                                                           \n",
       "\n",
       "He was eating grass                                                                                                \n",
       "</pre>\n"
      ],
      "text/plain": [
       "\n",
       "                                                   \u001b[1;4mINPUT PROMPT\u001b[0m                                                    \n",
       "\n",
       "Here are some concepts: ['grass', 'horse', 'eat']                                                                  \n",
       "\n",
       "What is a sentence about these concepts?                                                                           \n",
       "\n",
       "\n",
       "                                                   \u001b[1;4mGROUND_TRUTH\u001b[0m                                                    \n",
       "\n",
       "The horses are eating grass.                                                                                       \n",
       "\n",
       "\n",
       "                                                   \u001b[1;4mMODEL OUTPUT\u001b[0m                                                    \n",
       "\n",
       "Here are some concepts: ['grass', 'horse', 'eat']                                                                  \n",
       "\n",
       "What is a sentence about these concepts?                                                                           \n",
       "\n",
       "He was eating grass                                                                                                \n"
      ]
     },
     "execution_count": 18,
     "metadata": {},
     "output_type": "execute_result"
    }
   ],
   "source": [
    "dataset = create_instruct_dataset(num_samples, [\"common_gen\"])\n",
    "example = dataset[0]\n",
    "prediction = eval.generate([example[\"prompt\"]], return_full_text=True)[0]\n",
    "Markdown(template.format(prompt=example[\"prompt\"], \n",
    "                         completion=example[\"completion\"], \n",
    "                         prediction=prediction))"
   ]
  },
  {
   "cell_type": "markdown",
   "metadata": {},
   "source": [
    "## SQUAD"
   ]
  },
  {
   "cell_type": "code",
   "execution_count": 19,
   "metadata": {},
   "outputs": [
    {
     "name": "stderr",
     "output_type": "stream",
     "text": [
      "Using the latest cached version of the dataset since rajpurkar/squad couldn't be found on the Hugging Face Hub\n",
      "Found the latest cached dataset configuration 'plain_text' at /home/oscarn/.cache/huggingface/datasets/rajpurkar___squad/plain_text/0.0.0/7b6d24c440a36b6815f21b70d25016731768db1f (last modified on Fri Nov 22 00:36:36 2024).\n"
     ]
    },
    {
     "data": {
      "application/vnd.jupyter.widget-view+json": {
       "model_id": "e35b8848964f4d70a4d8efc848e8efb3",
       "version_major": 2,
       "version_minor": 0
      },
      "text/plain": [
       "Filter:   0%|          | 0/87599 [00:00<?, ? examples/s]"
      ]
     },
     "metadata": {},
     "output_type": "display_data"
    },
    {
     "data": {
      "application/vnd.jupyter.widget-view+json": {
       "model_id": "c1105b2dd9b94db299df7f052dc80288",
       "version_major": 2,
       "version_minor": 0
      },
      "text/plain": [
       "Map:   0%|          | 0/87241 [00:00<?, ? examples/s]"
      ]
     },
     "metadata": {},
     "output_type": "display_data"
    },
    {
     "data": {
      "application/vnd.jupyter.widget-view+json": {
       "model_id": "e0b8ab1704854564b713021579e20061",
       "version_major": 2,
       "version_minor": 0
      },
      "text/plain": [
       "Filter:   0%|          | 0/87241 [00:00<?, ? examples/s]"
      ]
     },
     "metadata": {},
     "output_type": "display_data"
    },
    {
     "data": {
      "application/vnd.jupyter.widget-view+json": {
       "model_id": "414f9a260bac49b0aed9763d76418d2c",
       "version_major": 2,
       "version_minor": 0
      },
      "text/plain": [
       "Map:   0%|          | 0/100 [00:00<?, ? examples/s]"
      ]
     },
     "metadata": {},
     "output_type": "display_data"
    },
    {
     "name": "stderr",
     "output_type": "stream",
     "text": [
      "Generating responses... : 100%|██████████| 1/1 [00:10<00:00, 10.30s/it]\n"
     ]
    },
    {
     "data": {
      "text/html": [
       "<pre style=\"white-space:pre;overflow-x:auto;line-height:normal;font-family:Menlo,'DejaVu Sans Mono',consolas,'Courier New',monospace\">\n",
       "                                                   <span style=\"font-weight: bold; text-decoration: underline\">INPUT PROMPT</span>                                                    \n",
       "\n",
       "What is the title of this article:                                                                                 \n",
       "\n",
       "Father Joseph Carrier, C.S.C. was Director of the Science Museum and the Library and Professor of Chemistry and    \n",
       "Physics until 1874. Carrier taught that scientific research and its promise for progress were not antagonistic to  \n",
       "the ideals of intellectual and moral culture endorsed by the Church. One of Carrier's students was Father John     \n",
       "Augustine Zahm (1851–1921) who was made Professor and Co-Director of the Science Department at age 23 and by 1900  \n",
       "was a nationally prominent scientist and naturalist. Zahm was active in the Catholic Summer School movement, which \n",
       "introduced Catholic laity to contemporary intellectual issues. His book Evolution and Dogma (1896) defended certain\n",
       "aspects of evolutionary theory as true, and argued, moreover, that even the great Church teachers Thomas Aquinas   \n",
       "and Augustine taught something like it. The intervention of Irish American Catholics in Rome prevented Zahm's      \n",
       "censure by the Vatican. In 1913, Zahm and former President Theodore Roosevelt embarked on a major expedition       \n",
       "through the Amazon.                                                                                                \n",
       "\n",
       "\n",
       "                                                   <span style=\"font-weight: bold; text-decoration: underline\">GROUND_TRUTH</span>                                                    \n",
       "\n",
       "University_of_Notre_Dame                                                                                           \n",
       "\n",
       "\n",
       "                                                   <span style=\"font-weight: bold; text-decoration: underline\">MODEL OUTPUT</span>                                                    \n",
       "\n",
       "What is the title of this article:                                                                                 \n",
       "\n",
       "Father Joseph Carrier, C.S.C. was Director of the Science Museum and the Library and Professor of Chemistry and    \n",
       "Physics until 1874. Carrier taught that scientific research and its promise for progress were not antagonistic to  \n",
       "the ideals of intellectual and moral culture endorsed by the Church. One of Carrier's students was Father John     \n",
       "Augustine Zahm (1851–1921) who was made Professor and Co-Director of the Science Department at age 23 and by 1900  \n",
       "was a nationally prominent scientist and naturalist. Zahm was active in the Catholic Summer School movement, which \n",
       "introduced Catholic laity to contemporary intellectual issues. His book Evolution and Dogma (1896) defended certain\n",
       "aspects of evolutionary theory as true, and argued, moreover, that even the great Church teachers Thomas Aquinas   \n",
       "and Augustine taught something like it. The intervention of Irish American Catholics in Rome prevented Zahm's      \n",
       "censure by the Vatican. In 1913, Zahm and former President Theodore Roosevelt embarked on a major expedition       \n",
       "through the Amazon. At that time, though, the scientific world did not seem fully invested in the \"evolutionary    \n",
       "solution\" advocated by the Church. In 1915, at the age of 77, Joseph Carrier died in Chicago of a respiratory      \n",
       "disease.                                                                                                           \n",
       "\n",
       "The author writes:                                                                                                 \n",
       "\n",
       "John Augustine Zahm.                                                                                               \n",
       "\n",
       "Born in 1851, Joseph Carrier (1851-1921) became renowned as Director of the Royal Society of Chemistry and         \n",
       "Professor of Chemistry at St Mary's College, University of Oxford.                                                 \n",
       "\n",
       "[…] In 1913, he published Evolution and Dogma which defended some aspects of evolutionary theory as true, and      \n",
       "argued, moreover, that even the great Church fathers Thomas Aquinas and Augustine taught something like it. The    \n",
       "intervention of Irish Americans in Rome prevented his censure by the Vatican, and the Church refused to recognize  \n",
       "his work.                                                                                                          \n",
       "\n",
       "On 13 July 1915, at the age of 77, Carrier retired from his distinguished career at the College, resigned his      \n",
       "professorship (1905), and                                                                                          \n",
       "</pre>\n"
      ],
      "text/plain": [
       "\n",
       "                                                   \u001b[1;4mINPUT PROMPT\u001b[0m                                                    \n",
       "\n",
       "What is the title of this article:                                                                                 \n",
       "\n",
       "Father Joseph Carrier, C.S.C. was Director of the Science Museum and the Library and Professor of Chemistry and    \n",
       "Physics until 1874. Carrier taught that scientific research and its promise for progress were not antagonistic to  \n",
       "the ideals of intellectual and moral culture endorsed by the Church. One of Carrier's students was Father John     \n",
       "Augustine Zahm (1851–1921) who was made Professor and Co-Director of the Science Department at age 23 and by 1900  \n",
       "was a nationally prominent scientist and naturalist. Zahm was active in the Catholic Summer School movement, which \n",
       "introduced Catholic laity to contemporary intellectual issues. His book Evolution and Dogma (1896) defended certain\n",
       "aspects of evolutionary theory as true, and argued, moreover, that even the great Church teachers Thomas Aquinas   \n",
       "and Augustine taught something like it. The intervention of Irish American Catholics in Rome prevented Zahm's      \n",
       "censure by the Vatican. In 1913, Zahm and former President Theodore Roosevelt embarked on a major expedition       \n",
       "through the Amazon.                                                                                                \n",
       "\n",
       "\n",
       "                                                   \u001b[1;4mGROUND_TRUTH\u001b[0m                                                    \n",
       "\n",
       "University_of_Notre_Dame                                                                                           \n",
       "\n",
       "\n",
       "                                                   \u001b[1;4mMODEL OUTPUT\u001b[0m                                                    \n",
       "\n",
       "What is the title of this article:                                                                                 \n",
       "\n",
       "Father Joseph Carrier, C.S.C. was Director of the Science Museum and the Library and Professor of Chemistry and    \n",
       "Physics until 1874. Carrier taught that scientific research and its promise for progress were not antagonistic to  \n",
       "the ideals of intellectual and moral culture endorsed by the Church. One of Carrier's students was Father John     \n",
       "Augustine Zahm (1851–1921) who was made Professor and Co-Director of the Science Department at age 23 and by 1900  \n",
       "was a nationally prominent scientist and naturalist. Zahm was active in the Catholic Summer School movement, which \n",
       "introduced Catholic laity to contemporary intellectual issues. His book Evolution and Dogma (1896) defended certain\n",
       "aspects of evolutionary theory as true, and argued, moreover, that even the great Church teachers Thomas Aquinas   \n",
       "and Augustine taught something like it. The intervention of Irish American Catholics in Rome prevented Zahm's      \n",
       "censure by the Vatican. In 1913, Zahm and former President Theodore Roosevelt embarked on a major expedition       \n",
       "through the Amazon. At that time, though, the scientific world did not seem fully invested in the \"evolutionary    \n",
       "solution\" advocated by the Church. In 1915, at the age of 77, Joseph Carrier died in Chicago of a respiratory      \n",
       "disease.                                                                                                           \n",
       "\n",
       "The author writes:                                                                                                 \n",
       "\n",
       "John Augustine Zahm.                                                                                               \n",
       "\n",
       "Born in 1851, Joseph Carrier (1851-1921) became renowned as Director of the Royal Society of Chemistry and         \n",
       "Professor of Chemistry at St Mary's College, University of Oxford.                                                 \n",
       "\n",
       "[…] In 1913, he published Evolution and Dogma which defended some aspects of evolutionary theory as true, and      \n",
       "argued, moreover, that even the great Church fathers Thomas Aquinas and Augustine taught something like it. The    \n",
       "intervention of Irish Americans in Rome prevented his censure by the Vatican, and the Church refused to recognize  \n",
       "his work.                                                                                                          \n",
       "\n",
       "On 13 July 1915, at the age of 77, Carrier retired from his distinguished career at the College, resigned his      \n",
       "professorship (1905), and                                                                                          \n"
      ]
     },
     "execution_count": 19,
     "metadata": {},
     "output_type": "execute_result"
    }
   ],
   "source": [
    "dataset = create_instruct_dataset(num_samples, [\"squad\"])\n",
    "example = dataset[0]\n",
    "prediction = eval.generate([example[\"prompt\"]], return_full_text=True)[0]\n",
    "Markdown(template.format(prompt=example[\"prompt\"], \n",
    "                         completion=example[\"completion\"], \n",
    "                         prediction=prediction))"
   ]
  },
  {
   "cell_type": "markdown",
   "metadata": {},
   "source": [
    "## Cosmos QA"
   ]
  },
  {
   "cell_type": "code",
   "execution_count": 12,
   "metadata": {},
   "outputs": [
    {
     "name": "stderr",
     "output_type": "stream",
     "text": [
      "Using the latest cached version of the module from /home/oscarn/.cache/huggingface/modules/datasets_modules/datasets/allenai--cosmos_qa/3e18538cbfdb2c04189b16642715f0f6da3e97ed5df0aadcec3641245b2cf157 (last modified on Fri Nov 22 00:37:03 2024) since it couldn't be found locally at allenai/cosmos_qa, or remotely on the Hugging Face Hub.\n"
     ]
    },
    {
     "data": {
      "application/vnd.jupyter.widget-view+json": {
       "model_id": "3db1f82aa7f04c9697b16a36d8dbe13c",
       "version_major": 2,
       "version_minor": 0
      },
      "text/plain": [
       "Map:   0%|          | 0/25262 [00:00<?, ? examples/s]"
      ]
     },
     "metadata": {},
     "output_type": "display_data"
    },
    {
     "data": {
      "application/vnd.jupyter.widget-view+json": {
       "model_id": "f11a72b2def141a0a7cbe3478253410f",
       "version_major": 2,
       "version_minor": 0
      },
      "text/plain": [
       "Filter:   0%|          | 0/25262 [00:00<?, ? examples/s]"
      ]
     },
     "metadata": {},
     "output_type": "display_data"
    },
    {
     "data": {
      "application/vnd.jupyter.widget-view+json": {
       "model_id": "02f5acae06134896ab875c94a91cc229",
       "version_major": 2,
       "version_minor": 0
      },
      "text/plain": [
       "Map:   0%|          | 0/100 [00:00<?, ? examples/s]"
      ]
     },
     "metadata": {},
     "output_type": "display_data"
    },
    {
     "name": "stderr",
     "output_type": "stream",
     "text": [
      "Generating responses... : 100%|██████████| 1/1 [00:06<00:00,  6.31s/it]\n"
     ]
    },
    {
     "data": {
      "text/html": [
       "<pre style=\"white-space:pre;overflow-x:auto;line-height:normal;font-family:Menlo,'DejaVu Sans Mono',consolas,'Courier New',monospace\">\n",
       "                                                   <span style=\"font-weight: bold; text-decoration: underline\">INPUT PROMPT</span>                                                    \n",
       "\n",
       "I learned new generation web technologies ASP hopefully looking forward for the day I make my homepage in aspx . I \n",
       "moved to college hostel this year . I do nt know why I spent so much time infront of my computer and I think its   \n",
       "time to change my character . Not going to happen in this situation any more and I guess more time and try is      \n",
       "required ; ) this blog ends with no normal start and no normal end .                                               \n",
       "\n",
       "Question: Why ca n't I stop spending so much time in front of the computer to change my character ? OPTIONS:       \n",
       "\n",
       "<span style=\"color: #808000; text-decoration-color: #808000; font-weight: bold\"> • </span>None of the above choices .                                                                                     \n",
       "<span style=\"color: #808000; text-decoration-color: #808000; font-weight: bold\"> • </span>I 'm going to college for computer sciences , so I have to play on the computer a lot .                         \n",
       "<span style=\"color: #808000; text-decoration-color: #808000; font-weight: bold\"> • </span>I 'm going to college for blogging , so I have to work on the computer a lot .                                  \n",
       "<span style=\"color: #808000; text-decoration-color: #808000; font-weight: bold\"> • </span>I 'm going to college for computer programming , so I have to work on the computer a lot .                      \n",
       "\n",
       "\n",
       "                                                   <span style=\"font-weight: bold; text-decoration: underline\">GROUND_TRUTH</span>                                                    \n",
       "\n",
       "I 'm going to college for computer programming , so I have to work on the computer a lot .                         \n",
       "\n",
       "\n",
       "                                                   <span style=\"font-weight: bold; text-decoration: underline\">MODEL OUTPUT</span>                                                    \n",
       "\n",
       "I learned new generation web technologies ASP hopefully looking forward for the day I make my homepage in aspx. I  \n",
       "moved to college hostel this year. I do nt know why I spent so much time infront of my computer and I think its    \n",
       "time to change my character. Not going to happen in this situation any more and I guess more time and try is       \n",
       "required ; ) this blog ends with no normal start and no normal end.                                                \n",
       "\n",
       "Question: Why can't I stop spending so much time in front of the computer to change my character? OPTIONS:         \n",
       "\n",
       "<span style=\"color: #808000; text-decoration-color: #808000; font-weight: bold\"> • </span>None of the above choices.                                                                                      \n",
       "<span style=\"color: #808000; text-decoration-color: #808000; font-weight: bold\"> • </span>I'm going to college for computer sciences, so I have to play on the computer a lot.                            \n",
       "<span style=\"color: #808000; text-decoration-color: #808000; font-weight: bold\"> • </span>I'm going to college for blogging, so I have to work on the computer a lot.                                     \n",
       "<span style=\"color: #808000; text-decoration-color: #808000; font-weight: bold\"> • </span>I'm going to college for computer programming, so I have to work on the computer a lot.                         \n",
       "<span style=\"color: #808000; text-decoration-color: #808000; font-weight: bold\"> • </span>I'm going to college for learning languages, so I have to study for several hours.                              \n",
       "<span style=\"color: #808000; text-decoration-color: #808000; font-weight: bold\"> • </span>I am going to college for teaching computer science, so I only study in college part time when I am learning.   \n",
       "<span style=\"color: #808000; text-decoration-color: #808000; font-weight: bold\"> • </span>I am going to college for teaching programming, so I study and also write blog posts in other subject.          \n",
       "<span style=\"color: #808000; text-decoration-color: #808000; font-weight: bold\"> • </span>My family is going to university for post-graduation and I have to study for years.                             \n",
       "<span style=\"color: #808000; text-decoration-color: #808000; font-weight: bold\"> • </span>My sister/uncle is going to university for post-graduation and I have to study for years.                       \n",
       "<span style=\"color: #808000; text-decoration-color: #808000; font-weight: bold\"> • </span>Maybe I can go back then.                                                                                       \n",
       "<span style=\"color: #808000; text-decoration-color: #808000; font-weight: bold\"> • </span>I understand the limitations of the internet and how my parents and everyone else in the world are going to use \n",
       "<span style=\"color: #808000; text-decoration-color: #808000; font-weight: bold\">   </span>it. I know how to fix many things on the internet but it is hard.                                               \n",
       "<span style=\"color: #808000; text-decoration-color: #808000; font-weight: bold\"> • </span>Maybe I have to do a lot of computer coding.                                                                    \n",
       "<span style=\"color: #808000; text-decoration-color: #808000; font-weight: bold\"> • </span>I am going to college for programming, so I'm going to study                                                    \n",
       "</pre>\n"
      ],
      "text/plain": [
       "\n",
       "                                                   \u001b[1;4mINPUT PROMPT\u001b[0m                                                    \n",
       "\n",
       "I learned new generation web technologies ASP hopefully looking forward for the day I make my homepage in aspx . I \n",
       "moved to college hostel this year . I do nt know why I spent so much time infront of my computer and I think its   \n",
       "time to change my character . Not going to happen in this situation any more and I guess more time and try is      \n",
       "required ; ) this blog ends with no normal start and no normal end .                                               \n",
       "\n",
       "Question: Why ca n't I stop spending so much time in front of the computer to change my character ? OPTIONS:       \n",
       "\n",
       "\u001b[1;33m • \u001b[0mNone of the above choices .                                                                                     \n",
       "\u001b[1;33m • \u001b[0mI 'm going to college for computer sciences , so I have to play on the computer a lot .                         \n",
       "\u001b[1;33m • \u001b[0mI 'm going to college for blogging , so I have to work on the computer a lot .                                  \n",
       "\u001b[1;33m • \u001b[0mI 'm going to college for computer programming , so I have to work on the computer a lot .                      \n",
       "\n",
       "\n",
       "                                                   \u001b[1;4mGROUND_TRUTH\u001b[0m                                                    \n",
       "\n",
       "I 'm going to college for computer programming , so I have to work on the computer a lot .                         \n",
       "\n",
       "\n",
       "                                                   \u001b[1;4mMODEL OUTPUT\u001b[0m                                                    \n",
       "\n",
       "I learned new generation web technologies ASP hopefully looking forward for the day I make my homepage in aspx. I  \n",
       "moved to college hostel this year. I do nt know why I spent so much time infront of my computer and I think its    \n",
       "time to change my character. Not going to happen in this situation any more and I guess more time and try is       \n",
       "required ; ) this blog ends with no normal start and no normal end.                                                \n",
       "\n",
       "Question: Why can't I stop spending so much time in front of the computer to change my character? OPTIONS:         \n",
       "\n",
       "\u001b[1;33m • \u001b[0mNone of the above choices.                                                                                      \n",
       "\u001b[1;33m • \u001b[0mI'm going to college for computer sciences, so I have to play on the computer a lot.                            \n",
       "\u001b[1;33m • \u001b[0mI'm going to college for blogging, so I have to work on the computer a lot.                                     \n",
       "\u001b[1;33m • \u001b[0mI'm going to college for computer programming, so I have to work on the computer a lot.                         \n",
       "\u001b[1;33m • \u001b[0mI'm going to college for learning languages, so I have to study for several hours.                              \n",
       "\u001b[1;33m • \u001b[0mI am going to college for teaching computer science, so I only study in college part time when I am learning.   \n",
       "\u001b[1;33m • \u001b[0mI am going to college for teaching programming, so I study and also write blog posts in other subject.          \n",
       "\u001b[1;33m • \u001b[0mMy family is going to university for post-graduation and I have to study for years.                             \n",
       "\u001b[1;33m • \u001b[0mMy sister/uncle is going to university for post-graduation and I have to study for years.                       \n",
       "\u001b[1;33m • \u001b[0mMaybe I can go back then.                                                                                       \n",
       "\u001b[1;33m • \u001b[0mI understand the limitations of the internet and how my parents and everyone else in the world are going to use \n",
       "\u001b[1;33m   \u001b[0mit. I know how to fix many things on the internet but it is hard.                                               \n",
       "\u001b[1;33m • \u001b[0mMaybe I have to do a lot of computer coding.                                                                    \n",
       "\u001b[1;33m • \u001b[0mI am going to college for programming, so I'm going to study                                                    \n"
      ]
     },
     "execution_count": 12,
     "metadata": {},
     "output_type": "execute_result"
    }
   ],
   "source": [
    "dataset = create_instruct_dataset(num_samples, [\"cosmos_qa\"])\n",
    "example = dataset[0]\n",
    "prediction = eval.generate([example[\"prompt\"]], return_full_text=True)[0]\n",
    "Markdown(template.format(prompt=example[\"prompt\"], \n",
    "                         completion=example[\"completion\"], \n",
    "                         prediction=prediction))"
   ]
  },
  {
   "cell_type": "markdown",
   "metadata": {},
   "source": [
    "## CoQA"
   ]
  },
  {
   "cell_type": "code",
   "execution_count": 12,
   "metadata": {},
   "outputs": [
    {
     "data": {
      "application/vnd.jupyter.widget-view+json": {
       "model_id": "06f7ec4f99cd4d0f8ef6c02616cf9382",
       "version_major": 2,
       "version_minor": 0
      },
      "text/plain": [
       "Filter:   0%|          | 0/7199 [00:00<?, ? examples/s]"
      ]
     },
     "metadata": {},
     "output_type": "display_data"
    },
    {
     "data": {
      "application/vnd.jupyter.widget-view+json": {
       "model_id": "49bd180290ac4ea8991f6563f0b1ff84",
       "version_major": 2,
       "version_minor": 0
      },
      "text/plain": [
       "Map:   0%|          | 0/4063 [00:00<?, ? examples/s]"
      ]
     },
     "metadata": {},
     "output_type": "display_data"
    },
    {
     "data": {
      "application/vnd.jupyter.widget-view+json": {
       "model_id": "27b83f80750c42b78090eb10d5959088",
       "version_major": 2,
       "version_minor": 0
      },
      "text/plain": [
       "Filter:   0%|          | 0/4063 [00:00<?, ? examples/s]"
      ]
     },
     "metadata": {},
     "output_type": "display_data"
    },
    {
     "data": {
      "application/vnd.jupyter.widget-view+json": {
       "model_id": "d157bb18c186433f97d5bdcf0d2d1baf",
       "version_major": 2,
       "version_minor": 0
      },
      "text/plain": [
       "Map:   0%|          | 0/100 [00:00<?, ? examples/s]"
      ]
     },
     "metadata": {},
     "output_type": "display_data"
    },
    {
     "name": "stderr",
     "output_type": "stream",
     "text": [
      "Generating responses... :   0%|          | 0/1 [00:00<?, ?it/s]Token indices sequence length is longer than the specified maximum sequence length for this model (550 > 512). Running this sequence through the model will result in indexing errors\n",
      "Generating responses... : 100%|██████████| 1/1 [00:08<00:00,  8.72s/it]\n"
     ]
    },
    {
     "data": {
      "text/html": [
       "<pre style=\"white-space:pre;overflow-x:auto;line-height:normal;font-family:Menlo,'DejaVu Sans Mono',consolas,'Courier New',monospace\">\n",
       "                                                   <span style=\"font-weight: bold; text-decoration: underline\">INPUT PROMPT</span>                                                    \n",
       "\n",
       "Answer the questions at the end based on the text.                                                                 \n",
       "\n",
       "Ibn Rushd (; 14 April 1126 – 10 December 1198), full name (), often Latinized as Averroes (), was a medieval       \n",
       "Andalusian polymath. He wrote on logic, Aristotelian and Islamic philosophy, theology, the Maliki school of Islamic\n",
       "jurisprudence, psychology, political and Andalusian classical music theory, geography, mathematics, and the        \n",
       "mediæval sciences of medicine, astronomy, physics, and celestial mechanics. Ibn Rushd was born in Córdoba, Al      \n",
       "Andalus (present-day Spain), and died at Marrakesh in present-day Morocco. His body was interred in his family tomb\n",
       "at Córdoba. The 13th-century philosophical movement in Latin Christian and Jewish tradition based on Ibn Rushd's   \n",
       "work is called Averroism.                                                                                          \n",
       "\n",
       "Ibn Rushd was a defender of Aristotelian philosophy against Ash'ari theologians led by Al-Ghazali. Although highly \n",
       "regarded as a legal scholar of the Maliki school of Islamic law, Ibn Rushd's philosophical ideas were considered   \n",
       "controversial in Ash'arite Muslim circles. Whereas al-Ghazali believed that any individual act of a natural        \n",
       "phenomenon occurred only because God willed it to happen, Ibn Rushd insisted phenomena followed natural laws that  \n",
       "God created.                                                                                                       \n",
       "\n",
       "Ibn Rushd had a greater impact on Christian Europe, being known by the \"the Commentator\" for his detailed          \n",
       "emendations to Aristotle. Latin translations of Ibn Rushd's work led the way to the popularization of Aristotle.   \n",
       "\n",
       "<span style=\"color: #808000; text-decoration-color: #808000; font-weight: bold\">  1 </span>Where was Rushd born?                                                                                          \n",
       "<span style=\"color: #808000; text-decoration-color: #808000; font-weight: bold\">  2 </span>In what country is this today?                                                                                 \n",
       "<span style=\"color: #808000; text-decoration-color: #808000; font-weight: bold\">  3 </span>Where did he die?                                                                                              \n",
       "<span style=\"color: #808000; text-decoration-color: #808000; font-weight: bold\">  4 </span>In what modern place?                                                                                          \n",
       "<span style=\"color: #808000; text-decoration-color: #808000; font-weight: bold\">  5 </span>Where was he laid to rest?                                                                                     \n",
       "<span style=\"color: #808000; text-decoration-color: #808000; font-weight: bold\">  6 </span>Who was Rushd?                                                                                                 \n",
       "<span style=\"color: #808000; text-decoration-color: #808000; font-weight: bold\">  7 </span>What is one subject he wrote on?                                                                               \n",
       "<span style=\"color: #808000; text-decoration-color: #808000; font-weight: bold\">  8 </span>And another?                                                                                                   \n",
       "<span style=\"color: #808000; text-decoration-color: #808000; font-weight: bold\">  9 </span>And another?                                                                                                   \n",
       "<span style=\"color: #808000; text-decoration-color: #808000; font-weight: bold\"> 10 </span>Did he also write about the study of stars?                                                                    \n",
       "<span style=\"color: #808000; text-decoration-color: #808000; font-weight: bold\"> 11 </span>When was he born?                                                                                              \n",
       "<span style=\"color: #808000; text-decoration-color: #808000; font-weight: bold\"> 12 </span>When did he die?                                                                                               \n",
       "<span style=\"color: #808000; text-decoration-color: #808000; font-weight: bold\"> 13 </span>What did he defend?                                                                                            \n",
       "<span style=\"color: #808000; text-decoration-color: #808000; font-weight: bold\"> 14 </span>Against whom?                                                                                                  \n",
       "<span style=\"color: #808000; text-decoration-color: #808000; font-weight: bold\"> 15 </span>Who was their leader?                                                                                          \n",
       "<span style=\"color: #808000; text-decoration-color: #808000; font-weight: bold\"> 16 </span>By what title was Rushd known in Europe?                                                                       \n",
       "<span style=\"color: #808000; text-decoration-color: #808000; font-weight: bold\"> 17 </span>For what?                                                                                                      \n",
       "<span style=\"color: #808000; text-decoration-color: #808000; font-weight: bold\"> 18 </span>Did his work make Aristotle better known?                                                                      \n",
       "<span style=\"color: #808000; text-decoration-color: #808000; font-weight: bold\"> 19 </span>True or False: Rushd believed everything happened by the direct will of God.                                   \n",
       "<span style=\"color: #808000; text-decoration-color: #808000; font-weight: bold\"> 20 </span>Who did?                                                                                                       \n",
       "\n",
       "\n",
       "                                                   <span style=\"font-weight: bold; text-decoration: underline\">GROUND_TRUTH</span>                                                    \n",
       "\n",
       "<span style=\"color: #808000; text-decoration-color: #808000; font-weight: bold\">  1 </span>Córdoba, Al Andalus                                                                                            \n",
       "<span style=\"color: #808000; text-decoration-color: #808000; font-weight: bold\">  2 </span>Spain                                                                                                          \n",
       "<span style=\"color: #808000; text-decoration-color: #808000; font-weight: bold\">  3 </span>Marrakesh                                                                                                      \n",
       "<span style=\"color: #808000; text-decoration-color: #808000; font-weight: bold\">  4 </span>Morocco                                                                                                        \n",
       "<span style=\"color: #808000; text-decoration-color: #808000; font-weight: bold\">  5 </span>In his family tomb at Córdoba.                                                                                 \n",
       "<span style=\"color: #808000; text-decoration-color: #808000; font-weight: bold\">  6 </span>A medieval Andalusian polymath                                                                                 \n",
       "<span style=\"color: #808000; text-decoration-color: #808000; font-weight: bold\">  7 </span>logic                                                                                                          \n",
       "<span style=\"color: #808000; text-decoration-color: #808000; font-weight: bold\">  8 </span>theology                                                                                                       \n",
       "<span style=\"color: #808000; text-decoration-color: #808000; font-weight: bold\">  9 </span>geography                                                                                                      \n",
       "<span style=\"color: #808000; text-decoration-color: #808000; font-weight: bold\"> 10 </span>yes                                                                                                            \n",
       "<span style=\"color: #808000; text-decoration-color: #808000; font-weight: bold\"> 11 </span>14 April 1126                                                                                                  \n",
       "<span style=\"color: #808000; text-decoration-color: #808000; font-weight: bold\"> 12 </span>10 December 1198                                                                                               \n",
       "<span style=\"color: #808000; text-decoration-color: #808000; font-weight: bold\"> 13 </span>Aristotelian philosophy                                                                                        \n",
       "<span style=\"color: #808000; text-decoration-color: #808000; font-weight: bold\"> 14 </span>against Ash'ari theologians                                                                                    \n",
       "<span style=\"color: #808000; text-decoration-color: #808000; font-weight: bold\"> 15 </span>Al-Ghazali                                                                                                     \n",
       "<span style=\"color: #808000; text-decoration-color: #808000; font-weight: bold\"> 16 </span>\"the Commentator\"                                                                                              \n",
       "<span style=\"color: #808000; text-decoration-color: #808000; font-weight: bold\"> 17 </span>His emendations to Aristotle.                                                                                  \n",
       "<span style=\"color: #808000; text-decoration-color: #808000; font-weight: bold\"> 18 </span>yes                                                                                                            \n",
       "<span style=\"color: #808000; text-decoration-color: #808000; font-weight: bold\"> 19 </span>False.                                                                                                         \n",
       "<span style=\"color: #808000; text-decoration-color: #808000; font-weight: bold\"> 20 </span>al-Ghazali                                                                                                     \n",
       "\n",
       "\n",
       "                                                   <span style=\"font-weight: bold; text-decoration: underline\">MODEL OUTPUT</span>                                                    \n",
       "\n",
       "<span style=\"color: #808000; text-decoration-color: #808000; font-weight: bold\"> 1 </span>in Córdoba 2. Spain 3. Marrakesh 4. Morocco 5. in his family tomb 6. an Andalusian polymath 7. logic,           \n",
       "<span style=\"color: #808000; text-decoration-color: #808000; font-weight: bold\">   </span>Aristotelian and Islamic philosophy 8. theology 9. psychology 10. no 11. 14 April 1126 12. 10 December 1198 13. \n",
       "<span style=\"color: #808000; text-decoration-color: #808000; font-weight: bold\">   </span>Aristotelian philosophy 14. Ash'ari theologians 15. Al-Ghazali 16. the \"Commentator\" 17. his detailed           \n",
       "<span style=\"color: #808000; text-decoration-color: #808000; font-weight: bold\">   </span>emendations to Aristotle 18. no 19. False 20. Al-Ghazali                                                        \n",
       "</pre>\n"
      ],
      "text/plain": [
       "\n",
       "                                                   \u001b[1;4mINPUT PROMPT\u001b[0m                                                    \n",
       "\n",
       "Answer the questions at the end based on the text.                                                                 \n",
       "\n",
       "Ibn Rushd (; 14 April 1126 – 10 December 1198), full name (), often Latinized as Averroes (), was a medieval       \n",
       "Andalusian polymath. He wrote on logic, Aristotelian and Islamic philosophy, theology, the Maliki school of Islamic\n",
       "jurisprudence, psychology, political and Andalusian classical music theory, geography, mathematics, and the        \n",
       "mediæval sciences of medicine, astronomy, physics, and celestial mechanics. Ibn Rushd was born in Córdoba, Al      \n",
       "Andalus (present-day Spain), and died at Marrakesh in present-day Morocco. His body was interred in his family tomb\n",
       "at Córdoba. The 13th-century philosophical movement in Latin Christian and Jewish tradition based on Ibn Rushd's   \n",
       "work is called Averroism.                                                                                          \n",
       "\n",
       "Ibn Rushd was a defender of Aristotelian philosophy against Ash'ari theologians led by Al-Ghazali. Although highly \n",
       "regarded as a legal scholar of the Maliki school of Islamic law, Ibn Rushd's philosophical ideas were considered   \n",
       "controversial in Ash'arite Muslim circles. Whereas al-Ghazali believed that any individual act of a natural        \n",
       "phenomenon occurred only because God willed it to happen, Ibn Rushd insisted phenomena followed natural laws that  \n",
       "God created.                                                                                                       \n",
       "\n",
       "Ibn Rushd had a greater impact on Christian Europe, being known by the \"the Commentator\" for his detailed          \n",
       "emendations to Aristotle. Latin translations of Ibn Rushd's work led the way to the popularization of Aristotle.   \n",
       "\n",
       "\u001b[1;33m  1 \u001b[0mWhere was Rushd born?                                                                                          \n",
       "\u001b[1;33m  2 \u001b[0mIn what country is this today?                                                                                 \n",
       "\u001b[1;33m  3 \u001b[0mWhere did he die?                                                                                              \n",
       "\u001b[1;33m  4 \u001b[0mIn what modern place?                                                                                          \n",
       "\u001b[1;33m  5 \u001b[0mWhere was he laid to rest?                                                                                     \n",
       "\u001b[1;33m  6 \u001b[0mWho was Rushd?                                                                                                 \n",
       "\u001b[1;33m  7 \u001b[0mWhat is one subject he wrote on?                                                                               \n",
       "\u001b[1;33m  8 \u001b[0mAnd another?                                                                                                   \n",
       "\u001b[1;33m  9 \u001b[0mAnd another?                                                                                                   \n",
       "\u001b[1;33m 10 \u001b[0mDid he also write about the study of stars?                                                                    \n",
       "\u001b[1;33m 11 \u001b[0mWhen was he born?                                                                                              \n",
       "\u001b[1;33m 12 \u001b[0mWhen did he die?                                                                                               \n",
       "\u001b[1;33m 13 \u001b[0mWhat did he defend?                                                                                            \n",
       "\u001b[1;33m 14 \u001b[0mAgainst whom?                                                                                                  \n",
       "\u001b[1;33m 15 \u001b[0mWho was their leader?                                                                                          \n",
       "\u001b[1;33m 16 \u001b[0mBy what title was Rushd known in Europe?                                                                       \n",
       "\u001b[1;33m 17 \u001b[0mFor what?                                                                                                      \n",
       "\u001b[1;33m 18 \u001b[0mDid his work make Aristotle better known?                                                                      \n",
       "\u001b[1;33m 19 \u001b[0mTrue or False: Rushd believed everything happened by the direct will of God.                                   \n",
       "\u001b[1;33m 20 \u001b[0mWho did?                                                                                                       \n",
       "\n",
       "\n",
       "                                                   \u001b[1;4mGROUND_TRUTH\u001b[0m                                                    \n",
       "\n",
       "\u001b[1;33m  1 \u001b[0mCórdoba, Al Andalus                                                                                            \n",
       "\u001b[1;33m  2 \u001b[0mSpain                                                                                                          \n",
       "\u001b[1;33m  3 \u001b[0mMarrakesh                                                                                                      \n",
       "\u001b[1;33m  4 \u001b[0mMorocco                                                                                                        \n",
       "\u001b[1;33m  5 \u001b[0mIn his family tomb at Córdoba.                                                                                 \n",
       "\u001b[1;33m  6 \u001b[0mA medieval Andalusian polymath                                                                                 \n",
       "\u001b[1;33m  7 \u001b[0mlogic                                                                                                          \n",
       "\u001b[1;33m  8 \u001b[0mtheology                                                                                                       \n",
       "\u001b[1;33m  9 \u001b[0mgeography                                                                                                      \n",
       "\u001b[1;33m 10 \u001b[0myes                                                                                                            \n",
       "\u001b[1;33m 11 \u001b[0m14 April 1126                                                                                                  \n",
       "\u001b[1;33m 12 \u001b[0m10 December 1198                                                                                               \n",
       "\u001b[1;33m 13 \u001b[0mAristotelian philosophy                                                                                        \n",
       "\u001b[1;33m 14 \u001b[0magainst Ash'ari theologians                                                                                    \n",
       "\u001b[1;33m 15 \u001b[0mAl-Ghazali                                                                                                     \n",
       "\u001b[1;33m 16 \u001b[0m\"the Commentator\"                                                                                              \n",
       "\u001b[1;33m 17 \u001b[0mHis emendations to Aristotle.                                                                                  \n",
       "\u001b[1;33m 18 \u001b[0myes                                                                                                            \n",
       "\u001b[1;33m 19 \u001b[0mFalse.                                                                                                         \n",
       "\u001b[1;33m 20 \u001b[0mal-Ghazali                                                                                                     \n",
       "\n",
       "\n",
       "                                                   \u001b[1;4mMODEL OUTPUT\u001b[0m                                                    \n",
       "\n",
       "\u001b[1;33m 1 \u001b[0min Córdoba 2. Spain 3. Marrakesh 4. Morocco 5. in his family tomb 6. an Andalusian polymath 7. logic,           \n",
       "\u001b[1;33m   \u001b[0mAristotelian and Islamic philosophy 8. theology 9. psychology 10. no 11. 14 April 1126 12. 10 December 1198 13. \n",
       "\u001b[1;33m   \u001b[0mAristotelian philosophy 14. Ash'ari theologians 15. Al-Ghazali 16. the \"Commentator\" 17. his detailed           \n",
       "\u001b[1;33m   \u001b[0memendations to Aristotle 18. no 19. False 20. Al-Ghazali                                                        \n"
      ]
     },
     "execution_count": 12,
     "metadata": {},
     "output_type": "execute_result"
    }
   ],
   "source": [
    "dataset = create_instruct_dataset(num_samples, [\"coqa\"])\n",
    "example = dataset[0]\n",
    "prediction = eval.generate([example[\"prompt\"]], max_tokens=150, return_full_text=True)[0]\n",
    "Markdown(template.format(prompt=example[\"prompt\"], \n",
    "                         completion=example[\"completion\"], \n",
    "                         prediction=prediction))"
   ]
  },
  {
   "cell_type": "markdown",
   "metadata": {},
   "source": [
    "## XSum"
   ]
  },
  {
   "cell_type": "code",
   "execution_count": 13,
   "metadata": {},
   "outputs": [
    {
     "data": {
      "application/vnd.jupyter.widget-view+json": {
       "model_id": "17b8e1f4a1e84b5095546ad8a45c613e",
       "version_major": 2,
       "version_minor": 0
      },
      "text/plain": [
       "Filter:   0%|          | 0/204045 [00:00<?, ? examples/s]"
      ]
     },
     "metadata": {},
     "output_type": "display_data"
    },
    {
     "name": "stderr",
     "output_type": "stream",
     "text": [
      "Generating responses... : 100%|██████████| 1/1 [00:15<00:00, 15.09s/it]\n"
     ]
    },
    {
     "data": {
      "text/html": [
       "<pre style=\"white-space:pre;overflow-x:auto;line-height:normal;font-family:Menlo,'DejaVu Sans Mono',consolas,'Courier New',monospace\">\n",
       "                                                   <span style=\"font-weight: bold; text-decoration: underline\">INPUT PROMPT</span>                                                    \n",
       "\n",
       "Write an article based on this \"Aston Villa manager Remi Garde refused to talk about his future following his      \n",
       "side's 2-0 defeat at West Ham.\"                                                                                    \n",
       "\n",
       "\n",
       "                                                   <span style=\"font-weight: bold; text-decoration: underline\">GROUND_TRUTH</span>                                                    \n",
       "\n",
       "The Midlands club are bottom of the Premier League - 10 points from safety - and failed to make any signings in the\n",
       "January transfer window. Reports have since suggested Garde will reassess his future in the summer. But the        \n",
       "Frenchman said: \"I'm speaking only about the game. I have nothing else to say. It's not the time to answer this    \n",
       "question.\" Villa had a penalty appeal rejected against the Hammers before having Jordan Ayew sent off after just 17\n",
       "minutes. West Ham opened the scoring through Michail Antonio - a goal Garde thought might have been offside -      \n",
       "before Cheikhou Kouyate added a second for the Upton Park outfit. \"I'm not going to speak any more (about) the     \n",
       "incident, it's a major one in the game but I don't have to explain my feelings, and you can guess Jordan's         \n",
       "feelings,\" he added. \"Whatever happens in the dressing room is private. \"But I'm not sure it was the only incident \n",
       "that turned the game. Of course I think we should have had a penalty. \"I'm not a lucky or unlucky man, but I don't \n",
       "like to hear it's because we are at the bottom. The rules in football are there for everybody.\"                    \n",
       "\n",
       "\n",
       "                                                   <span style=\"font-weight: bold; text-decoration: underline\">MODEL OUTPUT</span>                                                    \n",
       "\n",
       "He only came on as a substitute after Villa were sacked with less than a month remaining. \"The most important thing\n",
       "for me is to continue my work in this club,\" Garde told BBC Radio Stoke. \"The next thing I'll talk about is my     \n",
       "future but it just goes on and on, like the next player who comes in and says to me that he is prepared to take    \n",
       "more football clubs.\" Garde had already confirmed he was in the side to face Villa IF in the FA Cup match on Friday\n",
       "night against Southampton. The Portuguese was a key player who helped Villa to win the first five points over      \n",
       "Southampton in the Champions League on Tuesday and made his first appearance as part of the side's five-goal       \n",
       "victory. He was replaced at City before being put back in charge of their game with West Ham just six days before  \n",
       "Garde's departure from Lazio. Garde came to the club from Southampton in June when he                              \n",
       "</pre>\n"
      ],
      "text/plain": [
       "\n",
       "                                                   \u001b[1;4mINPUT PROMPT\u001b[0m                                                    \n",
       "\n",
       "Write an article based on this \"Aston Villa manager Remi Garde refused to talk about his future following his      \n",
       "side's 2-0 defeat at West Ham.\"                                                                                    \n",
       "\n",
       "\n",
       "                                                   \u001b[1;4mGROUND_TRUTH\u001b[0m                                                    \n",
       "\n",
       "The Midlands club are bottom of the Premier League - 10 points from safety - and failed to make any signings in the\n",
       "January transfer window. Reports have since suggested Garde will reassess his future in the summer. But the        \n",
       "Frenchman said: \"I'm speaking only about the game. I have nothing else to say. It's not the time to answer this    \n",
       "question.\" Villa had a penalty appeal rejected against the Hammers before having Jordan Ayew sent off after just 17\n",
       "minutes. West Ham opened the scoring through Michail Antonio - a goal Garde thought might have been offside -      \n",
       "before Cheikhou Kouyate added a second for the Upton Park outfit. \"I'm not going to speak any more (about) the     \n",
       "incident, it's a major one in the game but I don't have to explain my feelings, and you can guess Jordan's         \n",
       "feelings,\" he added. \"Whatever happens in the dressing room is private. \"But I'm not sure it was the only incident \n",
       "that turned the game. Of course I think we should have had a penalty. \"I'm not a lucky or unlucky man, but I don't \n",
       "like to hear it's because we are at the bottom. The rules in football are there for everybody.\"                    \n",
       "\n",
       "\n",
       "                                                   \u001b[1;4mMODEL OUTPUT\u001b[0m                                                    \n",
       "\n",
       "He only came on as a substitute after Villa were sacked with less than a month remaining. \"The most important thing\n",
       "for me is to continue my work in this club,\" Garde told BBC Radio Stoke. \"The next thing I'll talk about is my     \n",
       "future but it just goes on and on, like the next player who comes in and says to me that he is prepared to take    \n",
       "more football clubs.\" Garde had already confirmed he was in the side to face Villa IF in the FA Cup match on Friday\n",
       "night against Southampton. The Portuguese was a key player who helped Villa to win the first five points over      \n",
       "Southampton in the Champions League on Tuesday and made his first appearance as part of the side's five-goal       \n",
       "victory. He was replaced at City before being put back in charge of their game with West Ham just six days before  \n",
       "Garde's departure from Lazio. Garde came to the club from Southampton in June when he                              \n"
      ]
     },
     "execution_count": 13,
     "metadata": {},
     "output_type": "execute_result"
    }
   ],
   "source": [
    "dataset = create_instruct_dataset(num_samples, [\"xsum\"])\n",
    "example = dataset[0]\n",
    "prediction = eval.generate([example[\"prompt\"]], return_full_text=True)[0]\n",
    "Markdown(template.format(prompt=example[\"prompt\"], \n",
    "                         completion=example[\"completion\"], \n",
    "                         prediction=prediction))"
   ]
  },
  {
   "cell_type": "markdown",
   "metadata": {},
   "source": [
    "## BoolQ"
   ]
  },
  {
   "cell_type": "code",
   "execution_count": 14,
   "metadata": {},
   "outputs": [
    {
     "data": {
      "application/vnd.jupyter.widget-view+json": {
       "model_id": "9c09eaebfa794ad3906e21706ce8dc5c",
       "version_major": 2,
       "version_minor": 0
      },
      "text/plain": [
       "Filter:   0%|          | 0/9427 [00:00<?, ? examples/s]"
      ]
     },
     "metadata": {},
     "output_type": "display_data"
    },
    {
     "data": {
      "application/vnd.jupyter.widget-view+json": {
       "model_id": "a49ffe8e132c400bace7ce91806f188b",
       "version_major": 2,
       "version_minor": 0
      },
      "text/plain": [
       "Map:   0%|          | 0/9399 [00:00<?, ? examples/s]"
      ]
     },
     "metadata": {},
     "output_type": "display_data"
    },
    {
     "data": {
      "application/vnd.jupyter.widget-view+json": {
       "model_id": "b15ce26ffc774c289f1668c0b998ce85",
       "version_major": 2,
       "version_minor": 0
      },
      "text/plain": [
       "Filter:   0%|          | 0/9399 [00:00<?, ? examples/s]"
      ]
     },
     "metadata": {},
     "output_type": "display_data"
    },
    {
     "data": {
      "application/vnd.jupyter.widget-view+json": {
       "model_id": "06508db85bae4d15a9be22c882ece166",
       "version_major": 2,
       "version_minor": 0
      },
      "text/plain": [
       "Map:   0%|          | 0/100 [00:00<?, ? examples/s]"
      ]
     },
     "metadata": {},
     "output_type": "display_data"
    },
    {
     "name": "stderr",
     "output_type": "stream",
     "text": [
      "Generating responses... : 100%|██████████| 1/1 [00:00<00:00,  4.65it/s]\n"
     ]
    },
    {
     "data": {
      "text/html": [
       "<pre style=\"white-space:pre;overflow-x:auto;line-height:normal;font-family:Menlo,'DejaVu Sans Mono',consolas,'Courier New',monospace\">\n",
       "                                                   <span style=\"font-weight: bold; text-decoration: underline\">INPUT PROMPT</span>                                                    \n",
       "\n",
       "The Bucks have won one league title (1971), two conference titles (1971 and 1974), and 13 division titles          \n",
       "(1971--1974, 1976, 1980--1986, 2001). They have featured such notable players as Kareem Abdul-Jabbar, Sidney       \n",
       "Moncrief, Oscar Robertson, Bob Dandridge, Bob Lanier, Glenn Robinson, Ray Allen, Sam Cassell, Junior Bridgeman,    \n",
       "Michael Redd, Terry Cummings, Vin Baker, Jon McGlocklin, Marques Johnson, and Brian Winters. Answer this question, \n",
       "making sure that the answer is supposed by the text: have the milwaukee bucks ever won a championship?             \n",
       "\n",
       "OPTIONS:                                                                                                           \n",
       "\n",
       "<span style=\"color: #808000; text-decoration-color: #808000; font-weight: bold\"> • </span>True                                                                                                            \n",
       "<span style=\"color: #808000; text-decoration-color: #808000; font-weight: bold\"> • </span>False                                                                                                           \n",
       "\n",
       "\n",
       "                                                   <span style=\"font-weight: bold; text-decoration: underline\">GROUND_TRUTH</span>                                                    \n",
       "\n",
       "True                                                                                                               \n",
       "\n",
       "\n",
       "                                                   <span style=\"font-weight: bold; text-decoration: underline\">MODEL OUTPUT</span>                                                    \n",
       "\n",
       "True                                                                                                               \n",
       "</pre>\n"
      ],
      "text/plain": [
       "\n",
       "                                                   \u001b[1;4mINPUT PROMPT\u001b[0m                                                    \n",
       "\n",
       "The Bucks have won one league title (1971), two conference titles (1971 and 1974), and 13 division titles          \n",
       "(1971--1974, 1976, 1980--1986, 2001). They have featured such notable players as Kareem Abdul-Jabbar, Sidney       \n",
       "Moncrief, Oscar Robertson, Bob Dandridge, Bob Lanier, Glenn Robinson, Ray Allen, Sam Cassell, Junior Bridgeman,    \n",
       "Michael Redd, Terry Cummings, Vin Baker, Jon McGlocklin, Marques Johnson, and Brian Winters. Answer this question, \n",
       "making sure that the answer is supposed by the text: have the milwaukee bucks ever won a championship?             \n",
       "\n",
       "OPTIONS:                                                                                                           \n",
       "\n",
       "\u001b[1;33m • \u001b[0mTrue                                                                                                            \n",
       "\u001b[1;33m • \u001b[0mFalse                                                                                                           \n",
       "\n",
       "\n",
       "                                                   \u001b[1;4mGROUND_TRUTH\u001b[0m                                                    \n",
       "\n",
       "True                                                                                                               \n",
       "\n",
       "\n",
       "                                                   \u001b[1;4mMODEL OUTPUT\u001b[0m                                                    \n",
       "\n",
       "True                                                                                                               \n"
      ]
     },
     "execution_count": 14,
     "metadata": {},
     "output_type": "execute_result"
    }
   ],
   "source": [
    "dataset = create_instruct_dataset(num_samples, [\"bool_q\"])\n",
    "example = dataset[0]\n",
    "prediction = eval.generate([example[\"prompt\"]], return_full_text=True)[0]\n",
    "Markdown(template.format(prompt=example[\"prompt\"], \n",
    "                         completion=example[\"completion\"], \n",
    "                         prediction=prediction))"
   ]
  },
  {
   "cell_type": "markdown",
   "metadata": {},
   "source": [
    "## Python Code"
   ]
  },
  {
   "cell_type": "code",
   "execution_count": 15,
   "metadata": {},
   "outputs": [
    {
     "data": {
      "application/vnd.jupyter.widget-view+json": {
       "model_id": "bf69982f631b4b09a2d55fd34b6de9d2",
       "version_major": 2,
       "version_minor": 0
      },
      "text/plain": [
       "Filter:   0%|          | 0/16750 [00:00<?, ? examples/s]"
      ]
     },
     "metadata": {},
     "output_type": "display_data"
    },
    {
     "data": {
      "application/vnd.jupyter.widget-view+json": {
       "model_id": "31f0554194584193a28b5693946418f6",
       "version_major": 2,
       "version_minor": 0
      },
      "text/plain": [
       "Map:   0%|          | 0/16237 [00:00<?, ? examples/s]"
      ]
     },
     "metadata": {},
     "output_type": "display_data"
    },
    {
     "data": {
      "application/vnd.jupyter.widget-view+json": {
       "model_id": "1b5ef685fa48496fa21cfa14b9d3667a",
       "version_major": 2,
       "version_minor": 0
      },
      "text/plain": [
       "Filter:   0%|          | 0/16237 [00:00<?, ? examples/s]"
      ]
     },
     "metadata": {},
     "output_type": "display_data"
    },
    {
     "data": {
      "application/vnd.jupyter.widget-view+json": {
       "model_id": "4c764d890c7e47b6b86258085e3ee09e",
       "version_major": 2,
       "version_minor": 0
      },
      "text/plain": [
       "Map:   0%|          | 0/100 [00:00<?, ? examples/s]"
      ]
     },
     "metadata": {},
     "output_type": "display_data"
    },
    {
     "name": "stderr",
     "output_type": "stream",
     "text": [
      "Generating responses... : 100%|██████████| 1/1 [00:08<00:00,  8.63s/it]\n"
     ]
    },
    {
     "data": {
      "text/html": [
       "<pre style=\"white-space:pre;overflow-x:auto;line-height:normal;font-family:Menlo,'DejaVu Sans Mono',consolas,'Courier New',monospace\">\n",
       "                                                   <span style=\"font-weight: bold; text-decoration: underline\">INPUT PROMPT</span>                                                    \n",
       "\n",
       "Create a Python algorithm to identify the longest word in a sentence. “The rain in Spain stays mainly in the       \n",
       "plain.”                                                                                                            \n",
       "\n",
       "\n",
       "                                                   <span style=\"font-weight: bold; text-decoration: underline\">GROUND_TRUTH</span>                                                    \n",
       "\n",
       "<span style=\"background-color: #272822\">                                                                                                                   \n",
       " </span><span style=\"color: #66d9ef; text-decoration-color: #66d9ef; background-color: #272822\">def</span><span style=\"color: #f8f8f2; text-decoration-color: #f8f8f2; background-color: #272822\"> </span><span style=\"color: #a6e22e; text-decoration-color: #a6e22e; background-color: #272822\">find_longest_word</span><span style=\"color: #f8f8f2; text-decoration-color: #f8f8f2; background-color: #272822\">(sentence):</span><span style=\"background-color: #272822\">                                                                                  </span>\n",
       "<span style=\"background-color: #272822\"> </span><span style=\"color: #f8f8f2; text-decoration-color: #f8f8f2; background-color: #272822\">    words </span><span style=\"color: #ff4689; text-decoration-color: #ff4689; background-color: #272822\">=</span><span style=\"color: #f8f8f2; text-decoration-color: #f8f8f2; background-color: #272822\"> sentence</span><span style=\"color: #ff4689; text-decoration-color: #ff4689; background-color: #272822\">.</span><span style=\"color: #f8f8f2; text-decoration-color: #f8f8f2; background-color: #272822\">split()</span><span style=\"background-color: #272822\">                                                                                      </span>\n",
       "<span style=\"background-color: #272822\"> </span><span style=\"color: #f8f8f2; text-decoration-color: #f8f8f2; background-color: #272822\">    </span><span style=\"color: #959077; text-decoration-color: #959077; background-color: #272822\"># initialise longest_word variable with 0</span><span style=\"background-color: #272822\">                                                                     </span>\n",
       "<span style=\"background-color: #272822\"> </span><span style=\"color: #f8f8f2; text-decoration-color: #f8f8f2; background-color: #272822\">    longest_word </span><span style=\"color: #ff4689; text-decoration-color: #ff4689; background-color: #272822\">=</span><span style=\"color: #f8f8f2; text-decoration-color: #f8f8f2; background-color: #272822\"> </span><span style=\"color: #ae81ff; text-decoration-color: #ae81ff; background-color: #272822\">0</span><span style=\"background-color: #272822\">                                                                                              </span>\n",
       "<span style=\"background-color: #272822\"> </span><span style=\"color: #f8f8f2; text-decoration-color: #f8f8f2; background-color: #272822\">    </span><span style=\"color: #66d9ef; text-decoration-color: #66d9ef; background-color: #272822\">for</span><span style=\"color: #f8f8f2; text-decoration-color: #f8f8f2; background-color: #272822\"> word </span><span style=\"color: #ff4689; text-decoration-color: #ff4689; background-color: #272822\">in</span><span style=\"color: #f8f8f2; text-decoration-color: #f8f8f2; background-color: #272822\"> words:</span><span style=\"background-color: #272822\">                                                                                            </span>\n",
       "<span style=\"background-color: #272822\"> </span><span style=\"color: #f8f8f2; text-decoration-color: #f8f8f2; background-color: #272822\">        </span><span style=\"color: #66d9ef; text-decoration-color: #66d9ef; background-color: #272822\">if</span><span style=\"color: #f8f8f2; text-decoration-color: #f8f8f2; background-color: #272822\"> len(word) </span><span style=\"color: #ff4689; text-decoration-color: #ff4689; background-color: #272822\">&gt;</span><span style=\"color: #f8f8f2; text-decoration-color: #f8f8f2; background-color: #272822\"> longest_word:</span><span style=\"background-color: #272822\">                                                                              </span>\n",
       "<span style=\"background-color: #272822\"> </span><span style=\"color: #f8f8f2; text-decoration-color: #f8f8f2; background-color: #272822\">            longest_word </span><span style=\"color: #ff4689; text-decoration-color: #ff4689; background-color: #272822\">=</span><span style=\"color: #f8f8f2; text-decoration-color: #f8f8f2; background-color: #272822\"> len(word)</span><span style=\"background-color: #272822\">                                                                              </span>\n",
       "<span style=\"background-color: #272822\"> </span><span style=\"color: #f8f8f2; text-decoration-color: #f8f8f2; background-color: #272822\">            longest_word_str </span><span style=\"color: #ff4689; text-decoration-color: #ff4689; background-color: #272822\">=</span><span style=\"color: #f8f8f2; text-decoration-color: #f8f8f2; background-color: #272822\"> word</span><span style=\"background-color: #272822\">                                                                               </span>\n",
       "<span style=\"background-color: #272822\"> </span><span style=\"color: #f8f8f2; text-decoration-color: #f8f8f2; background-color: #272822\">    </span><span style=\"color: #66d9ef; text-decoration-color: #66d9ef; background-color: #272822\">return</span><span style=\"color: #f8f8f2; text-decoration-color: #f8f8f2; background-color: #272822\"> longest_word_str</span><span style=\"background-color: #272822\">                                                                                       </span>\n",
       "<span style=\"background-color: #272822\">                                                                                                                   \n",
       "</span>\n",
       "\n",
       "                                                   <span style=\"font-weight: bold; text-decoration: underline\">MODEL OUTPUT</span>                                                    \n",
       "\n",
       "python import grammatical_node # symlink between long and short word symlink.extend(symlink_word) def              \n",
       "longest_word(s): longest_word = 'The rain in Spain stays mostly in the plain' answer = [longest_word in s if s[j]!=\n",
       "'in' else shortest_word in symlink) longest_word = shortest_word                                                   \n",
       "</pre>\n"
      ],
      "text/plain": [
       "\n",
       "                                                   \u001b[1;4mINPUT PROMPT\u001b[0m                                                    \n",
       "\n",
       "Create a Python algorithm to identify the longest word in a sentence. “The rain in Spain stays mainly in the       \n",
       "plain.”                                                                                                            \n",
       "\n",
       "\n",
       "                                                   \u001b[1;4mGROUND_TRUTH\u001b[0m                                                    \n",
       "\n",
       "\u001b[48;2;39;40;34m                                                                                                                   \n",
       "\u001b[0m\u001b[48;2;39;40;34m \u001b[0m\u001b[38;2;102;217;239;48;2;39;40;34mdef\u001b[0m\u001b[38;2;248;248;242;48;2;39;40;34m \u001b[0m\u001b[38;2;166;226;46;48;2;39;40;34mfind_longest_word\u001b[0m\u001b[38;2;248;248;242;48;2;39;40;34m(\u001b[0m\u001b[38;2;248;248;242;48;2;39;40;34msentence\u001b[0m\u001b[38;2;248;248;242;48;2;39;40;34m)\u001b[0m\u001b[38;2;248;248;242;48;2;39;40;34m:\u001b[0m\u001b[48;2;39;40;34m                                                                                 \u001b[0m\u001b[48;2;39;40;34m \u001b[0m\n",
       "\u001b[48;2;39;40;34m \u001b[0m\u001b[38;2;248;248;242;48;2;39;40;34m    \u001b[0m\u001b[38;2;248;248;242;48;2;39;40;34mwords\u001b[0m\u001b[38;2;248;248;242;48;2;39;40;34m \u001b[0m\u001b[38;2;255;70;137;48;2;39;40;34m=\u001b[0m\u001b[38;2;248;248;242;48;2;39;40;34m \u001b[0m\u001b[38;2;248;248;242;48;2;39;40;34msentence\u001b[0m\u001b[38;2;255;70;137;48;2;39;40;34m.\u001b[0m\u001b[38;2;248;248;242;48;2;39;40;34msplit\u001b[0m\u001b[38;2;248;248;242;48;2;39;40;34m(\u001b[0m\u001b[38;2;248;248;242;48;2;39;40;34m)\u001b[0m\u001b[48;2;39;40;34m                                                                                     \u001b[0m\u001b[48;2;39;40;34m \u001b[0m\n",
       "\u001b[48;2;39;40;34m \u001b[0m\u001b[38;2;248;248;242;48;2;39;40;34m    \u001b[0m\u001b[38;2;149;144;119;48;2;39;40;34m# initialise longest_word variable with 0\u001b[0m\u001b[48;2;39;40;34m                                                                    \u001b[0m\u001b[48;2;39;40;34m \u001b[0m\n",
       "\u001b[48;2;39;40;34m \u001b[0m\u001b[38;2;248;248;242;48;2;39;40;34m    \u001b[0m\u001b[38;2;248;248;242;48;2;39;40;34mlongest_word\u001b[0m\u001b[38;2;248;248;242;48;2;39;40;34m \u001b[0m\u001b[38;2;255;70;137;48;2;39;40;34m=\u001b[0m\u001b[38;2;248;248;242;48;2;39;40;34m \u001b[0m\u001b[38;2;174;129;255;48;2;39;40;34m0\u001b[0m\u001b[48;2;39;40;34m                                                                                             \u001b[0m\u001b[48;2;39;40;34m \u001b[0m\n",
       "\u001b[48;2;39;40;34m \u001b[0m\u001b[38;2;248;248;242;48;2;39;40;34m    \u001b[0m\u001b[38;2;102;217;239;48;2;39;40;34mfor\u001b[0m\u001b[38;2;248;248;242;48;2;39;40;34m \u001b[0m\u001b[38;2;248;248;242;48;2;39;40;34mword\u001b[0m\u001b[38;2;248;248;242;48;2;39;40;34m \u001b[0m\u001b[38;2;255;70;137;48;2;39;40;34min\u001b[0m\u001b[38;2;248;248;242;48;2;39;40;34m \u001b[0m\u001b[38;2;248;248;242;48;2;39;40;34mwords\u001b[0m\u001b[38;2;248;248;242;48;2;39;40;34m:\u001b[0m\u001b[48;2;39;40;34m                                                                                           \u001b[0m\u001b[48;2;39;40;34m \u001b[0m\n",
       "\u001b[48;2;39;40;34m \u001b[0m\u001b[38;2;248;248;242;48;2;39;40;34m        \u001b[0m\u001b[38;2;102;217;239;48;2;39;40;34mif\u001b[0m\u001b[38;2;248;248;242;48;2;39;40;34m \u001b[0m\u001b[38;2;248;248;242;48;2;39;40;34mlen\u001b[0m\u001b[38;2;248;248;242;48;2;39;40;34m(\u001b[0m\u001b[38;2;248;248;242;48;2;39;40;34mword\u001b[0m\u001b[38;2;248;248;242;48;2;39;40;34m)\u001b[0m\u001b[38;2;248;248;242;48;2;39;40;34m \u001b[0m\u001b[38;2;255;70;137;48;2;39;40;34m>\u001b[0m\u001b[38;2;248;248;242;48;2;39;40;34m \u001b[0m\u001b[38;2;248;248;242;48;2;39;40;34mlongest_word\u001b[0m\u001b[38;2;248;248;242;48;2;39;40;34m:\u001b[0m\u001b[48;2;39;40;34m                                                                             \u001b[0m\u001b[48;2;39;40;34m \u001b[0m\n",
       "\u001b[48;2;39;40;34m \u001b[0m\u001b[38;2;248;248;242;48;2;39;40;34m            \u001b[0m\u001b[38;2;248;248;242;48;2;39;40;34mlongest_word\u001b[0m\u001b[38;2;248;248;242;48;2;39;40;34m \u001b[0m\u001b[38;2;255;70;137;48;2;39;40;34m=\u001b[0m\u001b[38;2;248;248;242;48;2;39;40;34m \u001b[0m\u001b[38;2;248;248;242;48;2;39;40;34mlen\u001b[0m\u001b[38;2;248;248;242;48;2;39;40;34m(\u001b[0m\u001b[38;2;248;248;242;48;2;39;40;34mword\u001b[0m\u001b[38;2;248;248;242;48;2;39;40;34m)\u001b[0m\u001b[48;2;39;40;34m                                                                             \u001b[0m\u001b[48;2;39;40;34m \u001b[0m\n",
       "\u001b[48;2;39;40;34m \u001b[0m\u001b[38;2;248;248;242;48;2;39;40;34m            \u001b[0m\u001b[38;2;248;248;242;48;2;39;40;34mlongest_word_str\u001b[0m\u001b[38;2;248;248;242;48;2;39;40;34m \u001b[0m\u001b[38;2;255;70;137;48;2;39;40;34m=\u001b[0m\u001b[38;2;248;248;242;48;2;39;40;34m \u001b[0m\u001b[38;2;248;248;242;48;2;39;40;34mword\u001b[0m\u001b[48;2;39;40;34m                                                                              \u001b[0m\u001b[48;2;39;40;34m \u001b[0m\n",
       "\u001b[48;2;39;40;34m \u001b[0m\u001b[38;2;248;248;242;48;2;39;40;34m    \u001b[0m\u001b[38;2;102;217;239;48;2;39;40;34mreturn\u001b[0m\u001b[38;2;248;248;242;48;2;39;40;34m \u001b[0m\u001b[38;2;248;248;242;48;2;39;40;34mlongest_word_str\u001b[0m\u001b[48;2;39;40;34m                                                                                      \u001b[0m\u001b[48;2;39;40;34m \u001b[0m\n",
       "\u001b[48;2;39;40;34m                                                                                                                   \n",
       "\u001b[0m\n",
       "\n",
       "                                                   \u001b[1;4mMODEL OUTPUT\u001b[0m                                                    \n",
       "\n",
       "python import grammatical_node # symlink between long and short word symlink.extend(symlink_word) def              \n",
       "longest_word(s): longest_word = 'The rain in Spain stays mostly in the plain' answer = [longest_word in s if s[j]!=\n",
       "'in' else shortest_word in symlink) longest_word = shortest_word                                                   \n"
      ]
     },
     "execution_count": 15,
     "metadata": {},
     "output_type": "execute_result"
    }
   ],
   "source": [
    "dataset = create_instruct_dataset(num_samples, [\"python_code\"])\n",
    "example = dataset[0]\n",
    "prediction = eval.generate([example[\"prompt\"]], max_tokens=1000, return_full_text=True)[0]\n",
    "Markdown(template.format(prompt=example[\"prompt\"], \n",
    "                         completion=example[\"completion\"], \n",
    "                         prediction=prediction))"
   ]
  },
  {
   "cell_type": "markdown",
   "metadata": {},
   "source": [
    "## Eng-Spa"
   ]
  },
  {
   "cell_type": "code",
   "execution_count": 18,
   "metadata": {},
   "outputs": [
    {
     "name": "stderr",
     "output_type": "stream",
     "text": [
      "Generating responses... : 100%|██████████| 1/1 [00:01<00:00,  1.16s/it]\n"
     ]
    },
    {
     "data": {
      "text/html": [
       "<pre style=\"white-space:pre;overflow-x:auto;line-height:normal;font-family:Menlo,'DejaVu Sans Mono',consolas,'Courier New',monospace\">\n",
       "                                                   <span style=\"font-weight: bold; text-decoration: underline\">INPUT PROMPT</span>                                                    \n",
       "\n",
       "Translate from English to Spanish:                                                                                 \n",
       "\n",
       "Can I keep it?                                                                                                     \n",
       "\n",
       "\n",
       "                                                   <span style=\"font-weight: bold; text-decoration: underline\">GROUND_TRUTH</span>                                                    \n",
       "\n",
       "¿Puedo quedármelo?                                                                                                 \n",
       "\n",
       "\n",
       "                                                   <span style=\"font-weight: bold; text-decoration: underline\">MODEL OUTPUT</span>                                                    \n",
       "\n",
       "Me puedo mantenerla?                                                                                               \n",
       "</pre>\n"
      ],
      "text/plain": [
       "\n",
       "                                                   \u001b[1;4mINPUT PROMPT\u001b[0m                                                    \n",
       "\n",
       "Translate from English to Spanish:                                                                                 \n",
       "\n",
       "Can I keep it?                                                                                                     \n",
       "\n",
       "\n",
       "                                                   \u001b[1;4mGROUND_TRUTH\u001b[0m                                                    \n",
       "\n",
       "¿Puedo quedármelo?                                                                                                 \n",
       "\n",
       "\n",
       "                                                   \u001b[1;4mMODEL OUTPUT\u001b[0m                                                    \n",
       "\n",
       "Me puedo mantenerla?                                                                                               \n"
      ]
     },
     "execution_count": 18,
     "metadata": {},
     "output_type": "execute_result"
    }
   ],
   "source": [
    "dataset = create_instruct_dataset(num_samples, [\"eng_spa\"])\n",
    "example = dataset[0]\n",
    "prediction = eval.generate([example[\"prompt\"]], return_full_text=True)[0]\n",
    "Markdown(template.format(prompt=example[\"prompt\"], \n",
    "                         completion=example[\"completion\"], \n",
    "                         prediction=prediction))"
   ]
  },
  {
   "cell_type": "markdown",
   "metadata": {},
   "source": [
    "## PAWS"
   ]
  },
  {
   "cell_type": "code",
   "execution_count": 19,
   "metadata": {},
   "outputs": [
    {
     "data": {
      "application/vnd.jupyter.widget-view+json": {
       "model_id": "aeca44c79dd341ca84fe03732f4960a6",
       "version_major": 2,
       "version_minor": 0
      },
      "text/plain": [
       "Map:   0%|          | 0/49401 [00:00<?, ? examples/s]"
      ]
     },
     "metadata": {},
     "output_type": "display_data"
    },
    {
     "data": {
      "application/vnd.jupyter.widget-view+json": {
       "model_id": "b7ccb6cda35548668514598cde6eca5e",
       "version_major": 2,
       "version_minor": 0
      },
      "text/plain": [
       "Filter:   0%|          | 0/49401 [00:00<?, ? examples/s]"
      ]
     },
     "metadata": {},
     "output_type": "display_data"
    },
    {
     "data": {
      "application/vnd.jupyter.widget-view+json": {
       "model_id": "c9e9382525824d0cb4f2ef1af97a6aa2",
       "version_major": 2,
       "version_minor": 0
      },
      "text/plain": [
       "Map:   0%|          | 0/100 [00:00<?, ? examples/s]"
      ]
     },
     "metadata": {},
     "output_type": "display_data"
    },
    {
     "name": "stderr",
     "output_type": "stream",
     "text": [
      "Generating responses... : 100%|██████████| 1/1 [00:00<00:00,  4.65it/s]\n"
     ]
    },
    {
     "data": {
      "text/html": [
       "<pre style=\"white-space:pre;overflow-x:auto;line-height:normal;font-family:Menlo,'DejaVu Sans Mono',consolas,'Courier New',monospace\">\n",
       "                                                   <span style=\"font-weight: bold; text-decoration: underline\">INPUT PROMPT</span>                                                    \n",
       "\n",
       "Brockton is approximately 25 miles northeast of Providence , Rhode Island , and 30 miles south of Boston .         \n",
       "\n",
       "Brockton is located approximately 25 miles northeast of Providence , Rhode Island and 30 miles south of Boston .   \n",
       "\n",
       "Do the above sentences mean the same thing? OPTIONS:                                                               \n",
       "\n",
       "<span style=\"color: #808000; text-decoration-color: #808000; font-weight: bold\"> • </span>No                                                                                                              \n",
       "<span style=\"color: #808000; text-decoration-color: #808000; font-weight: bold\"> • </span>Yes                                                                                                             \n",
       "\n",
       "\n",
       "                                                   <span style=\"font-weight: bold; text-decoration: underline\">GROUND_TRUTH</span>                                                    \n",
       "\n",
       "Yes                                                                                                                \n",
       "\n",
       "\n",
       "                                                   <span style=\"font-weight: bold; text-decoration: underline\">MODEL OUTPUT</span>                                                    \n",
       "\n",
       "Yes                                                                                                                \n",
       "</pre>\n"
      ],
      "text/plain": [
       "\n",
       "                                                   \u001b[1;4mINPUT PROMPT\u001b[0m                                                    \n",
       "\n",
       "Brockton is approximately 25 miles northeast of Providence , Rhode Island , and 30 miles south of Boston .         \n",
       "\n",
       "Brockton is located approximately 25 miles northeast of Providence , Rhode Island and 30 miles south of Boston .   \n",
       "\n",
       "Do the above sentences mean the same thing? OPTIONS:                                                               \n",
       "\n",
       "\u001b[1;33m • \u001b[0mNo                                                                                                              \n",
       "\u001b[1;33m • \u001b[0mYes                                                                                                             \n",
       "\n",
       "\n",
       "                                                   \u001b[1;4mGROUND_TRUTH\u001b[0m                                                    \n",
       "\n",
       "Yes                                                                                                                \n",
       "\n",
       "\n",
       "                                                   \u001b[1;4mMODEL OUTPUT\u001b[0m                                                    \n",
       "\n",
       "Yes                                                                                                                \n"
      ]
     },
     "execution_count": 19,
     "metadata": {},
     "output_type": "execute_result"
    }
   ],
   "source": [
    "dataset = create_instruct_dataset(num_samples, [\"paws\"])\n",
    "example = dataset[0]\n",
    "prediction = eval.generate([example[\"prompt\"]], return_full_text=True)[0]\n",
    "Markdown(template.format(prompt=example[\"prompt\"], \n",
    "                         completion=example[\"completion\"], \n",
    "                         prediction=prediction))"
   ]
  },
  {
   "cell_type": "markdown",
   "metadata": {},
   "source": [
    "## Quora"
   ]
  },
  {
   "cell_type": "code",
   "execution_count": 21,
   "metadata": {},
   "outputs": [
    {
     "data": {
      "application/vnd.jupyter.widget-view+json": {
       "model_id": "d0bf0e80ff4d4e9c82ece3520076ced6",
       "version_major": 2,
       "version_minor": 0
      },
      "text/plain": [
       "Filter:   0%|          | 0/56402 [00:00<?, ? examples/s]"
      ]
     },
     "metadata": {},
     "output_type": "display_data"
    },
    {
     "name": "stderr",
     "output_type": "stream",
     "text": [
      "Generating responses... : 100%|██████████| 1/1 [00:01<00:00,  1.51s/it]\n"
     ]
    },
    {
     "data": {
      "text/html": [
       "<pre style=\"white-space:pre;overflow-x:auto;line-height:normal;font-family:Menlo,'DejaVu Sans Mono',consolas,'Courier New',monospace\">\n",
       "                                                   <span style=\"font-weight: bold; text-decoration: underline\">INPUT PROMPT</span>                                                    \n",
       "\n",
       "How much longer can the Russian economy sustain its war with Ukraine?                                              \n",
       "\n",
       "\n",
       "                                                   <span style=\"font-weight: bold; text-decoration: underline\">GROUND_TRUTH</span>                                                    \n",
       "\n",
       "Much much longer than the collapsing western economies                                                             \n",
       "\n",
       "\n",
       "                                                   <span style=\"font-weight: bold; text-decoration: underline\">MODEL OUTPUT</span>                                                    \n",
       "\n",
       "The only thing that can stop this war will be a collapse of the economy.                                           \n",
       "</pre>\n"
      ],
      "text/plain": [
       "\n",
       "                                                   \u001b[1;4mINPUT PROMPT\u001b[0m                                                    \n",
       "\n",
       "How much longer can the Russian economy sustain its war with Ukraine?                                              \n",
       "\n",
       "\n",
       "                                                   \u001b[1;4mGROUND_TRUTH\u001b[0m                                                    \n",
       "\n",
       "Much much longer than the collapsing western economies                                                             \n",
       "\n",
       "\n",
       "                                                   \u001b[1;4mMODEL OUTPUT\u001b[0m                                                    \n",
       "\n",
       "The only thing that can stop this war will be a collapse of the economy.                                           \n"
      ]
     },
     "execution_count": 21,
     "metadata": {},
     "output_type": "execute_result"
    }
   ],
   "source": [
    "dataset = create_instruct_dataset(num_samples, [\"quora\"])\n",
    "example = dataset[0]\n",
    "prediction = eval.generate([example[\"prompt\"]], return_full_text=True)[0]\n",
    "Markdown(template.format(prompt=example[\"prompt\"], \n",
    "                         completion=example[\"completion\"], \n",
    "                         prediction=prediction))"
   ]
  },
  {
   "cell_type": "markdown",
   "metadata": {},
   "source": [
    "## Alpaca"
   ]
  },
  {
   "cell_type": "code",
   "execution_count": 24,
   "metadata": {},
   "outputs": [
    {
     "data": {
      "application/vnd.jupyter.widget-view+json": {
       "model_id": "c05335620b39482b8bd2fc6523534acb",
       "version_major": 2,
       "version_minor": 0
      },
      "text/plain": [
       "Filter:   0%|          | 0/52002 [00:00<?, ? examples/s]"
      ]
     },
     "metadata": {},
     "output_type": "display_data"
    },
    {
     "data": {
      "application/vnd.jupyter.widget-view+json": {
       "model_id": "2aedb3c869634f0690f4569b0f8b0879",
       "version_major": 2,
       "version_minor": 0
      },
      "text/plain": [
       "Map:   0%|          | 0/20100 [00:00<?, ? examples/s]"
      ]
     },
     "metadata": {},
     "output_type": "display_data"
    },
    {
     "data": {
      "application/vnd.jupyter.widget-view+json": {
       "model_id": "307a8e002744443eb8c7772eac9b827b",
       "version_major": 2,
       "version_minor": 0
      },
      "text/plain": [
       "Filter:   0%|          | 0/20100 [00:00<?, ? examples/s]"
      ]
     },
     "metadata": {},
     "output_type": "display_data"
    },
    {
     "data": {
      "application/vnd.jupyter.widget-view+json": {
       "model_id": "180117cdd71f490ab50830190ca319ed",
       "version_major": 2,
       "version_minor": 0
      },
      "text/plain": [
       "Map:   0%|          | 0/100 [00:00<?, ? examples/s]"
      ]
     },
     "metadata": {},
     "output_type": "display_data"
    },
    {
     "name": "stderr",
     "output_type": "stream",
     "text": [
      "Generating responses... : 100%|██████████| 1/1 [00:01<00:00,  1.27s/it]\n"
     ]
    },
    {
     "data": {
      "text/html": [
       "<pre style=\"white-space:pre;overflow-x:auto;line-height:normal;font-family:Menlo,'DejaVu Sans Mono',consolas,'Courier New',monospace\">\n",
       "                                                   <span style=\"font-weight: bold; text-decoration: underline\">INPUT PROMPT</span>                                                    \n",
       "\n",
       "Search the web and find the title of the longest novel.                                                            \n",
       "\n",
       "\n",
       "                                                   <span style=\"font-weight: bold; text-decoration: underline\">GROUND_TRUTH</span>                                                    \n",
       "\n",
       "The title of the longest novel is \"Gordale\", written by Carolyn Redfearn.                                          \n",
       "\n",
       "\n",
       "                                                   <span style=\"font-weight: bold; text-decoration: underline\">MODEL OUTPUT</span>                                                    \n",
       "\n",
       "Taking Away the Dead / The Longest Book Ever Written                                                               \n",
       "</pre>\n"
      ],
      "text/plain": [
       "\n",
       "                                                   \u001b[1;4mINPUT PROMPT\u001b[0m                                                    \n",
       "\n",
       "Search the web and find the title of the longest novel.                                                            \n",
       "\n",
       "\n",
       "                                                   \u001b[1;4mGROUND_TRUTH\u001b[0m                                                    \n",
       "\n",
       "The title of the longest novel is \"Gordale\", written by Carolyn Redfearn.                                          \n",
       "\n",
       "\n",
       "                                                   \u001b[1;4mMODEL OUTPUT\u001b[0m                                                    \n",
       "\n",
       "Taking Away the Dead / The Longest Book Ever Written                                                               \n"
      ]
     },
     "execution_count": 24,
     "metadata": {},
     "output_type": "execute_result"
    }
   ],
   "source": [
    "dataset = create_instruct_dataset(num_samples, [\"alpaca\"])\n",
    "example = dataset[0]\n",
    "prediction = eval.generate([example[\"prompt\"]], return_full_text=True)[0]\n",
    "Markdown(template.format(prompt=example[\"prompt\"], \n",
    "                         completion=example[\"completion\"], \n",
    "                         prediction=prediction))"
   ]
  },
  {
   "cell_type": "code",
   "execution_count": null,
   "metadata": {},
   "outputs": [],
   "source": []
  }
 ],
 "metadata": {
  "kernelspec": {
   "display_name": "transformers-311",
   "language": "python",
   "name": "python3"
  },
  "language_info": {
   "codemirror_mode": {
    "name": "ipython",
    "version": 3
   },
   "file_extension": ".py",
   "mimetype": "text/x-python",
   "name": "python",
   "nbconvert_exporter": "python",
   "pygments_lexer": "ipython3",
   "version": "3.11.10"
  }
 },
 "nbformat": 4,
 "nbformat_minor": 2
}
