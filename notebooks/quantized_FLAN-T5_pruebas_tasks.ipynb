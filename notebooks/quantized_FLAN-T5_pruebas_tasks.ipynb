{
 "cells": [
  {
   "cell_type": "code",
   "execution_count": 1,
   "metadata": {},
   "outputs": [
    {
     "name": "stdout",
     "output_type": "stream",
     "text": [
      "cuda\n"
     ]
    }
   ],
   "source": [
    "import torch\n",
    "from rich.markdown import Markdown\n",
    "\n",
    "device = ('cuda' if torch.cuda.is_available() else 'cpu')\n",
    "print(device)"
   ]
  },
  {
   "cell_type": "code",
   "execution_count": 2,
   "metadata": {},
   "outputs": [
    {
     "name": "stdout",
     "output_type": "stream",
     "text": [
      "/home/oscarn/flan-gpt2\n"
     ]
    }
   ],
   "source": [
    "%cd .."
   ]
  },
  {
   "cell_type": "code",
   "execution_count": 3,
   "metadata": {},
   "outputs": [
    {
     "name": "stderr",
     "output_type": "stream",
     "text": [
      "`low_cpu_mem_usage` was None, now default to True since model is quantized.\n"
     ]
    },
    {
     "data": {
      "application/vnd.jupyter.widget-view+json": {
       "model_id": "9e83b0ac451943cbb6021c3645506e9b",
       "version_major": 2,
       "version_minor": 0
      },
      "text/plain": [
       "Loading checkpoint shards:   0%|          | 0/2 [00:00<?, ?it/s]"
      ]
     },
     "metadata": {},
     "output_type": "display_data"
    },
    {
     "name": "stderr",
     "output_type": "stream",
     "text": [
      "2025-09-09 04:52:56,804 - accelerate.big_modeling - WARNING - You shouldn't move a model that is dispatched using accelerate hooks.\n"
     ]
    }
   ],
   "source": [
    "from models.model_utils import T5Model\n",
    "# model_name = \"OscarNav/flan-flan-t5-large-ft\"\n",
    "model_name = \"google/flan-t5-xl\"\n",
    "\n",
    "wrapped_model = T5Model(model_name, device, quantization=True)\n",
    "model = wrapped_model.get_model()\n",
    "# model.resize_token_embeddings(len(wrapped_model.get_tokenizer()))\n",
    "tokenizer = wrapped_model.get_tokenizer()"
   ]
  },
  {
   "cell_type": "code",
   "execution_count": 4,
   "metadata": {},
   "outputs": [
    {
     "name": "stdout",
     "output_type": "stream",
     "text": [
      "3.511022592 GB allocated\n"
     ]
    }
   ],
   "source": [
    "if torch.cuda.is_available():\n",
    "    print(f\"{torch.cuda.memory_allocated() / 1e9} GB allocated\")"
   ]
  },
  {
   "cell_type": "code",
   "execution_count": 5,
   "metadata": {},
   "outputs": [
    {
     "name": "stderr",
     "output_type": "stream",
     "text": [
      "2025-09-09 04:52:57,137 - datasets - INFO - PyTorch version 2.5.1 available.\n"
     ]
    }
   ],
   "source": [
    "from eval.eval_utils import Evaluation\n",
    "from data.data_utils import create_instruct_dataset\n",
    "\n",
    "\n",
    "eval = Evaluation(model, tokenizer, device)"
   ]
  },
  {
   "cell_type": "code",
   "execution_count": 6,
   "metadata": {},
   "outputs": [],
   "source": [
    "num_samples = 100\n",
    "CAUSAL_LM = False"
   ]
  },
  {
   "cell_type": "code",
   "execution_count": 7,
   "metadata": {},
   "outputs": [],
   "source": [
    "template = \"\"\"\n",
    "## INPUT PROMPT\n",
    "{prompt}\n",
    "## GROUND_TRUTH\n",
    "{completion}\n",
    "## MODEL OUTPUT\n",
    "{prediction}\n",
    "\"\"\""
   ]
  },
  {
   "cell_type": "markdown",
   "metadata": {},
   "source": [
    "### ANLI"
   ]
  },
  {
   "cell_type": "code",
   "execution_count": 9,
   "metadata": {},
   "outputs": [
    {
     "data": {
      "application/vnd.jupyter.widget-view+json": {
       "model_id": "c2e621d052f94125a10fcb5ec53e8b34",
       "version_major": 2,
       "version_minor": 0
      },
      "text/plain": [
       "Map:   0%|          | 0/16946 [00:00<?, ? examples/s]"
      ]
     },
     "metadata": {},
     "output_type": "display_data"
    },
    {
     "data": {
      "application/vnd.jupyter.widget-view+json": {
       "model_id": "1c72e01fa57c4d13ae64cb83026a0ce0",
       "version_major": 2,
       "version_minor": 0
      },
      "text/plain": [
       "Filter:   0%|          | 0/16946 [00:00<?, ? examples/s]"
      ]
     },
     "metadata": {},
     "output_type": "display_data"
    },
    {
     "data": {
      "application/vnd.jupyter.widget-view+json": {
       "model_id": "c31f9c05cf324cad81c8d6c3af415c94",
       "version_major": 2,
       "version_minor": 0
      },
      "text/plain": [
       "Map:   0%|          | 0/100 [00:00<?, ? examples/s]"
      ]
     },
     "metadata": {},
     "output_type": "display_data"
    },
    {
     "name": "stderr",
     "output_type": "stream",
     "text": [
      "Generating responses... : 100%|██████████| 1/1 [00:00<00:00,  2.42it/s]\n"
     ]
    },
    {
     "data": {
      "text/html": [
       "<pre style=\"white-space:pre;overflow-x:auto;line-height:normal;font-family:Menlo,'DejaVu Sans Mono',consolas,'Courier New',monospace\">\n",
       "                                                   <span style=\"font-weight: bold; text-decoration: underline\">INPUT PROMPT</span>                                                    \n",
       "\n",
       "Paul Beard (4 August 1901 – 22 April 1989) was an English violinist, known particularly as leader of Sir Thomas    \n",
       "Beecham's original London Philharmonic Orchestra and Sir Adrian Boult's BBC Symphony Orchestra. He was also a      \n",
       "teacher, holding posts at the Royal Academy of Music and the Guildhall School of Music.                            \n",
       "\n",
       "Based on the paragraph above can we conclude that \"Paul Beard started as the leader of the London Philharmonic     \n",
       "Orchestra\"?                                                                                                        \n",
       "\n",
       "OPTIONS:                                                                                                           \n",
       "\n",
       "<span style=\"color: #808000; text-decoration-color: #808000; font-weight: bold\"> • </span>entailment                                                                                                      \n",
       "<span style=\"color: #808000; text-decoration-color: #808000; font-weight: bold\"> • </span>neutral                                                                                                         \n",
       "<span style=\"color: #808000; text-decoration-color: #808000; font-weight: bold\"> • </span>contradiction                                                                                                   \n",
       "\n",
       "\n",
       "                                                   <span style=\"font-weight: bold; text-decoration: underline\">GROUND_TRUTH</span>                                                    \n",
       "\n",
       "neutral                                                                                                            \n",
       "\n",
       "\n",
       "                                                   <span style=\"font-weight: bold; text-decoration: underline\">MODEL OUTPUT</span>                                                    \n",
       "\n",
       "neutral                                                                                                            \n",
       "</pre>\n"
      ],
      "text/plain": [
       "\n",
       "                                                   \u001b[1;4mINPUT PROMPT\u001b[0m                                                    \n",
       "\n",
       "Paul Beard (4 August 1901 – 22 April 1989) was an English violinist, known particularly as leader of Sir Thomas    \n",
       "Beecham's original London Philharmonic Orchestra and Sir Adrian Boult's BBC Symphony Orchestra. He was also a      \n",
       "teacher, holding posts at the Royal Academy of Music and the Guildhall School of Music.                            \n",
       "\n",
       "Based on the paragraph above can we conclude that \"Paul Beard started as the leader of the London Philharmonic     \n",
       "Orchestra\"?                                                                                                        \n",
       "\n",
       "OPTIONS:                                                                                                           \n",
       "\n",
       "\u001b[1;33m • \u001b[0mentailment                                                                                                      \n",
       "\u001b[1;33m • \u001b[0mneutral                                                                                                         \n",
       "\u001b[1;33m • \u001b[0mcontradiction                                                                                                   \n",
       "\n",
       "\n",
       "                                                   \u001b[1;4mGROUND_TRUTH\u001b[0m                                                    \n",
       "\n",
       "neutral                                                                                                            \n",
       "\n",
       "\n",
       "                                                   \u001b[1;4mMODEL OUTPUT\u001b[0m                                                    \n",
       "\n",
       "neutral                                                                                                            \n"
      ]
     },
     "execution_count": 9,
     "metadata": {},
     "output_type": "execute_result"
    }
   ],
   "source": [
    "dataset = create_instruct_dataset(num_samples, [\"anli\"])\n",
    "example = dataset[0]\n",
    "prediction = eval.generate([example[\"prompt\"]], return_full_text=not CAUSAL_LM)[0]\n",
    "Markdown(template.format(prompt=example[\"prompt\"], \n",
    "                         completion=example[\"completion\"], \n",
    "                         prediction=prediction))"
   ]
  },
  {
   "cell_type": "markdown",
   "metadata": {},
   "source": [
    "## Common Gen"
   ]
  },
  {
   "cell_type": "code",
   "execution_count": 10,
   "metadata": {},
   "outputs": [
    {
     "name": "stderr",
     "output_type": "stream",
     "text": [
      "Generating responses... : 100%|██████████| 1/1 [00:02<00:00,  2.04s/it]\n"
     ]
    },
    {
     "data": {
      "text/html": [
       "<pre style=\"white-space:pre;overflow-x:auto;line-height:normal;font-family:Menlo,'DejaVu Sans Mono',consolas,'Courier New',monospace\">\n",
       "                                                   <span style=\"font-weight: bold; text-decoration: underline\">INPUT PROMPT</span>                                                    \n",
       "\n",
       "Here are some concepts: ['fan', 'match', 'watch']                                                                  \n",
       "\n",
       "What is a sentence about these concepts?                                                                           \n",
       "\n",
       "\n",
       "                                                   <span style=\"font-weight: bold; text-decoration: underline\">GROUND_TRUTH</span>                                                    \n",
       "\n",
       "the fans watch the match                                                                                           \n",
       "\n",
       "\n",
       "                                                   <span style=\"font-weight: bold; text-decoration: underline\">MODEL OUTPUT</span>                                                    \n",
       "\n",
       "fans watch match between football club and football player on television                                           \n",
       "</pre>\n"
      ],
      "text/plain": [
       "\n",
       "                                                   \u001b[1;4mINPUT PROMPT\u001b[0m                                                    \n",
       "\n",
       "Here are some concepts: ['fan', 'match', 'watch']                                                                  \n",
       "\n",
       "What is a sentence about these concepts?                                                                           \n",
       "\n",
       "\n",
       "                                                   \u001b[1;4mGROUND_TRUTH\u001b[0m                                                    \n",
       "\n",
       "the fans watch the match                                                                                           \n",
       "\n",
       "\n",
       "                                                   \u001b[1;4mMODEL OUTPUT\u001b[0m                                                    \n",
       "\n",
       "fans watch match between football club and football player on television                                           \n"
      ]
     },
     "execution_count": 10,
     "metadata": {},
     "output_type": "execute_result"
    }
   ],
   "source": [
    "dataset = create_instruct_dataset(num_samples, [\"common_gen\"])\n",
    "example = dataset[0]\n",
    "prediction = eval.generate([example[\"prompt\"]], return_full_text=not CAUSAL_LM)[0]\n",
    "Markdown(template.format(prompt=example[\"prompt\"], \n",
    "                         completion=example[\"completion\"], \n",
    "                         prediction=prediction))"
   ]
  },
  {
   "cell_type": "markdown",
   "metadata": {},
   "source": [
    "## SQUAD"
   ]
  },
  {
   "cell_type": "code",
   "execution_count": 11,
   "metadata": {},
   "outputs": [
    {
     "name": "stderr",
     "output_type": "stream",
     "text": [
      "Using the latest cached version of the dataset since rajpurkar/squad couldn't be found on the Hugging Face Hub\n",
      "2025-09-09 04:53:43,947 - datasets.load - WARNING - Using the latest cached version of the dataset since rajpurkar/squad couldn't be found on the Hugging Face Hub\n",
      "Found the latest cached dataset configuration 'plain_text' at /home/oscarn/.cache/huggingface/datasets/rajpurkar___squad/plain_text/0.0.0/7b6d24c440a36b6815f21b70d25016731768db1f (last modified on Fri Nov 22 00:36:36 2024).\n",
      "2025-09-09 04:53:43,953 - datasets.packaged_modules.cache.cache - WARNING - Found the latest cached dataset configuration 'plain_text' at /home/oscarn/.cache/huggingface/datasets/rajpurkar___squad/plain_text/0.0.0/7b6d24c440a36b6815f21b70d25016731768db1f (last modified on Fri Nov 22 00:36:36 2024).\n"
     ]
    },
    {
     "data": {
      "application/vnd.jupyter.widget-view+json": {
       "model_id": "4a855fa02a95433395decbe79c7c2415",
       "version_major": 2,
       "version_minor": 0
      },
      "text/plain": [
       "Filter:   0%|          | 0/87599 [00:00<?, ? examples/s]"
      ]
     },
     "metadata": {},
     "output_type": "display_data"
    },
    {
     "data": {
      "application/vnd.jupyter.widget-view+json": {
       "model_id": "90a36f699ec14649ba4eaf804816a4af",
       "version_major": 2,
       "version_minor": 0
      },
      "text/plain": [
       "Map:   0%|          | 0/87241 [00:00<?, ? examples/s]"
      ]
     },
     "metadata": {},
     "output_type": "display_data"
    },
    {
     "data": {
      "application/vnd.jupyter.widget-view+json": {
       "model_id": "11505854f42c4f3185fb0b86641f3287",
       "version_major": 2,
       "version_minor": 0
      },
      "text/plain": [
       "Filter:   0%|          | 0/87241 [00:00<?, ? examples/s]"
      ]
     },
     "metadata": {},
     "output_type": "display_data"
    },
    {
     "data": {
      "application/vnd.jupyter.widget-view+json": {
       "model_id": "594b6c3ef1914bea8f7f9e1c2cf65938",
       "version_major": 2,
       "version_minor": 0
      },
      "text/plain": [
       "Map:   0%|          | 0/100 [00:00<?, ? examples/s]"
      ]
     },
     "metadata": {},
     "output_type": "display_data"
    },
    {
     "name": "stderr",
     "output_type": "stream",
     "text": [
      "Generating responses... : 100%|██████████| 1/1 [00:00<00:00,  2.35it/s]\n"
     ]
    },
    {
     "data": {
      "text/html": [
       "<pre style=\"white-space:pre;overflow-x:auto;line-height:normal;font-family:Menlo,'DejaVu Sans Mono',consolas,'Courier New',monospace\">\n",
       "                                                   <span style=\"font-weight: bold; text-decoration: underline\">INPUT PROMPT</span>                                                    \n",
       "\n",
       "University_of_Notre_Dame The College of Engineering was established in 1920, however, early courses in civil and   \n",
       "mechanical engineering were a part of the College of Science since the 1870s. Today the college, housed in the     \n",
       "Fitzpatrick, Cushing, and Stinson-Remick Halls of Engineering, includes five departments of study – aerospace and  \n",
       "mechanical engineering, chemical and biomolecular engineering, civil engineering and geological sciences, computer \n",
       "science and engineering, and electrical engineering – with eight B.S. degrees offered. Additionally, the college   \n",
       "offers five-year dual degree programs with the Colleges of Arts and Letters and of Business awarding additional    \n",
       "B.A. and Master of Business Administration (MBA) degrees, respectively.                                            \n",
       "\n",
       "Q: How many BS level degrees are offered in the College of Engineering at Notre Dame?                              \n",
       "\n",
       "\n",
       "                                                   <span style=\"font-weight: bold; text-decoration: underline\">GROUND_TRUTH</span>                                                    \n",
       "\n",
       "eight                                                                                                              \n",
       "\n",
       "\n",
       "                                                   <span style=\"font-weight: bold; text-decoration: underline\">MODEL OUTPUT</span>                                                    \n",
       "\n",
       "eight                                                                                                              \n",
       "</pre>\n"
      ],
      "text/plain": [
       "\n",
       "                                                   \u001b[1;4mINPUT PROMPT\u001b[0m                                                    \n",
       "\n",
       "University_of_Notre_Dame The College of Engineering was established in 1920, however, early courses in civil and   \n",
       "mechanical engineering were a part of the College of Science since the 1870s. Today the college, housed in the     \n",
       "Fitzpatrick, Cushing, and Stinson-Remick Halls of Engineering, includes five departments of study – aerospace and  \n",
       "mechanical engineering, chemical and biomolecular engineering, civil engineering and geological sciences, computer \n",
       "science and engineering, and electrical engineering – with eight B.S. degrees offered. Additionally, the college   \n",
       "offers five-year dual degree programs with the Colleges of Arts and Letters and of Business awarding additional    \n",
       "B.A. and Master of Business Administration (MBA) degrees, respectively.                                            \n",
       "\n",
       "Q: How many BS level degrees are offered in the College of Engineering at Notre Dame?                              \n",
       "\n",
       "\n",
       "                                                   \u001b[1;4mGROUND_TRUTH\u001b[0m                                                    \n",
       "\n",
       "eight                                                                                                              \n",
       "\n",
       "\n",
       "                                                   \u001b[1;4mMODEL OUTPUT\u001b[0m                                                    \n",
       "\n",
       "eight                                                                                                              \n"
      ]
     },
     "execution_count": 11,
     "metadata": {},
     "output_type": "execute_result"
    }
   ],
   "source": [
    "dataset = create_instruct_dataset(num_samples, [\"squad\"])\n",
    "example = dataset[0]\n",
    "prediction = eval.generate([example[\"prompt\"]], return_full_text=not CAUSAL_LM)[0]\n",
    "Markdown(template.format(prompt=example[\"prompt\"], \n",
    "                         completion=example[\"completion\"], \n",
    "                         prediction=prediction))"
   ]
  },
  {
   "cell_type": "markdown",
   "metadata": {},
   "source": [
    "## Cosmos QA"
   ]
  },
  {
   "cell_type": "code",
   "execution_count": 13,
   "metadata": {},
   "outputs": [
    {
     "name": "stderr",
     "output_type": "stream",
     "text": [
      "Using the latest cached version of the module from /home/oscarn/.cache/huggingface/modules/datasets_modules/datasets/allenai--cosmos_qa/3e18538cbfdb2c04189b16642715f0f6da3e97ed5df0aadcec3641245b2cf157 (last modified on Fri Nov 22 00:37:03 2024) since it couldn't be found locally at allenai/cosmos_qa, or remotely on the Hugging Face Hub.\n",
      "2025-09-09 04:54:46,837 - datasets.load - WARNING - Using the latest cached version of the module from /home/oscarn/.cache/huggingface/modules/datasets_modules/datasets/allenai--cosmos_qa/3e18538cbfdb2c04189b16642715f0f6da3e97ed5df0aadcec3641245b2cf157 (last modified on Fri Nov 22 00:37:03 2024) since it couldn't be found locally at allenai/cosmos_qa, or remotely on the Hugging Face Hub.\n"
     ]
    },
    {
     "data": {
      "application/vnd.jupyter.widget-view+json": {
       "model_id": "95ed9c37a4154dbc9bffad9dd980fbbc",
       "version_major": 2,
       "version_minor": 0
      },
      "text/plain": [
       "Map:   0%|          | 0/25262 [00:00<?, ? examples/s]"
      ]
     },
     "metadata": {},
     "output_type": "display_data"
    },
    {
     "data": {
      "application/vnd.jupyter.widget-view+json": {
       "model_id": "27f924ddb32d49a0860923f31de44180",
       "version_major": 2,
       "version_minor": 0
      },
      "text/plain": [
       "Filter:   0%|          | 0/25262 [00:00<?, ? examples/s]"
      ]
     },
     "metadata": {},
     "output_type": "display_data"
    },
    {
     "data": {
      "application/vnd.jupyter.widget-view+json": {
       "model_id": "a4a51f69903345c2a5a9fe1eeb5cfc59",
       "version_major": 2,
       "version_minor": 0
      },
      "text/plain": [
       "Map:   0%|          | 0/100 [00:00<?, ? examples/s]"
      ]
     },
     "metadata": {},
     "output_type": "display_data"
    },
    {
     "name": "stderr",
     "output_type": "stream",
     "text": [
      "Generating responses... : 100%|██████████| 1/1 [00:02<00:00,  2.69s/it]\n"
     ]
    },
    {
     "data": {
      "text/html": [
       "<pre style=\"white-space:pre;overflow-x:auto;line-height:normal;font-family:Menlo,'DejaVu Sans Mono',consolas,'Courier New',monospace\">\n",
       "                                                   <span style=\"font-weight: bold; text-decoration: underline\">INPUT PROMPT</span>                                                    \n",
       "\n",
       "Answer the question about text:                                                                                    \n",
       "\n",
       "My feet were killing me at the end of the day as I was walking back and forth serving drinks and did n't get a     \n",
       "moment to myself . I felt queasy to begin with but I just made sure I kept drinking water and tried to eat a       \n",
       "sausage roll - ended up throwing half of it out . It was a good fast day , I just wish I had a good nights sleep   \n",
       "Friday . The crowd were much better then the usual footy crowd except I got hit on a hell of a lot !               \n",
       "\n",
       "Why am I feeling this way ? OPTIONS:                                                                               \n",
       "\n",
       "<span style=\"color: #808000; text-decoration-color: #808000; font-weight: bold\"> • </span>I got food poisoning from the restaurant .                                                                      \n",
       "<span style=\"color: #808000; text-decoration-color: #808000; font-weight: bold\"> • </span>I am overworked and need a good day 's rest .                                                                   \n",
       "<span style=\"color: #808000; text-decoration-color: #808000; font-weight: bold\"> • </span>It was all in my head , I was actually fine .                                                                   \n",
       "<span style=\"color: #808000; text-decoration-color: #808000; font-weight: bold\"> • </span>I was drinking way too much water .                                                                             \n",
       "\n",
       "\n",
       "                                                   <span style=\"font-weight: bold; text-decoration: underline\">GROUND_TRUTH</span>                                                    \n",
       "\n",
       "I am overworked and need a good day 's rest .                                                                      \n",
       "\n",
       "\n",
       "                                                   <span style=\"font-weight: bold; text-decoration: underline\">MODEL OUTPUT</span>                                                    \n",
       "\n",
       "I am overworked and need a good day's rest.                                                                        \n",
       "</pre>\n"
      ],
      "text/plain": [
       "\n",
       "                                                   \u001b[1;4mINPUT PROMPT\u001b[0m                                                    \n",
       "\n",
       "Answer the question about text:                                                                                    \n",
       "\n",
       "My feet were killing me at the end of the day as I was walking back and forth serving drinks and did n't get a     \n",
       "moment to myself . I felt queasy to begin with but I just made sure I kept drinking water and tried to eat a       \n",
       "sausage roll - ended up throwing half of it out . It was a good fast day , I just wish I had a good nights sleep   \n",
       "Friday . The crowd were much better then the usual footy crowd except I got hit on a hell of a lot !               \n",
       "\n",
       "Why am I feeling this way ? OPTIONS:                                                                               \n",
       "\n",
       "\u001b[1;33m • \u001b[0mI got food poisoning from the restaurant .                                                                      \n",
       "\u001b[1;33m • \u001b[0mI am overworked and need a good day 's rest .                                                                   \n",
       "\u001b[1;33m • \u001b[0mIt was all in my head , I was actually fine .                                                                   \n",
       "\u001b[1;33m • \u001b[0mI was drinking way too much water .                                                                             \n",
       "\n",
       "\n",
       "                                                   \u001b[1;4mGROUND_TRUTH\u001b[0m                                                    \n",
       "\n",
       "I am overworked and need a good day 's rest .                                                                      \n",
       "\n",
       "\n",
       "                                                   \u001b[1;4mMODEL OUTPUT\u001b[0m                                                    \n",
       "\n",
       "I am overworked and need a good day's rest.                                                                        \n"
      ]
     },
     "execution_count": 13,
     "metadata": {},
     "output_type": "execute_result"
    }
   ],
   "source": [
    "dataset = create_instruct_dataset(num_samples, [\"cosmos_qa\"])\n",
    "example = dataset[0]\n",
    "prediction = eval.generate([example[\"prompt\"]], return_full_text=not CAUSAL_LM)[0]\n",
    "Markdown(template.format(prompt=example[\"prompt\"], \n",
    "                         completion=example[\"completion\"], \n",
    "                         prediction=prediction))"
   ]
  },
  {
   "cell_type": "markdown",
   "metadata": {},
   "source": [
    "## CoQA"
   ]
  },
  {
   "cell_type": "code",
   "execution_count": 14,
   "metadata": {},
   "outputs": [
    {
     "data": {
      "application/vnd.jupyter.widget-view+json": {
       "model_id": "2ed351e886524268b7d754933442bc01",
       "version_major": 2,
       "version_minor": 0
      },
      "text/plain": [
       "Filter:   0%|          | 0/7199 [00:00<?, ? examples/s]"
      ]
     },
     "metadata": {},
     "output_type": "display_data"
    },
    {
     "data": {
      "application/vnd.jupyter.widget-view+json": {
       "model_id": "6b52d4b2fb974340a5d57631fc325762",
       "version_major": 2,
       "version_minor": 0
      },
      "text/plain": [
       "Map:   0%|          | 0/4063 [00:00<?, ? examples/s]"
      ]
     },
     "metadata": {},
     "output_type": "display_data"
    },
    {
     "data": {
      "application/vnd.jupyter.widget-view+json": {
       "model_id": "8fc99015a400436aa7be9bd1bea565cc",
       "version_major": 2,
       "version_minor": 0
      },
      "text/plain": [
       "Filter:   0%|          | 0/4063 [00:00<?, ? examples/s]"
      ]
     },
     "metadata": {},
     "output_type": "display_data"
    },
    {
     "data": {
      "application/vnd.jupyter.widget-view+json": {
       "model_id": "e73b24a6164340b28f97d036a0a6734e",
       "version_major": 2,
       "version_minor": 0
      },
      "text/plain": [
       "Map:   0%|          | 0/100 [00:00<?, ? examples/s]"
      ]
     },
     "metadata": {},
     "output_type": "display_data"
    },
    {
     "name": "stderr",
     "output_type": "stream",
     "text": [
      "Generating responses... :   0%|          | 0/1 [00:00<?, ?it/s]Token indices sequence length is longer than the specified maximum sequence length for this model (520 > 512). Running this sequence through the model will result in indexing errors\n",
      "Generating responses... : 100%|██████████| 1/1 [00:20<00:00, 20.01s/it]\n"
     ]
    },
    {
     "data": {
      "text/html": [
       "<pre style=\"white-space:pre;overflow-x:auto;line-height:normal;font-family:Menlo,'DejaVu Sans Mono',consolas,'Courier New',monospace\">\n",
       "                                                   <span style=\"font-weight: bold; text-decoration: underline\">INPUT PROMPT</span>                                                    \n",
       "\n",
       "Ibn Rushd (; 14 April 1126 – 10 December 1198), full name (), often Latinized as Averroes (), was a medieval       \n",
       "Andalusian polymath. He wrote on logic, Aristotelian and Islamic philosophy, theology, the Maliki school of Islamic\n",
       "jurisprudence, psychology, political and Andalusian classical music theory, geography, mathematics, and the        \n",
       "mediæval sciences of medicine, astronomy, physics, and celestial mechanics. Ibn Rushd was born in Córdoba, Al      \n",
       "Andalus (present-day Spain), and died at Marrakesh in present-day Morocco. His body was interred in his family tomb\n",
       "at Córdoba. The 13th-century philosophical movement in Latin Christian and Jewish tradition based on Ibn Rushd's   \n",
       "work is called Averroism.                                                                                          \n",
       "\n",
       "Ibn Rushd was a defender of Aristotelian philosophy against Ash'ari theologians led by Al-Ghazali. Although highly \n",
       "regarded as a legal scholar of the Maliki school of Islamic law, Ibn Rushd's philosophical ideas were considered   \n",
       "controversial in Ash'arite Muslim circles. Whereas al-Ghazali believed that any individual act of a natural        \n",
       "phenomenon occurred only because God willed it to happen, Ibn Rushd insisted phenomena followed natural laws that  \n",
       "God created.                                                                                                       \n",
       "\n",
       "Ibn Rushd had a greater impact on Christian Europe, being known by the \"the Commentator\" for his detailed          \n",
       "emendations to Aristotle. Latin translations of Ibn Rushd's work led the way to the popularization of Aristotle.   \n",
       "\n",
       "Based on the article and the following list of answers, write a list of questions.                                 \n",
       "\n",
       "<span style=\"color: #808000; text-decoration-color: #808000; font-weight: bold\">  1 </span>Córdoba, Al Andalus                                                                                            \n",
       "<span style=\"color: #808000; text-decoration-color: #808000; font-weight: bold\">  2 </span>Spain                                                                                                          \n",
       "<span style=\"color: #808000; text-decoration-color: #808000; font-weight: bold\">  3 </span>Marrakesh                                                                                                      \n",
       "<span style=\"color: #808000; text-decoration-color: #808000; font-weight: bold\">  4 </span>Morocco                                                                                                        \n",
       "<span style=\"color: #808000; text-decoration-color: #808000; font-weight: bold\">  5 </span>In his family tomb at Córdoba.                                                                                 \n",
       "<span style=\"color: #808000; text-decoration-color: #808000; font-weight: bold\">  6 </span>A medieval Andalusian polymath                                                                                 \n",
       "<span style=\"color: #808000; text-decoration-color: #808000; font-weight: bold\">  7 </span>logic                                                                                                          \n",
       "<span style=\"color: #808000; text-decoration-color: #808000; font-weight: bold\">  8 </span>theology                                                                                                       \n",
       "<span style=\"color: #808000; text-decoration-color: #808000; font-weight: bold\">  9 </span>geography                                                                                                      \n",
       "<span style=\"color: #808000; text-decoration-color: #808000; font-weight: bold\"> 10 </span>yes                                                                                                            \n",
       "<span style=\"color: #808000; text-decoration-color: #808000; font-weight: bold\"> 11 </span>14 April 1126                                                                                                  \n",
       "<span style=\"color: #808000; text-decoration-color: #808000; font-weight: bold\"> 12 </span>10 December 1198                                                                                               \n",
       "<span style=\"color: #808000; text-decoration-color: #808000; font-weight: bold\"> 13 </span>Aristotelian philosophy                                                                                        \n",
       "<span style=\"color: #808000; text-decoration-color: #808000; font-weight: bold\"> 14 </span>against Ash'ari theologians                                                                                    \n",
       "<span style=\"color: #808000; text-decoration-color: #808000; font-weight: bold\"> 15 </span>Al-Ghazali                                                                                                     \n",
       "<span style=\"color: #808000; text-decoration-color: #808000; font-weight: bold\"> 16 </span>\"the Commentator\"                                                                                              \n",
       "<span style=\"color: #808000; text-decoration-color: #808000; font-weight: bold\"> 17 </span>His emendations to Aristotle.                                                                                  \n",
       "<span style=\"color: #808000; text-decoration-color: #808000; font-weight: bold\"> 18 </span>yes                                                                                                            \n",
       "<span style=\"color: #808000; text-decoration-color: #808000; font-weight: bold\"> 19 </span>False.                                                                                                         \n",
       "<span style=\"color: #808000; text-decoration-color: #808000; font-weight: bold\"> 20 </span>al-Ghazali                                                                                                     \n",
       "\n",
       "\n",
       "                                                   <span style=\"font-weight: bold; text-decoration: underline\">GROUND_TRUTH</span>                                                    \n",
       "\n",
       "<span style=\"color: #808000; text-decoration-color: #808000; font-weight: bold\">  1 </span>Where was Rushd born?                                                                                          \n",
       "<span style=\"color: #808000; text-decoration-color: #808000; font-weight: bold\">  2 </span>In what country is this today?                                                                                 \n",
       "<span style=\"color: #808000; text-decoration-color: #808000; font-weight: bold\">  3 </span>Where did he die?                                                                                              \n",
       "<span style=\"color: #808000; text-decoration-color: #808000; font-weight: bold\">  4 </span>In what modern place?                                                                                          \n",
       "<span style=\"color: #808000; text-decoration-color: #808000; font-weight: bold\">  5 </span>Where was he laid to rest?                                                                                     \n",
       "<span style=\"color: #808000; text-decoration-color: #808000; font-weight: bold\">  6 </span>Who was Rushd?                                                                                                 \n",
       "<span style=\"color: #808000; text-decoration-color: #808000; font-weight: bold\">  7 </span>What is one subject he wrote on?                                                                               \n",
       "<span style=\"color: #808000; text-decoration-color: #808000; font-weight: bold\">  8 </span>And another?                                                                                                   \n",
       "<span style=\"color: #808000; text-decoration-color: #808000; font-weight: bold\">  9 </span>And another?                                                                                                   \n",
       "<span style=\"color: #808000; text-decoration-color: #808000; font-weight: bold\"> 10 </span>Did he also write about the study of stars?                                                                    \n",
       "<span style=\"color: #808000; text-decoration-color: #808000; font-weight: bold\"> 11 </span>When was he born?                                                                                              \n",
       "<span style=\"color: #808000; text-decoration-color: #808000; font-weight: bold\"> 12 </span>When did he die?                                                                                               \n",
       "<span style=\"color: #808000; text-decoration-color: #808000; font-weight: bold\"> 13 </span>What did he defend?                                                                                            \n",
       "<span style=\"color: #808000; text-decoration-color: #808000; font-weight: bold\"> 14 </span>Against whom?                                                                                                  \n",
       "<span style=\"color: #808000; text-decoration-color: #808000; font-weight: bold\"> 15 </span>Who was their leader?                                                                                          \n",
       "<span style=\"color: #808000; text-decoration-color: #808000; font-weight: bold\"> 16 </span>By what title was Rushd known in Europe?                                                                       \n",
       "<span style=\"color: #808000; text-decoration-color: #808000; font-weight: bold\"> 17 </span>For what?                                                                                                      \n",
       "<span style=\"color: #808000; text-decoration-color: #808000; font-weight: bold\"> 18 </span>Did his work make Aristotle better known?                                                                      \n",
       "<span style=\"color: #808000; text-decoration-color: #808000; font-weight: bold\"> 19 </span>True or False: Rushd believed everything happened by the direct will of God.                                   \n",
       "<span style=\"color: #808000; text-decoration-color: #808000; font-weight: bold\"> 20 </span>Who did?                                                                                                       \n",
       "\n",
       "\n",
       "                                                   <span style=\"font-weight: bold; text-decoration: underline\">MODEL OUTPUT</span>                                                    \n",
       "\n",
       "<span style=\"color: #808000; text-decoration-color: #808000; font-weight: bold\"> 1 </span>Where was Ibn Rushd born? 2. What country? 3. Where did he die? 4. What present day country? 5. Where was his   \n",
       "<span style=\"color: #808000; text-decoration-color: #808000; font-weight: bold\">   </span>body interred? 6. Who was Ibn Rushd? 7. What was one of his writings? 8. Anything else? 9. Anything else? 10.   \n",
       "<span style=\"color: #808000; text-decoration-color: #808000; font-weight: bold\">   </span>Did he also do other sciences? 11. How old was he when he wrote his works? 12. When he died? 13. What was he    \n",
       "<span style=\"color: #808000; text-decoration-color: #808000; font-weight: bold\">   </span>defender of? 14. Who was the leader? 15. Who was their leader? 16. What did people know him as? 17. What did he \n",
       "<span style=\"color: #808000; text-decoration-color: #808000; font-weight: bold\">   </span>do to change Aristotle? 18. Was this to help popularize him in Europe? 19. True or False: I                     \n",
       "</pre>\n"
      ],
      "text/plain": [
       "\n",
       "                                                   \u001b[1;4mINPUT PROMPT\u001b[0m                                                    \n",
       "\n",
       "Ibn Rushd (; 14 April 1126 – 10 December 1198), full name (), often Latinized as Averroes (), was a medieval       \n",
       "Andalusian polymath. He wrote on logic, Aristotelian and Islamic philosophy, theology, the Maliki school of Islamic\n",
       "jurisprudence, psychology, political and Andalusian classical music theory, geography, mathematics, and the        \n",
       "mediæval sciences of medicine, astronomy, physics, and celestial mechanics. Ibn Rushd was born in Córdoba, Al      \n",
       "Andalus (present-day Spain), and died at Marrakesh in present-day Morocco. His body was interred in his family tomb\n",
       "at Córdoba. The 13th-century philosophical movement in Latin Christian and Jewish tradition based on Ibn Rushd's   \n",
       "work is called Averroism.                                                                                          \n",
       "\n",
       "Ibn Rushd was a defender of Aristotelian philosophy against Ash'ari theologians led by Al-Ghazali. Although highly \n",
       "regarded as a legal scholar of the Maliki school of Islamic law, Ibn Rushd's philosophical ideas were considered   \n",
       "controversial in Ash'arite Muslim circles. Whereas al-Ghazali believed that any individual act of a natural        \n",
       "phenomenon occurred only because God willed it to happen, Ibn Rushd insisted phenomena followed natural laws that  \n",
       "God created.                                                                                                       \n",
       "\n",
       "Ibn Rushd had a greater impact on Christian Europe, being known by the \"the Commentator\" for his detailed          \n",
       "emendations to Aristotle. Latin translations of Ibn Rushd's work led the way to the popularization of Aristotle.   \n",
       "\n",
       "Based on the article and the following list of answers, write a list of questions.                                 \n",
       "\n",
       "\u001b[1;33m  1 \u001b[0mCórdoba, Al Andalus                                                                                            \n",
       "\u001b[1;33m  2 \u001b[0mSpain                                                                                                          \n",
       "\u001b[1;33m  3 \u001b[0mMarrakesh                                                                                                      \n",
       "\u001b[1;33m  4 \u001b[0mMorocco                                                                                                        \n",
       "\u001b[1;33m  5 \u001b[0mIn his family tomb at Córdoba.                                                                                 \n",
       "\u001b[1;33m  6 \u001b[0mA medieval Andalusian polymath                                                                                 \n",
       "\u001b[1;33m  7 \u001b[0mlogic                                                                                                          \n",
       "\u001b[1;33m  8 \u001b[0mtheology                                                                                                       \n",
       "\u001b[1;33m  9 \u001b[0mgeography                                                                                                      \n",
       "\u001b[1;33m 10 \u001b[0myes                                                                                                            \n",
       "\u001b[1;33m 11 \u001b[0m14 April 1126                                                                                                  \n",
       "\u001b[1;33m 12 \u001b[0m10 December 1198                                                                                               \n",
       "\u001b[1;33m 13 \u001b[0mAristotelian philosophy                                                                                        \n",
       "\u001b[1;33m 14 \u001b[0magainst Ash'ari theologians                                                                                    \n",
       "\u001b[1;33m 15 \u001b[0mAl-Ghazali                                                                                                     \n",
       "\u001b[1;33m 16 \u001b[0m\"the Commentator\"                                                                                              \n",
       "\u001b[1;33m 17 \u001b[0mHis emendations to Aristotle.                                                                                  \n",
       "\u001b[1;33m 18 \u001b[0myes                                                                                                            \n",
       "\u001b[1;33m 19 \u001b[0mFalse.                                                                                                         \n",
       "\u001b[1;33m 20 \u001b[0mal-Ghazali                                                                                                     \n",
       "\n",
       "\n",
       "                                                   \u001b[1;4mGROUND_TRUTH\u001b[0m                                                    \n",
       "\n",
       "\u001b[1;33m  1 \u001b[0mWhere was Rushd born?                                                                                          \n",
       "\u001b[1;33m  2 \u001b[0mIn what country is this today?                                                                                 \n",
       "\u001b[1;33m  3 \u001b[0mWhere did he die?                                                                                              \n",
       "\u001b[1;33m  4 \u001b[0mIn what modern place?                                                                                          \n",
       "\u001b[1;33m  5 \u001b[0mWhere was he laid to rest?                                                                                     \n",
       "\u001b[1;33m  6 \u001b[0mWho was Rushd?                                                                                                 \n",
       "\u001b[1;33m  7 \u001b[0mWhat is one subject he wrote on?                                                                               \n",
       "\u001b[1;33m  8 \u001b[0mAnd another?                                                                                                   \n",
       "\u001b[1;33m  9 \u001b[0mAnd another?                                                                                                   \n",
       "\u001b[1;33m 10 \u001b[0mDid he also write about the study of stars?                                                                    \n",
       "\u001b[1;33m 11 \u001b[0mWhen was he born?                                                                                              \n",
       "\u001b[1;33m 12 \u001b[0mWhen did he die?                                                                                               \n",
       "\u001b[1;33m 13 \u001b[0mWhat did he defend?                                                                                            \n",
       "\u001b[1;33m 14 \u001b[0mAgainst whom?                                                                                                  \n",
       "\u001b[1;33m 15 \u001b[0mWho was their leader?                                                                                          \n",
       "\u001b[1;33m 16 \u001b[0mBy what title was Rushd known in Europe?                                                                       \n",
       "\u001b[1;33m 17 \u001b[0mFor what?                                                                                                      \n",
       "\u001b[1;33m 18 \u001b[0mDid his work make Aristotle better known?                                                                      \n",
       "\u001b[1;33m 19 \u001b[0mTrue or False: Rushd believed everything happened by the direct will of God.                                   \n",
       "\u001b[1;33m 20 \u001b[0mWho did?                                                                                                       \n",
       "\n",
       "\n",
       "                                                   \u001b[1;4mMODEL OUTPUT\u001b[0m                                                    \n",
       "\n",
       "\u001b[1;33m 1 \u001b[0mWhere was Ibn Rushd born? 2. What country? 3. Where did he die? 4. What present day country? 5. Where was his   \n",
       "\u001b[1;33m   \u001b[0mbody interred? 6. Who was Ibn Rushd? 7. What was one of his writings? 8. Anything else? 9. Anything else? 10.   \n",
       "\u001b[1;33m   \u001b[0mDid he also do other sciences? 11. How old was he when he wrote his works? 12. When he died? 13. What was he    \n",
       "\u001b[1;33m   \u001b[0mdefender of? 14. Who was the leader? 15. Who was their leader? 16. What did people know him as? 17. What did he \n",
       "\u001b[1;33m   \u001b[0mdo to change Aristotle? 18. Was this to help popularize him in Europe? 19. True or False: I                     \n"
      ]
     },
     "execution_count": 14,
     "metadata": {},
     "output_type": "execute_result"
    }
   ],
   "source": [
    "dataset = create_instruct_dataset(num_samples, [\"coqa\"])\n",
    "example = dataset[0]\n",
    "prediction = eval.generate([example[\"prompt\"]], max_tokens=150, return_full_text=not CAUSAL_LM)[0]\n",
    "Markdown(template.format(prompt=example[\"prompt\"], \n",
    "                         completion=example[\"completion\"], \n",
    "                         prediction=prediction))"
   ]
  },
  {
   "cell_type": "markdown",
   "metadata": {},
   "source": [
    "## XSum"
   ]
  },
  {
   "cell_type": "code",
   "execution_count": 15,
   "metadata": {},
   "outputs": [
    {
     "name": "stderr",
     "output_type": "stream",
     "text": [
      "Using the latest cached version of the dataset since EdinburghNLP/xsum couldn't be found on the Hugging Face Hub\n",
      "2025-09-09 04:55:34,272 - datasets.load - WARNING - Using the latest cached version of the dataset since EdinburghNLP/xsum couldn't be found on the Hugging Face Hub\n",
      "Found the latest cached dataset configuration 'default' at /home/oscarn/.cache/huggingface/datasets/EdinburghNLP___xsum/default/1.2.0/40db7604fedb616a9d2b0673d11838fa5be8451c (last modified on Mon Sep  8 19:18:01 2025).\n",
      "2025-09-09 04:55:34,279 - datasets.packaged_modules.cache.cache - WARNING - Found the latest cached dataset configuration 'default' at /home/oscarn/.cache/huggingface/datasets/EdinburghNLP___xsum/default/1.2.0/40db7604fedb616a9d2b0673d11838fa5be8451c (last modified on Mon Sep  8 19:18:01 2025).\n"
     ]
    },
    {
     "data": {
      "application/vnd.jupyter.widget-view+json": {
       "model_id": "43b86be351ba489c883becb2f30805ed",
       "version_major": 2,
       "version_minor": 0
      },
      "text/plain": [
       "Filter:   0%|          | 0/204045 [00:00<?, ? examples/s]"
      ]
     },
     "metadata": {},
     "output_type": "display_data"
    },
    {
     "name": "stderr",
     "output_type": "stream",
     "text": [
      "Generating responses... : 100%|██████████| 1/1 [00:04<00:00,  4.10s/it]\n"
     ]
    },
    {
     "data": {
      "text/html": [
       "<pre style=\"white-space:pre;overflow-x:auto;line-height:normal;font-family:Menlo,'DejaVu Sans Mono',consolas,'Courier New',monospace\">\n",
       "                                                   <span style=\"font-weight: bold; text-decoration: underline\">INPUT PROMPT</span>                                                    \n",
       "\n",
       "Summarize:                                                                                                         \n",
       "\n",
       "Christie, 26, clocked a time of 42.565 seconds to finish ahead of Canadian Jamie Macdonald and Netherlands skater  \n",
       "Yara van Kerkhof. The Nottingham-based Scot has been training with men and \"learning to lose\" to boost her medal   \n",
       "prospects. She was controversially disqualified three times at Sochi 2014 but won World Cup and European honours   \n",
       "last season. \"It's been great to be back here in Calgary,\" said Christie. \"I haven't had the most straightforward  \n",
       "of competitions with a few falls on Friday and Saturday. My coaches and support team worked with me and my         \n",
       "equipment overnight and the adjustments paid off.\" Christie was also part of the GB ladies relay team who broke the\n",
       "3,000m British record on Friday. The team of Christie, captain Charlotte Gilmartin, Kathryn Thomson and Samantha   \n",
       "Morrison finished in four minutes 13.719 seconds, with the previous record having stood at four minutes 14.57 secs.\n",
       "Media playback is not supported on this device                                                                     \n",
       "\n",
       "\n",
       "                                                   <span style=\"font-weight: bold; text-decoration: underline\">GROUND_TRUTH</span>                                                    \n",
       "\n",
       "Great Britain's Elise Christie won gold in the 500m at the speed skating World Cup in Calgary, Canada.             \n",
       "\n",
       "\n",
       "                                                   <span style=\"font-weight: bold; text-decoration: underline\">MODEL OUTPUT</span>                                                    \n",
       "\n",
       "Great Britain's Jess Christie came fourth in the 10,000m in Calgary to continue her recovery from failing to retain\n",
       "the Olympic title at 2016.                                                                                         \n",
       "</pre>\n"
      ],
      "text/plain": [
       "\n",
       "                                                   \u001b[1;4mINPUT PROMPT\u001b[0m                                                    \n",
       "\n",
       "Summarize:                                                                                                         \n",
       "\n",
       "Christie, 26, clocked a time of 42.565 seconds to finish ahead of Canadian Jamie Macdonald and Netherlands skater  \n",
       "Yara van Kerkhof. The Nottingham-based Scot has been training with men and \"learning to lose\" to boost her medal   \n",
       "prospects. She was controversially disqualified three times at Sochi 2014 but won World Cup and European honours   \n",
       "last season. \"It's been great to be back here in Calgary,\" said Christie. \"I haven't had the most straightforward  \n",
       "of competitions with a few falls on Friday and Saturday. My coaches and support team worked with me and my         \n",
       "equipment overnight and the adjustments paid off.\" Christie was also part of the GB ladies relay team who broke the\n",
       "3,000m British record on Friday. The team of Christie, captain Charlotte Gilmartin, Kathryn Thomson and Samantha   \n",
       "Morrison finished in four minutes 13.719 seconds, with the previous record having stood at four minutes 14.57 secs.\n",
       "Media playback is not supported on this device                                                                     \n",
       "\n",
       "\n",
       "                                                   \u001b[1;4mGROUND_TRUTH\u001b[0m                                                    \n",
       "\n",
       "Great Britain's Elise Christie won gold in the 500m at the speed skating World Cup in Calgary, Canada.             \n",
       "\n",
       "\n",
       "                                                   \u001b[1;4mMODEL OUTPUT\u001b[0m                                                    \n",
       "\n",
       "Great Britain's Jess Christie came fourth in the 10,000m in Calgary to continue her recovery from failing to retain\n",
       "the Olympic title at 2016.                                                                                         \n"
      ]
     },
     "execution_count": 15,
     "metadata": {},
     "output_type": "execute_result"
    }
   ],
   "source": [
    "dataset = create_instruct_dataset(num_samples, [\"xsum\"])\n",
    "example = dataset[0]\n",
    "prediction = eval.generate([example[\"prompt\"]], return_full_text=not CAUSAL_LM)[0]\n",
    "Markdown(template.format(prompt=example[\"prompt\"], \n",
    "                         completion=example[\"completion\"], \n",
    "                         prediction=prediction))"
   ]
  },
  {
   "cell_type": "markdown",
   "metadata": {},
   "source": [
    "## BoolQ"
   ]
  },
  {
   "cell_type": "code",
   "execution_count": 17,
   "metadata": {},
   "outputs": [
    {
     "data": {
      "application/vnd.jupyter.widget-view+json": {
       "model_id": "9657fcff142f411784289c282f9dbd67",
       "version_major": 2,
       "version_minor": 0
      },
      "text/plain": [
       "Filter:   0%|          | 0/9427 [00:00<?, ? examples/s]"
      ]
     },
     "metadata": {},
     "output_type": "display_data"
    },
    {
     "data": {
      "application/vnd.jupyter.widget-view+json": {
       "model_id": "e1201acd01264e5aa19ceddd5197c3a9",
       "version_major": 2,
       "version_minor": 0
      },
      "text/plain": [
       "Map:   0%|          | 0/9399 [00:00<?, ? examples/s]"
      ]
     },
     "metadata": {},
     "output_type": "display_data"
    },
    {
     "data": {
      "application/vnd.jupyter.widget-view+json": {
       "model_id": "300dfa6f8c294c078eb721abb654f058",
       "version_major": 2,
       "version_minor": 0
      },
      "text/plain": [
       "Filter:   0%|          | 0/9399 [00:00<?, ? examples/s]"
      ]
     },
     "metadata": {},
     "output_type": "display_data"
    },
    {
     "data": {
      "application/vnd.jupyter.widget-view+json": {
       "model_id": "61802afe9ad440f683449223b34ae6d6",
       "version_major": 2,
       "version_minor": 0
      },
      "text/plain": [
       "Map:   0%|          | 0/100 [00:00<?, ? examples/s]"
      ]
     },
     "metadata": {},
     "output_type": "display_data"
    },
    {
     "name": "stderr",
     "output_type": "stream",
     "text": [
      "Generating responses... : 100%|██████████| 1/1 [00:00<00:00,  1.47it/s]\n"
     ]
    },
    {
     "data": {
      "text/html": [
       "<pre style=\"white-space:pre;overflow-x:auto;line-height:normal;font-family:Menlo,'DejaVu Sans Mono',consolas,'Courier New',monospace\">\n",
       "                                                   <span style=\"font-weight: bold; text-decoration: underline\">INPUT PROMPT</span>                                                    \n",
       "\n",
       "It was recently revealed that prior to his abduction, Static teamed with Justice League member Black Lightning in  \n",
       "order to stop former Blood Syndicate member Holocaust, who had tried to kill the superhero while he was acting as  \n",
       "the keynote speaker at Ernest Hemingway High's senior graduation.                                                  \n",
       "\n",
       "Can we conclude that are static shock and black lightning the same person?                                         \n",
       "\n",
       "OPTIONS:                                                                                                           \n",
       "\n",
       "<span style=\"color: #808000; text-decoration-color: #808000; font-weight: bold\"> • </span>True                                                                                                            \n",
       "<span style=\"color: #808000; text-decoration-color: #808000; font-weight: bold\"> • </span>False                                                                                                           \n",
       "\n",
       "\n",
       "                                                   <span style=\"font-weight: bold; text-decoration: underline\">GROUND_TRUTH</span>                                                    \n",
       "\n",
       "False                                                                                                              \n",
       "\n",
       "\n",
       "                                                   <span style=\"font-weight: bold; text-decoration: underline\">MODEL OUTPUT</span>                                                    \n",
       "\n",
       "False                                                                                                              \n",
       "</pre>\n"
      ],
      "text/plain": [
       "\n",
       "                                                   \u001b[1;4mINPUT PROMPT\u001b[0m                                                    \n",
       "\n",
       "It was recently revealed that prior to his abduction, Static teamed with Justice League member Black Lightning in  \n",
       "order to stop former Blood Syndicate member Holocaust, who had tried to kill the superhero while he was acting as  \n",
       "the keynote speaker at Ernest Hemingway High's senior graduation.                                                  \n",
       "\n",
       "Can we conclude that are static shock and black lightning the same person?                                         \n",
       "\n",
       "OPTIONS:                                                                                                           \n",
       "\n",
       "\u001b[1;33m • \u001b[0mTrue                                                                                                            \n",
       "\u001b[1;33m • \u001b[0mFalse                                                                                                           \n",
       "\n",
       "\n",
       "                                                   \u001b[1;4mGROUND_TRUTH\u001b[0m                                                    \n",
       "\n",
       "False                                                                                                              \n",
       "\n",
       "\n",
       "                                                   \u001b[1;4mMODEL OUTPUT\u001b[0m                                                    \n",
       "\n",
       "False                                                                                                              \n"
      ]
     },
     "execution_count": 17,
     "metadata": {},
     "output_type": "execute_result"
    }
   ],
   "source": [
    "dataset = create_instruct_dataset(num_samples, [\"bool_q\"])\n",
    "example = dataset[0]\n",
    "prediction = eval.generate([example[\"prompt\"]], return_full_text=not CAUSAL_LM)[0]\n",
    "Markdown(template.format(prompt=example[\"prompt\"], \n",
    "                         completion=example[\"completion\"], \n",
    "                         prediction=prediction))"
   ]
  },
  {
   "cell_type": "markdown",
   "metadata": {},
   "source": [
    "## Python Code"
   ]
  },
  {
   "cell_type": "code",
   "execution_count": 18,
   "metadata": {},
   "outputs": [
    {
     "data": {
      "application/vnd.jupyter.widget-view+json": {
       "model_id": "9b70a88212a245cbb17b68d705339625",
       "version_major": 2,
       "version_minor": 0
      },
      "text/plain": [
       "Filter:   0%|          | 0/16750 [00:00<?, ? examples/s]"
      ]
     },
     "metadata": {},
     "output_type": "display_data"
    },
    {
     "data": {
      "application/vnd.jupyter.widget-view+json": {
       "model_id": "e9c334047b8d493abefe394a0bb2616f",
       "version_major": 2,
       "version_minor": 0
      },
      "text/plain": [
       "Map:   0%|          | 0/16237 [00:00<?, ? examples/s]"
      ]
     },
     "metadata": {},
     "output_type": "display_data"
    },
    {
     "data": {
      "application/vnd.jupyter.widget-view+json": {
       "model_id": "05804188a08341cdb8f5417e0fbf5e46",
       "version_major": 2,
       "version_minor": 0
      },
      "text/plain": [
       "Filter:   0%|          | 0/16237 [00:00<?, ? examples/s]"
      ]
     },
     "metadata": {},
     "output_type": "display_data"
    },
    {
     "data": {
      "application/vnd.jupyter.widget-view+json": {
       "model_id": "da1fac30e36d4bb78cf93530895075ef",
       "version_major": 2,
       "version_minor": 0
      },
      "text/plain": [
       "Map:   0%|          | 0/100 [00:00<?, ? examples/s]"
      ]
     },
     "metadata": {},
     "output_type": "display_data"
    },
    {
     "name": "stderr",
     "output_type": "stream",
     "text": [
      "Generating responses... : 100%|██████████| 1/1 [00:11<00:00, 11.44s/it]\n"
     ]
    },
    {
     "data": {
      "text/html": [
       "<pre style=\"white-space:pre;overflow-x:auto;line-height:normal;font-family:Menlo,'DejaVu Sans Mono',consolas,'Courier New',monospace\">\n",
       "                                                   <span style=\"font-weight: bold; text-decoration: underline\">INPUT PROMPT</span>                                                    \n",
       "\n",
       "Generate a Python script to sort the given list of words. ['bubble', 'selection', 'quicksort', 'insertion']        \n",
       "\n",
       "\n",
       "                                                   <span style=\"font-weight: bold; text-decoration: underline\">GROUND_TRUTH</span>                                                    \n",
       "\n",
       "<span style=\"background-color: #272822\">                                                                                                                   \n",
       " </span><span style=\"color: #959077; text-decoration-color: #959077; background-color: #272822\"># function to sort the given list of words</span><span style=\"background-color: #272822\">                                                                        </span>\n",
       "<span style=\"background-color: #272822\"> </span><span style=\"color: #66d9ef; text-decoration-color: #66d9ef; background-color: #272822\">def</span><span style=\"color: #f8f8f2; text-decoration-color: #f8f8f2; background-color: #272822\"> </span><span style=\"color: #a6e22e; text-decoration-color: #a6e22e; background-color: #272822\">sort_words</span><span style=\"color: #f8f8f2; text-decoration-color: #f8f8f2; background-color: #272822\">(words):</span><span style=\"background-color: #272822\">                                                                                            </span>\n",
       "<span style=\"background-color: #272822\"> </span><span style=\"color: #f8f8f2; text-decoration-color: #f8f8f2; background-color: #272822\">    </span><span style=\"color: #959077; text-decoration-color: #959077; background-color: #272822\"># sort the list of words in alphabetical order</span><span style=\"background-color: #272822\">                                                                </span>\n",
       "<span style=\"background-color: #272822\"> </span><span style=\"color: #f8f8f2; text-decoration-color: #f8f8f2; background-color: #272822\">    words</span><span style=\"color: #ff4689; text-decoration-color: #ff4689; background-color: #272822\">.</span><span style=\"color: #f8f8f2; text-decoration-color: #f8f8f2; background-color: #272822\">sort()</span><span style=\"background-color: #272822\">                                                                                                  </span>\n",
       "<span style=\"background-color: #272822\">                                                                                                                   </span>\n",
       "<span style=\"background-color: #272822\"> </span><span style=\"color: #f8f8f2; text-decoration-color: #f8f8f2; background-color: #272822\">    </span><span style=\"color: #959077; text-decoration-color: #959077; background-color: #272822\"># print the sorted list of words</span><span style=\"background-color: #272822\">                                                                              </span>\n",
       "<span style=\"background-color: #272822\"> </span><span style=\"color: #f8f8f2; text-decoration-color: #f8f8f2; background-color: #272822\">    print(words)</span><span style=\"background-color: #272822\">                                                                                                  </span>\n",
       "<span style=\"background-color: #272822\">                                                                                                                   </span>\n",
       "<span style=\"background-color: #272822\"> </span><span style=\"color: #959077; text-decoration-color: #959077; background-color: #272822\"># driver code</span><span style=\"background-color: #272822\">                                                                                                     </span>\n",
       "<span style=\"background-color: #272822\"> </span><span style=\"color: #f8f8f2; text-decoration-color: #f8f8f2; background-color: #272822\">words </span><span style=\"color: #ff4689; text-decoration-color: #ff4689; background-color: #272822\">=</span><span style=\"color: #f8f8f2; text-decoration-color: #f8f8f2; background-color: #272822\"> [</span><span style=\"color: #e6db74; text-decoration-color: #e6db74; background-color: #272822\">'bubble'</span><span style=\"color: #f8f8f2; text-decoration-color: #f8f8f2; background-color: #272822\">, </span><span style=\"color: #e6db74; text-decoration-color: #e6db74; background-color: #272822\">'selection'</span><span style=\"color: #f8f8f2; text-decoration-color: #f8f8f2; background-color: #272822\">, </span><span style=\"color: #e6db74; text-decoration-color: #e6db74; background-color: #272822\">'quicksort'</span><span style=\"color: #f8f8f2; text-decoration-color: #f8f8f2; background-color: #272822\">, </span><span style=\"color: #e6db74; text-decoration-color: #e6db74; background-color: #272822\">'insertion'</span><span style=\"color: #f8f8f2; text-decoration-color: #f8f8f2; background-color: #272822\">]</span><span style=\"background-color: #272822\">                                                         </span>\n",
       "<span style=\"background-color: #272822\"> </span><span style=\"color: #f8f8f2; text-decoration-color: #f8f8f2; background-color: #272822\">sort_words(words)</span><span style=\"background-color: #272822\">                                                                                                 </span>\n",
       "<span style=\"background-color: #272822\">                                                                                                                   </span>\n",
       "<span style=\"background-color: #272822\"> </span><span style=\"color: #959077; text-decoration-color: #959077; background-color: #272822\"># output</span><span style=\"background-color: #272822\">                                                                                                          </span>\n",
       "<span style=\"background-color: #272822\"> </span><span style=\"color: #f8f8f2; text-decoration-color: #f8f8f2; background-color: #272822\">[</span><span style=\"color: #e6db74; text-decoration-color: #e6db74; background-color: #272822\">'bubble'</span><span style=\"color: #f8f8f2; text-decoration-color: #f8f8f2; background-color: #272822\">, </span><span style=\"color: #e6db74; text-decoration-color: #e6db74; background-color: #272822\">'insertion'</span><span style=\"color: #f8f8f2; text-decoration-color: #f8f8f2; background-color: #272822\">, </span><span style=\"color: #e6db74; text-decoration-color: #e6db74; background-color: #272822\">'quicksort'</span><span style=\"color: #f8f8f2; text-decoration-color: #f8f8f2; background-color: #272822\">, </span><span style=\"color: #e6db74; text-decoration-color: #e6db74; background-color: #272822\">'selection'</span><span style=\"color: #f8f8f2; text-decoration-color: #f8f8f2; background-color: #272822\">]</span><span style=\"background-color: #272822\">                                                                 </span>\n",
       "<span style=\"background-color: #272822\">                                                                                                                   \n",
       "</span>\n",
       "\n",
       "                                                   <span style=\"font-weight: bold; text-decoration: underline\">MODEL OUTPUT</span>                                                    \n",
       "\n",
       "s = input() t = s.split() l = [\"bubble\", \"selection\", \"quicksort\", \"insertion\"] t = t[:1] c = [t[i] for i in c] t =\n",
       "[t.pop()] for i in e in c] c.sort()                                                                                \n",
       "</pre>\n"
      ],
      "text/plain": [
       "\n",
       "                                                   \u001b[1;4mINPUT PROMPT\u001b[0m                                                    \n",
       "\n",
       "Generate a Python script to sort the given list of words. ['bubble', 'selection', 'quicksort', 'insertion']        \n",
       "\n",
       "\n",
       "                                                   \u001b[1;4mGROUND_TRUTH\u001b[0m                                                    \n",
       "\n",
       "\u001b[48;2;39;40;34m                                                                                                                   \n",
       "\u001b[0m\u001b[48;2;39;40;34m \u001b[0m\u001b[38;2;149;144;119;48;2;39;40;34m# function to sort the given list of words\u001b[0m\u001b[48;2;39;40;34m                                                                       \u001b[0m\u001b[48;2;39;40;34m \u001b[0m\n",
       "\u001b[48;2;39;40;34m \u001b[0m\u001b[38;2;102;217;239;48;2;39;40;34mdef\u001b[0m\u001b[38;2;248;248;242;48;2;39;40;34m \u001b[0m\u001b[38;2;166;226;46;48;2;39;40;34msort_words\u001b[0m\u001b[38;2;248;248;242;48;2;39;40;34m(\u001b[0m\u001b[38;2;248;248;242;48;2;39;40;34mwords\u001b[0m\u001b[38;2;248;248;242;48;2;39;40;34m)\u001b[0m\u001b[38;2;248;248;242;48;2;39;40;34m:\u001b[0m\u001b[48;2;39;40;34m                                                                                           \u001b[0m\u001b[48;2;39;40;34m \u001b[0m\n",
       "\u001b[48;2;39;40;34m \u001b[0m\u001b[38;2;248;248;242;48;2;39;40;34m    \u001b[0m\u001b[38;2;149;144;119;48;2;39;40;34m# sort the list of words in alphabetical order\u001b[0m\u001b[48;2;39;40;34m                                                               \u001b[0m\u001b[48;2;39;40;34m \u001b[0m\n",
       "\u001b[48;2;39;40;34m \u001b[0m\u001b[38;2;248;248;242;48;2;39;40;34m    \u001b[0m\u001b[38;2;248;248;242;48;2;39;40;34mwords\u001b[0m\u001b[38;2;255;70;137;48;2;39;40;34m.\u001b[0m\u001b[38;2;248;248;242;48;2;39;40;34msort\u001b[0m\u001b[38;2;248;248;242;48;2;39;40;34m(\u001b[0m\u001b[38;2;248;248;242;48;2;39;40;34m)\u001b[0m\u001b[48;2;39;40;34m                                                                                                 \u001b[0m\u001b[48;2;39;40;34m \u001b[0m\n",
       "\u001b[48;2;39;40;34m \u001b[0m\u001b[48;2;39;40;34m                                                                                                                 \u001b[0m\u001b[48;2;39;40;34m \u001b[0m\n",
       "\u001b[48;2;39;40;34m \u001b[0m\u001b[38;2;248;248;242;48;2;39;40;34m    \u001b[0m\u001b[38;2;149;144;119;48;2;39;40;34m# print the sorted list of words\u001b[0m\u001b[48;2;39;40;34m                                                                             \u001b[0m\u001b[48;2;39;40;34m \u001b[0m\n",
       "\u001b[48;2;39;40;34m \u001b[0m\u001b[38;2;248;248;242;48;2;39;40;34m    \u001b[0m\u001b[38;2;248;248;242;48;2;39;40;34mprint\u001b[0m\u001b[38;2;248;248;242;48;2;39;40;34m(\u001b[0m\u001b[38;2;248;248;242;48;2;39;40;34mwords\u001b[0m\u001b[38;2;248;248;242;48;2;39;40;34m)\u001b[0m\u001b[48;2;39;40;34m                                                                                                 \u001b[0m\u001b[48;2;39;40;34m \u001b[0m\n",
       "\u001b[48;2;39;40;34m \u001b[0m\u001b[48;2;39;40;34m                                                                                                                 \u001b[0m\u001b[48;2;39;40;34m \u001b[0m\n",
       "\u001b[48;2;39;40;34m \u001b[0m\u001b[38;2;149;144;119;48;2;39;40;34m# driver code\u001b[0m\u001b[48;2;39;40;34m                                                                                                    \u001b[0m\u001b[48;2;39;40;34m \u001b[0m\n",
       "\u001b[48;2;39;40;34m \u001b[0m\u001b[38;2;248;248;242;48;2;39;40;34mwords\u001b[0m\u001b[38;2;248;248;242;48;2;39;40;34m \u001b[0m\u001b[38;2;255;70;137;48;2;39;40;34m=\u001b[0m\u001b[38;2;248;248;242;48;2;39;40;34m \u001b[0m\u001b[38;2;248;248;242;48;2;39;40;34m[\u001b[0m\u001b[38;2;230;219;116;48;2;39;40;34m'\u001b[0m\u001b[38;2;230;219;116;48;2;39;40;34mbubble\u001b[0m\u001b[38;2;230;219;116;48;2;39;40;34m'\u001b[0m\u001b[38;2;248;248;242;48;2;39;40;34m,\u001b[0m\u001b[38;2;248;248;242;48;2;39;40;34m \u001b[0m\u001b[38;2;230;219;116;48;2;39;40;34m'\u001b[0m\u001b[38;2;230;219;116;48;2;39;40;34mselection\u001b[0m\u001b[38;2;230;219;116;48;2;39;40;34m'\u001b[0m\u001b[38;2;248;248;242;48;2;39;40;34m,\u001b[0m\u001b[38;2;248;248;242;48;2;39;40;34m \u001b[0m\u001b[38;2;230;219;116;48;2;39;40;34m'\u001b[0m\u001b[38;2;230;219;116;48;2;39;40;34mquicksort\u001b[0m\u001b[38;2;230;219;116;48;2;39;40;34m'\u001b[0m\u001b[38;2;248;248;242;48;2;39;40;34m,\u001b[0m\u001b[38;2;248;248;242;48;2;39;40;34m \u001b[0m\u001b[38;2;230;219;116;48;2;39;40;34m'\u001b[0m\u001b[38;2;230;219;116;48;2;39;40;34minsertion\u001b[0m\u001b[38;2;230;219;116;48;2;39;40;34m'\u001b[0m\u001b[38;2;248;248;242;48;2;39;40;34m]\u001b[0m\u001b[48;2;39;40;34m                                                        \u001b[0m\u001b[48;2;39;40;34m \u001b[0m\n",
       "\u001b[48;2;39;40;34m \u001b[0m\u001b[38;2;248;248;242;48;2;39;40;34msort_words\u001b[0m\u001b[38;2;248;248;242;48;2;39;40;34m(\u001b[0m\u001b[38;2;248;248;242;48;2;39;40;34mwords\u001b[0m\u001b[38;2;248;248;242;48;2;39;40;34m)\u001b[0m\u001b[48;2;39;40;34m                                                                                                \u001b[0m\u001b[48;2;39;40;34m \u001b[0m\n",
       "\u001b[48;2;39;40;34m \u001b[0m\u001b[48;2;39;40;34m                                                                                                                 \u001b[0m\u001b[48;2;39;40;34m \u001b[0m\n",
       "\u001b[48;2;39;40;34m \u001b[0m\u001b[38;2;149;144;119;48;2;39;40;34m# output\u001b[0m\u001b[48;2;39;40;34m                                                                                                         \u001b[0m\u001b[48;2;39;40;34m \u001b[0m\n",
       "\u001b[48;2;39;40;34m \u001b[0m\u001b[38;2;248;248;242;48;2;39;40;34m[\u001b[0m\u001b[38;2;230;219;116;48;2;39;40;34m'\u001b[0m\u001b[38;2;230;219;116;48;2;39;40;34mbubble\u001b[0m\u001b[38;2;230;219;116;48;2;39;40;34m'\u001b[0m\u001b[38;2;248;248;242;48;2;39;40;34m,\u001b[0m\u001b[38;2;248;248;242;48;2;39;40;34m \u001b[0m\u001b[38;2;230;219;116;48;2;39;40;34m'\u001b[0m\u001b[38;2;230;219;116;48;2;39;40;34minsertion\u001b[0m\u001b[38;2;230;219;116;48;2;39;40;34m'\u001b[0m\u001b[38;2;248;248;242;48;2;39;40;34m,\u001b[0m\u001b[38;2;248;248;242;48;2;39;40;34m \u001b[0m\u001b[38;2;230;219;116;48;2;39;40;34m'\u001b[0m\u001b[38;2;230;219;116;48;2;39;40;34mquicksort\u001b[0m\u001b[38;2;230;219;116;48;2;39;40;34m'\u001b[0m\u001b[38;2;248;248;242;48;2;39;40;34m,\u001b[0m\u001b[38;2;248;248;242;48;2;39;40;34m \u001b[0m\u001b[38;2;230;219;116;48;2;39;40;34m'\u001b[0m\u001b[38;2;230;219;116;48;2;39;40;34mselection\u001b[0m\u001b[38;2;230;219;116;48;2;39;40;34m'\u001b[0m\u001b[38;2;248;248;242;48;2;39;40;34m]\u001b[0m\u001b[48;2;39;40;34m                                                                \u001b[0m\u001b[48;2;39;40;34m \u001b[0m\n",
       "\u001b[48;2;39;40;34m                                                                                                                   \n",
       "\u001b[0m\n",
       "\n",
       "                                                   \u001b[1;4mMODEL OUTPUT\u001b[0m                                                    \n",
       "\n",
       "s = input() t = s.split() l = [\"bubble\", \"selection\", \"quicksort\", \"insertion\"] t = t[:1] c = [t[i] for i in c] t =\n",
       "[t.pop()] for i in e in c] c.sort()                                                                                \n"
      ]
     },
     "execution_count": 18,
     "metadata": {},
     "output_type": "execute_result"
    }
   ],
   "source": [
    "dataset = create_instruct_dataset(num_samples, [\"python_code\"])\n",
    "example = dataset[0]\n",
    "prediction = eval.generate([example[\"prompt\"]], max_tokens=1000, return_full_text=not CAUSAL_LM)[0]\n",
    "Markdown(template.format(prompt=example[\"prompt\"], \n",
    "                         completion=example[\"completion\"], \n",
    "                         prediction=prediction))"
   ]
  },
  {
   "cell_type": "markdown",
   "metadata": {},
   "source": [
    "## Eng-Spa"
   ]
  },
  {
   "cell_type": "code",
   "execution_count": 19,
   "metadata": {},
   "outputs": [
    {
     "name": "stderr",
     "output_type": "stream",
     "text": [
      "Generating responses... : 100%|██████████| 1/1 [00:01<00:00,  1.36s/it]\n"
     ]
    },
    {
     "data": {
      "text/html": [
       "<pre style=\"white-space:pre;overflow-x:auto;line-height:normal;font-family:Menlo,'DejaVu Sans Mono',consolas,'Courier New',monospace\">\n",
       "                                                   <span style=\"font-weight: bold; text-decoration: underline\">INPUT PROMPT</span>                                                    \n",
       "\n",
       "Eso me gustó. How do you say this sentence in English?                                                             \n",
       "\n",
       "\n",
       "                                                   <span style=\"font-weight: bold; text-decoration: underline\">GROUND_TRUTH</span>                                                    \n",
       "\n",
       "I loved that.                                                                                                      \n",
       "\n",
       "\n",
       "                                                   <span style=\"font-weight: bold; text-decoration: underline\">MODEL OUTPUT</span>                                                    \n",
       "\n",
       "That's how I liked it.                                                                                             \n",
       "</pre>\n"
      ],
      "text/plain": [
       "\n",
       "                                                   \u001b[1;4mINPUT PROMPT\u001b[0m                                                    \n",
       "\n",
       "Eso me gustó. How do you say this sentence in English?                                                             \n",
       "\n",
       "\n",
       "                                                   \u001b[1;4mGROUND_TRUTH\u001b[0m                                                    \n",
       "\n",
       "I loved that.                                                                                                      \n",
       "\n",
       "\n",
       "                                                   \u001b[1;4mMODEL OUTPUT\u001b[0m                                                    \n",
       "\n",
       "That's how I liked it.                                                                                             \n"
      ]
     },
     "execution_count": 19,
     "metadata": {},
     "output_type": "execute_result"
    }
   ],
   "source": [
    "dataset = create_instruct_dataset(num_samples, [\"eng_spa\"])\n",
    "example = dataset[0]\n",
    "prediction = eval.generate([example[\"prompt\"]], return_full_text=not CAUSAL_LM)[0]\n",
    "Markdown(template.format(prompt=example[\"prompt\"], \n",
    "                         completion=example[\"completion\"], \n",
    "                         prediction=prediction))"
   ]
  },
  {
   "cell_type": "markdown",
   "metadata": {},
   "source": [
    "## PAWS"
   ]
  },
  {
   "cell_type": "code",
   "execution_count": 20,
   "metadata": {},
   "outputs": [
    {
     "data": {
      "application/vnd.jupyter.widget-view+json": {
       "model_id": "cb8848ad28cb4f8588a9566eb46994ab",
       "version_major": 2,
       "version_minor": 0
      },
      "text/plain": [
       "Map:   0%|          | 0/49401 [00:00<?, ? examples/s]"
      ]
     },
     "metadata": {},
     "output_type": "display_data"
    },
    {
     "data": {
      "application/vnd.jupyter.widget-view+json": {
       "model_id": "654998e77b7f4db2b715b77cb4e3011f",
       "version_major": 2,
       "version_minor": 0
      },
      "text/plain": [
       "Filter:   0%|          | 0/49401 [00:00<?, ? examples/s]"
      ]
     },
     "metadata": {},
     "output_type": "display_data"
    },
    {
     "data": {
      "application/vnd.jupyter.widget-view+json": {
       "model_id": "2d9014c80c9a4af980fd11ed2838bbcc",
       "version_major": 2,
       "version_minor": 0
      },
      "text/plain": [
       "Map:   0%|          | 0/100 [00:00<?, ? examples/s]"
      ]
     },
     "metadata": {},
     "output_type": "display_data"
    },
    {
     "name": "stderr",
     "output_type": "stream",
     "text": [
      "Generating responses... : 100%|██████████| 1/1 [00:00<00:00,  2.45it/s]\n"
     ]
    },
    {
     "data": {
      "text/html": [
       "<pre style=\"white-space:pre;overflow-x:auto;line-height:normal;font-family:Menlo,'DejaVu Sans Mono',consolas,'Courier New',monospace\">\n",
       "                                                   <span style=\"font-weight: bold; text-decoration: underline\">INPUT PROMPT</span>                                                    \n",
       "\n",
       "Singer Angélique Kidjo and actor Djimon Hounsou were born in Cotonou , Benin .                                     \n",
       "\n",
       "Singer Djimon Hounsou and actor Angélique Kidjo were born in Cotonou in Benin .                                    \n",
       "\n",
       "Do the above sentences mean the same thing? OPTIONS:                                                               \n",
       "\n",
       "<span style=\"color: #808000; text-decoration-color: #808000; font-weight: bold\"> • </span>No                                                                                                              \n",
       "<span style=\"color: #808000; text-decoration-color: #808000; font-weight: bold\"> • </span>Yes                                                                                                             \n",
       "\n",
       "\n",
       "                                                   <span style=\"font-weight: bold; text-decoration: underline\">GROUND_TRUTH</span>                                                    \n",
       "\n",
       "No                                                                                                                 \n",
       "\n",
       "\n",
       "                                                   <span style=\"font-weight: bold; text-decoration: underline\">MODEL OUTPUT</span>                                                    \n",
       "\n",
       "No                                                                                                                 \n",
       "</pre>\n"
      ],
      "text/plain": [
       "\n",
       "                                                   \u001b[1;4mINPUT PROMPT\u001b[0m                                                    \n",
       "\n",
       "Singer Angélique Kidjo and actor Djimon Hounsou were born in Cotonou , Benin .                                     \n",
       "\n",
       "Singer Djimon Hounsou and actor Angélique Kidjo were born in Cotonou in Benin .                                    \n",
       "\n",
       "Do the above sentences mean the same thing? OPTIONS:                                                               \n",
       "\n",
       "\u001b[1;33m • \u001b[0mNo                                                                                                              \n",
       "\u001b[1;33m • \u001b[0mYes                                                                                                             \n",
       "\n",
       "\n",
       "                                                   \u001b[1;4mGROUND_TRUTH\u001b[0m                                                    \n",
       "\n",
       "No                                                                                                                 \n",
       "\n",
       "\n",
       "                                                   \u001b[1;4mMODEL OUTPUT\u001b[0m                                                    \n",
       "\n",
       "No                                                                                                                 \n"
      ]
     },
     "execution_count": 20,
     "metadata": {},
     "output_type": "execute_result"
    }
   ],
   "source": [
    "dataset = create_instruct_dataset(num_samples, [\"paws\"])\n",
    "example = dataset[0]\n",
    "prediction = eval.generate([example[\"prompt\"]], return_full_text=not CAUSAL_LM)[0]\n",
    "Markdown(template.format(prompt=example[\"prompt\"], \n",
    "                         completion=example[\"completion\"], \n",
    "                         prediction=prediction))"
   ]
  },
  {
   "cell_type": "markdown",
   "metadata": {},
   "source": [
    "## Quora"
   ]
  },
  {
   "cell_type": "code",
   "execution_count": 21,
   "metadata": {},
   "outputs": [
    {
     "data": {
      "application/vnd.jupyter.widget-view+json": {
       "model_id": "133ac419c22542eb9a372ebcb974d902",
       "version_major": 2,
       "version_minor": 0
      },
      "text/plain": [
       "Filter:   0%|          | 0/56402 [00:00<?, ? examples/s]"
      ]
     },
     "metadata": {},
     "output_type": "display_data"
    },
    {
     "name": "stderr",
     "output_type": "stream",
     "text": [
      "Generating responses... : 100%|██████████| 1/1 [00:00<00:00,  2.47it/s]\n"
     ]
    },
    {
     "data": {
      "text/html": [
       "<pre style=\"white-space:pre;overflow-x:auto;line-height:normal;font-family:Menlo,'DejaVu Sans Mono',consolas,'Courier New',monospace\">\n",
       "                                                   <span style=\"font-weight: bold; text-decoration: underline\">INPUT PROMPT</span>                                                    \n",
       "\n",
       "What kind of food do people from the UK eat that is considered an acquired taste to the rest of the world?         \n",
       "\n",
       "\n",
       "                                                   <span style=\"font-weight: bold; text-decoration: underline\">GROUND_TRUTH</span>                                                    \n",
       "\n",
       "crumpets, malt loaf, haggis, tripe, Christmas pudding, sprouts, just a few things                                  \n",
       "\n",
       "\n",
       "                                                   <span style=\"font-weight: bold; text-decoration: underline\">MODEL OUTPUT</span>                                                    \n",
       "\n",
       "cheese                                                                                                             \n",
       "</pre>\n"
      ],
      "text/plain": [
       "\n",
       "                                                   \u001b[1;4mINPUT PROMPT\u001b[0m                                                    \n",
       "\n",
       "What kind of food do people from the UK eat that is considered an acquired taste to the rest of the world?         \n",
       "\n",
       "\n",
       "                                                   \u001b[1;4mGROUND_TRUTH\u001b[0m                                                    \n",
       "\n",
       "crumpets, malt loaf, haggis, tripe, Christmas pudding, sprouts, just a few things                                  \n",
       "\n",
       "\n",
       "                                                   \u001b[1;4mMODEL OUTPUT\u001b[0m                                                    \n",
       "\n",
       "cheese                                                                                                             \n"
      ]
     },
     "execution_count": 21,
     "metadata": {},
     "output_type": "execute_result"
    }
   ],
   "source": [
    "dataset = create_instruct_dataset(num_samples, [\"quora\"])\n",
    "example = dataset[0]\n",
    "prediction = eval.generate([example[\"prompt\"]], return_full_text=not CAUSAL_LM)[0]\n",
    "Markdown(template.format(prompt=example[\"prompt\"], \n",
    "                         completion=example[\"completion\"], \n",
    "                         prediction=prediction))"
   ]
  },
  {
   "cell_type": "markdown",
   "metadata": {},
   "source": [
    "## Alpaca"
   ]
  },
  {
   "cell_type": "code",
   "execution_count": 23,
   "metadata": {},
   "outputs": [
    {
     "data": {
      "application/vnd.jupyter.widget-view+json": {
       "model_id": "8ed4dfcaaf4c475cb858f971d2fa49d1",
       "version_major": 2,
       "version_minor": 0
      },
      "text/plain": [
       "Filter:   0%|          | 0/52002 [00:00<?, ? examples/s]"
      ]
     },
     "metadata": {},
     "output_type": "display_data"
    },
    {
     "data": {
      "application/vnd.jupyter.widget-view+json": {
       "model_id": "419223e1736044c88c1682da563a8fb5",
       "version_major": 2,
       "version_minor": 0
      },
      "text/plain": [
       "Map:   0%|          | 0/20100 [00:00<?, ? examples/s]"
      ]
     },
     "metadata": {},
     "output_type": "display_data"
    },
    {
     "data": {
      "application/vnd.jupyter.widget-view+json": {
       "model_id": "fff4bd5266414988b48b1ae4254b642c",
       "version_major": 2,
       "version_minor": 0
      },
      "text/plain": [
       "Filter:   0%|          | 0/20100 [00:00<?, ? examples/s]"
      ]
     },
     "metadata": {},
     "output_type": "display_data"
    },
    {
     "data": {
      "application/vnd.jupyter.widget-view+json": {
       "model_id": "ad283de2849d4c65962aa6f85145234c",
       "version_major": 2,
       "version_minor": 0
      },
      "text/plain": [
       "Map:   0%|          | 0/100 [00:00<?, ? examples/s]"
      ]
     },
     "metadata": {},
     "output_type": "display_data"
    },
    {
     "name": "stderr",
     "output_type": "stream",
     "text": [
      "Generating responses... : 100%|██████████| 1/1 [00:01<00:00,  1.47s/it]\n"
     ]
    },
    {
     "data": {
      "text/html": [
       "<pre style=\"white-space:pre;overflow-x:auto;line-height:normal;font-family:Menlo,'DejaVu Sans Mono',consolas,'Courier New',monospace\">\n",
       "                                                   <span style=\"font-weight: bold; text-decoration: underline\">INPUT PROMPT</span>                                                    \n",
       "\n",
       "Construct a phrase using the given words Pandemic, challenge, action                                               \n",
       "\n",
       "\n",
       "                                                   <span style=\"font-weight: bold; text-decoration: underline\">GROUND_TRUTH</span>                                                    \n",
       "\n",
       "Our action in the face of the pandemic is the ultimate challenge.                                                  \n",
       "\n",
       "\n",
       "                                                   <span style=\"font-weight: bold; text-decoration: underline\">MODEL OUTPUT</span>                                                    \n",
       "\n",
       "a challenge to action with pandemic                                                                                \n",
       "</pre>\n"
      ],
      "text/plain": [
       "\n",
       "                                                   \u001b[1;4mINPUT PROMPT\u001b[0m                                                    \n",
       "\n",
       "Construct a phrase using the given words Pandemic, challenge, action                                               \n",
       "\n",
       "\n",
       "                                                   \u001b[1;4mGROUND_TRUTH\u001b[0m                                                    \n",
       "\n",
       "Our action in the face of the pandemic is the ultimate challenge.                                                  \n",
       "\n",
       "\n",
       "                                                   \u001b[1;4mMODEL OUTPUT\u001b[0m                                                    \n",
       "\n",
       "a challenge to action with pandemic                                                                                \n"
      ]
     },
     "execution_count": 23,
     "metadata": {},
     "output_type": "execute_result"
    }
   ],
   "source": [
    "dataset = create_instruct_dataset(num_samples, [\"alpaca\"])\n",
    "example = dataset[0]\n",
    "prediction = eval.generate([example[\"prompt\"]], return_full_text=not CAUSAL_LM)[0]\n",
    "Markdown(template.format(prompt=example[\"prompt\"], \n",
    "                         completion=example[\"completion\"], \n",
    "                         prediction=prediction))"
   ]
  },
  {
   "cell_type": "code",
   "execution_count": null,
   "metadata": {},
   "outputs": [],
   "source": []
  }
 ],
 "metadata": {
  "kernelspec": {
   "display_name": "transformers-311",
   "language": "python",
   "name": "python3"
  },
  "language_info": {
   "codemirror_mode": {
    "name": "ipython",
    "version": 3
   },
   "file_extension": ".py",
   "mimetype": "text/x-python",
   "name": "python",
   "nbconvert_exporter": "python",
   "pygments_lexer": "ipython3",
   "version": "3.11.10"
  }
 },
 "nbformat": 4,
 "nbformat_minor": 2
}
