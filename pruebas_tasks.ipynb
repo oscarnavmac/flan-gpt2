{
 "cells": [
  {
   "cell_type": "code",
   "execution_count": 1,
   "metadata": {},
   "outputs": [
    {
     "name": "stdout",
     "output_type": "stream",
     "text": [
      "cuda\n"
     ]
    }
   ],
   "source": [
    "from transformers import AutoModelForSeq2SeqLM, AutoTokenizer\n",
    "from datasets import load_dataset\n",
    "import torch\n",
    "from rich.markdown import Markdown\n",
    "\n",
    "device = ('cuda' if torch.cuda.is_available() else 'cpu')\n",
    "print(device)"
   ]
  },
  {
   "cell_type": "code",
   "execution_count": 2,
   "metadata": {},
   "outputs": [
    {
     "name": "stderr",
     "output_type": "stream",
     "text": [
      "c:\\Users\\rockn\\anaconda3\\envs\\transformers-311\\Lib\\site-packages\\transformers\\tokenization_utils_base.py:1617: FutureWarning: `clean_up_tokenization_spaces` was not set. It will be set to `True` by default. This behavior will be deprecated in transformers v4.45, and will be then set to `False` by default. For more details check this issue: https://github.com/huggingface/transformers/issues/31884\n",
      "  warnings.warn(\n"
     ]
    }
   ],
   "source": [
    "model_name = \"google/flan-t5-large\"\n",
    "\n",
    "tokenizer = AutoTokenizer.from_pretrained(model_name)\n",
    "model = AutoModelForSeq2SeqLM.from_pretrained(model_name, torch_dtype=torch.bfloat16).to(device)"
   ]
  },
  {
   "cell_type": "code",
   "execution_count": 3,
   "metadata": {},
   "outputs": [
    {
     "name": "stdout",
     "output_type": "stream",
     "text": [
      "Number of parameters: 783,150,080\n"
     ]
    }
   ],
   "source": [
    "print(f\"Number of parameters: {model.num_parameters():,}\")"
   ]
  },
  {
   "cell_type": "code",
   "execution_count": 4,
   "metadata": {},
   "outputs": [
    {
     "name": "stdout",
     "output_type": "stream",
     "text": [
      "c:\\Users\\rockn\\Documents\\Maestria en Ciencias de la Computacion\\tercer semestre\\Tesis 2\\flan-gpt2\n"
     ]
    }
   ],
   "source": [
    "%cd ..\n",
    "from eval_utils import Evaluation\n",
    "from data_utils import format_example, format_options, create_instruct_dataset\n",
    "\n",
    "eval = Evaluation(model, tokenizer, device)"
   ]
  },
  {
   "cell_type": "code",
   "execution_count": 5,
   "metadata": {},
   "outputs": [],
   "source": [
    "template = \"\"\"\n",
    "## INPUT PROMPT\n",
    "{prompt}\n",
    "## GROUND_TRUTH\n",
    "{completion}\n",
    "## MODEL OUTPUT\n",
    "{prediction}\n",
    "\"\"\""
   ]
  },
  {
   "cell_type": "markdown",
   "metadata": {},
   "source": [
    "### ANLI"
   ]
  },
  {
   "cell_type": "code",
   "execution_count": 10,
   "metadata": {},
   "outputs": [
    {
     "name": "stderr",
     "output_type": "stream",
     "text": [
      "Generating response... : 100%|██████████| 1/1 [00:00<00:00,  2.44it/s]\n"
     ]
    },
    {
     "data": {
      "text/html": [
       "<pre style=\"white-space:pre;overflow-x:auto;line-height:normal;font-family:Menlo,'DejaVu Sans Mono',consolas,'Courier New',monospace\">\n",
       "                                                   <span style=\"font-weight: bold; text-decoration: underline\">INPUT PROMPT</span>                                                    \n",
       "\n",
       "BRABUS GmbH, founded 1977 in Bottrop (Ruhr Area), Germany, is a high-performance aftermarket tuning company which  \n",
       "specializes in Mercedes-Benz, Smart, Tesla and Maybach vehicles. Brabus became the largest Mercedes tuner, other   \n",
       "than Mercedes-AMG which became a DaimlerChrysler affiliate in the 1990s. Does this next sentence follow, given the \n",
       "preceding text? Brabus specializes in high-performance tuning for Maybach vehicles.                                \n",
       "\n",
       "OPTIONS:                                                                                                           \n",
       "\n",
       "<span style=\"color: #808000; text-decoration-color: #808000; font-weight: bold\"> • </span>entailment                                                                                                      \n",
       "<span style=\"color: #808000; text-decoration-color: #808000; font-weight: bold\"> • </span>neutral                                                                                                         \n",
       "<span style=\"color: #808000; text-decoration-color: #808000; font-weight: bold\"> • </span>contradiction                                                                                                   \n",
       "\n",
       "\n",
       "                                                   <span style=\"font-weight: bold; text-decoration: underline\">GROUND_TRUTH</span>                                                    \n",
       "\n",
       "entailment                                                                                                         \n",
       "\n",
       "\n",
       "                                                   <span style=\"font-weight: bold; text-decoration: underline\">MODEL OUTPUT</span>                                                    \n",
       "\n",
       "yes                                                                                                                \n",
       "</pre>\n"
      ],
      "text/plain": [
       "\n",
       "                                                   \u001b[1;4mINPUT PROMPT\u001b[0m                                                    \n",
       "\n",
       "BRABUS GmbH, founded 1977 in Bottrop (Ruhr Area), Germany, is a high-performance aftermarket tuning company which  \n",
       "specializes in Mercedes-Benz, Smart, Tesla and Maybach vehicles. Brabus became the largest Mercedes tuner, other   \n",
       "than Mercedes-AMG which became a DaimlerChrysler affiliate in the 1990s. Does this next sentence follow, given the \n",
       "preceding text? Brabus specializes in high-performance tuning for Maybach vehicles.                                \n",
       "\n",
       "OPTIONS:                                                                                                           \n",
       "\n",
       "\u001b[1;33m • \u001b[0mentailment                                                                                                      \n",
       "\u001b[1;33m • \u001b[0mneutral                                                                                                         \n",
       "\u001b[1;33m • \u001b[0mcontradiction                                                                                                   \n",
       "\n",
       "\n",
       "                                                   \u001b[1;4mGROUND_TRUTH\u001b[0m                                                    \n",
       "\n",
       "entailment                                                                                                         \n",
       "\n",
       "\n",
       "                                                   \u001b[1;4mMODEL OUTPUT\u001b[0m                                                    \n",
       "\n",
       "yes                                                                                                                \n"
      ]
     },
     "execution_count": 10,
     "metadata": {},
     "output_type": "execute_result"
    }
   ],
   "source": [
    "dataset = create_instruct_dataset([\"anli\"])\n",
    "example = dataset[0]\n",
    "prediction = eval.generate([example[\"prompt\"]])[0]\n",
    "Markdown(template.format(prompt=example[\"prompt\"], \n",
    "                         completion=example[\"completion\"], \n",
    "                         prediction=prediction))"
   ]
  },
  {
   "cell_type": "markdown",
   "metadata": {},
   "source": [
    "## Common Gen"
   ]
  },
  {
   "cell_type": "code",
   "execution_count": 6,
   "metadata": {},
   "outputs": [
    {
     "name": "stderr",
     "output_type": "stream",
     "text": [
      "Generating response... :   0%|          | 0/1 [00:00<?, ?it/s]The attention mask is not set and cannot be inferred from input because pad token is same as eos token. As a consequence, you may observe unexpected behavior. Please pass your input's `attention_mask` to obtain reliable results.\n",
      "Generating response... : 100%|██████████| 1/1 [00:02<00:00,  2.41s/it]\n"
     ]
    },
    {
     "data": {
      "text/html": [
       "<pre style=\"white-space:pre;overflow-x:auto;line-height:normal;font-family:Menlo,'DejaVu Sans Mono',consolas,'Courier New',monospace\">\n",
       "                                                   <span style=\"font-weight: bold; text-decoration: underline\">INPUT PROMPT</span>                                                    \n",
       "\n",
       "Generate a sentence, and then tell me the concepts included in that sentence.                                      \n",
       "\n",
       "\n",
       "                                                   <span style=\"font-weight: bold; text-decoration: underline\">GROUND_TRUTH</span>                                                    \n",
       "\n",
       "Sentence: A group of elephants gathered around their watering hole                                                 \n",
       "\n",
       "Concepts: ['gather', 'hole', 'elephant']                                                                           \n",
       "\n",
       "\n",
       "                                                   <span style=\"font-weight: bold; text-decoration: underline\">MODEL OUTPUT</span>                                                    \n",
       "\n",
       "Sentence: this lily flower was the original pet of our dog before he was rescued Concepts: dog lover lily          \n",
       "</pre>\n"
      ],
      "text/plain": [
       "\n",
       "                                                   \u001b[1;4mINPUT PROMPT\u001b[0m                                                    \n",
       "\n",
       "Generate a sentence, and then tell me the concepts included in that sentence.                                      \n",
       "\n",
       "\n",
       "                                                   \u001b[1;4mGROUND_TRUTH\u001b[0m                                                    \n",
       "\n",
       "Sentence: A group of elephants gathered around their watering hole                                                 \n",
       "\n",
       "Concepts: ['gather', 'hole', 'elephant']                                                                           \n",
       "\n",
       "\n",
       "                                                   \u001b[1;4mMODEL OUTPUT\u001b[0m                                                    \n",
       "\n",
       "Sentence: this lily flower was the original pet of our dog before he was rescued Concepts: dog lover lily          \n"
      ]
     },
     "execution_count": 6,
     "metadata": {},
     "output_type": "execute_result"
    }
   ],
   "source": [
    "dataset = create_instruct_dataset([\"common_gen\"])\n",
    "example = dataset[0]\n",
    "prediction = eval.generate([example[\"prompt\"]])[0]\n",
    "Markdown(template.format(prompt=example[\"prompt\"], \n",
    "                         completion=example[\"completion\"], \n",
    "                         prediction=prediction))"
   ]
  },
  {
   "cell_type": "markdown",
   "metadata": {},
   "source": [
    "## SQUAD"
   ]
  },
  {
   "cell_type": "code",
   "execution_count": 8,
   "metadata": {},
   "outputs": [
    {
     "data": {
      "application/vnd.jupyter.widget-view+json": {
       "model_id": "f2630c0de3874f929036982ddadc5e42",
       "version_major": 2,
       "version_minor": 0
      },
      "text/plain": [
       "Map:   0%|          | 0/87599 [00:00<?, ? examples/s]"
      ]
     },
     "metadata": {},
     "output_type": "display_data"
    },
    {
     "data": {
      "application/vnd.jupyter.widget-view+json": {
       "model_id": "afee0cc80f384ef8913e725f4eb83638",
       "version_major": 2,
       "version_minor": 0
      },
      "text/plain": [
       "Filter:   0%|          | 0/87599 [00:00<?, ? examples/s]"
      ]
     },
     "metadata": {},
     "output_type": "display_data"
    },
    {
     "data": {
      "application/vnd.jupyter.widget-view+json": {
       "model_id": "1a78767709c44eab8c0d49d1f1f6c24c",
       "version_major": 2,
       "version_minor": 0
      },
      "text/plain": [
       "Map:   0%|          | 0/10000 [00:00<?, ? examples/s]"
      ]
     },
     "metadata": {},
     "output_type": "display_data"
    },
    {
     "name": "stderr",
     "output_type": "stream",
     "text": [
      "Generating response... : 100%|██████████| 1/1 [00:00<00:00,  2.09it/s]\n"
     ]
    },
    {
     "data": {
      "text/html": [
       "<pre style=\"white-space:pre;overflow-x:auto;line-height:normal;font-family:Menlo,'DejaVu Sans Mono',consolas,'Courier New',monospace\">\n",
       "                                                   <span style=\"font-weight: bold; text-decoration: underline\">INPUT PROMPT</span>                                                    \n",
       "\n",
       "Article: The funeral and burial for Donda West was held in Oklahoma City on November 20, 2007. West played his     \n",
       "first concert following the funeral at The O2 in London on November 22. He dedicated a performance of \"Hey Mama\",  \n",
       "as well as a cover of Journey's \"Don't Stop Believin'\", to his mother, and did so on all other dates of his Glow in\n",
       "the Dark tour.                                                                                                     \n",
       "\n",
       "Now answer this question: In what city was the funeral and burial for Donda West held?                             \n",
       "\n",
       "\n",
       "                                                   <span style=\"font-weight: bold; text-decoration: underline\">GROUND_TRUTH</span>                                                    \n",
       "\n",
       "Oklahoma City                                                                                                      \n",
       "\n",
       "\n",
       "                                                   <span style=\"font-weight: bold; text-decoration: underline\">MODEL OUTPUT</span>                                                    \n",
       "\n",
       "Oklahoma City                                                                                                      \n",
       "</pre>\n"
      ],
      "text/plain": [
       "\n",
       "                                                   \u001b[1;4mINPUT PROMPT\u001b[0m                                                    \n",
       "\n",
       "Article: The funeral and burial for Donda West was held in Oklahoma City on November 20, 2007. West played his     \n",
       "first concert following the funeral at The O2 in London on November 22. He dedicated a performance of \"Hey Mama\",  \n",
       "as well as a cover of Journey's \"Don't Stop Believin'\", to his mother, and did so on all other dates of his Glow in\n",
       "the Dark tour.                                                                                                     \n",
       "\n",
       "Now answer this question: In what city was the funeral and burial for Donda West held?                             \n",
       "\n",
       "\n",
       "                                                   \u001b[1;4mGROUND_TRUTH\u001b[0m                                                    \n",
       "\n",
       "Oklahoma City                                                                                                      \n",
       "\n",
       "\n",
       "                                                   \u001b[1;4mMODEL OUTPUT\u001b[0m                                                    \n",
       "\n",
       "Oklahoma City                                                                                                      \n"
      ]
     },
     "execution_count": 8,
     "metadata": {},
     "output_type": "execute_result"
    }
   ],
   "source": [
    "dataset = create_instruct_dataset([\"squad\"])\n",
    "example = dataset[0]\n",
    "prediction = eval.generate([example[\"prompt\"]])[0]\n",
    "Markdown(template.format(prompt=example[\"prompt\"], \n",
    "                         completion=example[\"completion\"], \n",
    "                         prediction=prediction))"
   ]
  },
  {
   "cell_type": "markdown",
   "metadata": {},
   "source": [
    "## Cosmos QA"
   ]
  },
  {
   "cell_type": "code",
   "execution_count": 7,
   "metadata": {},
   "outputs": [
    {
     "data": {
      "application/vnd.jupyter.widget-view+json": {
       "model_id": "76bc5dfce6774817aa1e11ea85f57732",
       "version_major": 2,
       "version_minor": 0
      },
      "text/plain": [
       "Map:   0%|          | 0/25262 [00:00<?, ? examples/s]"
      ]
     },
     "metadata": {},
     "output_type": "display_data"
    },
    {
     "data": {
      "application/vnd.jupyter.widget-view+json": {
       "model_id": "b7e185fa86c4448892d241037358f246",
       "version_major": 2,
       "version_minor": 0
      },
      "text/plain": [
       "Filter:   0%|          | 0/25262 [00:00<?, ? examples/s]"
      ]
     },
     "metadata": {},
     "output_type": "display_data"
    },
    {
     "data": {
      "application/vnd.jupyter.widget-view+json": {
       "model_id": "ce4f330c052a41618f284f07862de1b1",
       "version_major": 2,
       "version_minor": 0
      },
      "text/plain": [
       "Map:   0%|          | 0/10000 [00:00<?, ? examples/s]"
      ]
     },
     "metadata": {},
     "output_type": "display_data"
    },
    {
     "name": "stderr",
     "output_type": "stream",
     "text": [
      "Generating response... : 100%|██████████| 1/1 [00:00<00:00,  1.51it/s]\n"
     ]
    },
    {
     "data": {
      "text/html": [
       "<pre style=\"white-space:pre;overflow-x:auto;line-height:normal;font-family:Menlo,'DejaVu Sans Mono',consolas,'Courier New',monospace\">\n",
       "                                                   <span style=\"font-weight: bold; text-decoration: underline\">INPUT PROMPT</span>                                                    \n",
       "\n",
       "Read the following article and answer the question.                                                                \n",
       "\n",
       "depression is a horrible problem and i hate it with a passion . if i have to be on drugs for the rest of my life , \n",
       "they should be ones that work . ( oh my gosh , and please do n't tell me 105 is healthy , you are healthy , etc ...\n",
       "it is not healthy to be so depressed . i cry every day and am miserable about the way i look .                     \n",
       "\n",
       "What may be the reason to post this ? OPTIONS:                                                                     \n",
       "\n",
       "<span style=\"color: #808000; text-decoration-color: #808000; font-weight: bold\"> • </span>None of the above choices .                                                                                     \n",
       "<span style=\"color: #808000; text-decoration-color: #808000; font-weight: bold\"> • </span>To describe my happiness                                                                                        \n",
       "<span style=\"color: #808000; text-decoration-color: #808000; font-weight: bold\"> • </span>To describe my sleep                                                                                            \n",
       "<span style=\"color: #808000; text-decoration-color: #808000; font-weight: bold\"> • </span>To describe my depression                                                                                       \n",
       "\n",
       "\n",
       "                                                   <span style=\"font-weight: bold; text-decoration: underline\">GROUND_TRUTH</span>                                                    \n",
       "\n",
       "To describe my depression                                                                                          \n",
       "\n",
       "\n",
       "                                                   <span style=\"font-weight: bold; text-decoration: underline\">MODEL OUTPUT</span>                                                    \n",
       "\n",
       "To describe my depression                                                                                          \n",
       "</pre>\n"
      ],
      "text/plain": [
       "\n",
       "                                                   \u001b[1;4mINPUT PROMPT\u001b[0m                                                    \n",
       "\n",
       "Read the following article and answer the question.                                                                \n",
       "\n",
       "depression is a horrible problem and i hate it with a passion . if i have to be on drugs for the rest of my life , \n",
       "they should be ones that work . ( oh my gosh , and please do n't tell me 105 is healthy , you are healthy , etc ...\n",
       "it is not healthy to be so depressed . i cry every day and am miserable about the way i look .                     \n",
       "\n",
       "What may be the reason to post this ? OPTIONS:                                                                     \n",
       "\n",
       "\u001b[1;33m • \u001b[0mNone of the above choices .                                                                                     \n",
       "\u001b[1;33m • \u001b[0mTo describe my happiness                                                                                        \n",
       "\u001b[1;33m • \u001b[0mTo describe my sleep                                                                                            \n",
       "\u001b[1;33m • \u001b[0mTo describe my depression                                                                                       \n",
       "\n",
       "\n",
       "                                                   \u001b[1;4mGROUND_TRUTH\u001b[0m                                                    \n",
       "\n",
       "To describe my depression                                                                                          \n",
       "\n",
       "\n",
       "                                                   \u001b[1;4mMODEL OUTPUT\u001b[0m                                                    \n",
       "\n",
       "To describe my depression                                                                                          \n"
      ]
     },
     "execution_count": 7,
     "metadata": {},
     "output_type": "execute_result"
    }
   ],
   "source": [
    "dataset = create_instruct_dataset([\"cosmos_qa\"])\n",
    "example = dataset[0]\n",
    "prediction = eval.generate([example[\"prompt\"]])[0]\n",
    "Markdown(template.format(prompt=example[\"prompt\"], \n",
    "                         completion=example[\"completion\"], \n",
    "                         prediction=prediction))"
   ]
  },
  {
   "cell_type": "markdown",
   "metadata": {},
   "source": [
    "## CoQA"
   ]
  },
  {
   "cell_type": "code",
   "execution_count": 8,
   "metadata": {},
   "outputs": [
    {
     "data": {
      "application/vnd.jupyter.widget-view+json": {
       "model_id": "8cce3ec4d56e4f57833305109f0e22cf",
       "version_major": 2,
       "version_minor": 0
      },
      "text/plain": [
       "Map:   0%|          | 0/7199 [00:00<?, ? examples/s]"
      ]
     },
     "metadata": {},
     "output_type": "display_data"
    },
    {
     "data": {
      "application/vnd.jupyter.widget-view+json": {
       "model_id": "7bb6a18e91114c4ab350d752db06cd3f",
       "version_major": 2,
       "version_minor": 0
      },
      "text/plain": [
       "Filter:   0%|          | 0/7199 [00:00<?, ? examples/s]"
      ]
     },
     "metadata": {},
     "output_type": "display_data"
    },
    {
     "data": {
      "application/vnd.jupyter.widget-view+json": {
       "model_id": "be9d0ff774934b94a3530bf45003e675",
       "version_major": 2,
       "version_minor": 0
      },
      "text/plain": [
       "Map:   0%|          | 0/7199 [00:00<?, ? examples/s]"
      ]
     },
     "metadata": {},
     "output_type": "display_data"
    },
    {
     "name": "stderr",
     "output_type": "stream",
     "text": [
      "Generating response... : 100%|██████████| 1/1 [00:05<00:00,  5.19s/it]\n"
     ]
    },
    {
     "data": {
      "text/html": [
       "<pre style=\"white-space:pre;overflow-x:auto;line-height:normal;font-family:Menlo,'DejaVu Sans Mono',consolas,'Courier New',monospace\">\n",
       "                                                   <span style=\"font-weight: bold; text-decoration: underline\">INPUT PROMPT</span>                                                    \n",
       "\n",
       "Hong Kong (CNN) -- Not your average great-great grandfather, Fauja Singh has completed nine 26-mile (42-kilometer) \n",
       "marathons since taking up long-distance running just over a decade ago.                                            \n",
       "\n",
       "On Sunday, the 101-year-old Sikh finished his final competitive race in Hong Kong, putting an end to a sporting    \n",
       "career that has raised thousands of dollars for charity and been an inspiration to many around the world.          \n",
       "\n",
       "Nicknamed \"Turbaned Tornado\" by fans for his distinctive traditional headwear, Singh said he began long-distance   \n",
       "running in an attempt to lift the depression that engulfed him after he witnessed the death of his son.            \n",
       "\n",
       "\"I suffered a tragic incident in my life, a traumatic experience; I took up running as a new focus in life. And    \n",
       "then marathon running developed from there,\" he told CNN at a training session before Sunday's race.               \n",
       "\n",
       "He completed the 10-kilometer route that wound its way along Hong Kong's harborfront in one hour 32 minutes and 28 \n",
       "seconds -- four minutes faster than his time last year despite a small stumble.                                    \n",
       "\n",
       "\"Five or six kilometers into the race, I really decided to go for it,\" he said. \"I had lots of power today because \n",
       "I was very happy. \"                                                                                                \n",
       "\n",
       "Singh moved to the UK from India following the death of his son and entered his first marathon in London in 2000   \n",
       "aged 89.                                                                                                           \n",
       "\n",
       "In 2011, Singh became the first centenarian on record to complete a marathon after finishing the Toronto Waterfront\n",
       "Marathon in 2011 in eight hours and 11 minutes and six seconds.                                                    \n",
       "\n",
       "Now, provide a numbered list of answers to these questions:                                                        \n",
       "\n",
       "<span style=\"color: #808000; text-decoration-color: #808000; font-weight: bold\">  1 </span>How old is Fauja Singh                                                                                         \n",
       "<span style=\"color: #808000; text-decoration-color: #808000; font-weight: bold\">  2 </span>How many marathons has he completed?                                                                           \n",
       "<span style=\"color: #808000; text-decoration-color: #808000; font-weight: bold\">  3 </span>What is his nickname?                                                                                          \n",
       "<span style=\"color: #808000; text-decoration-color: #808000; font-weight: bold\">  4 </span>Why did he start running?                                                                                      \n",
       "<span style=\"color: #808000; text-decoration-color: #808000; font-weight: bold\">  5 </span>how long was today's run?                                                                                      \n",
       "<span style=\"color: #808000; text-decoration-color: #808000; font-weight: bold\">  6 </span>How long did he take to complete it?                                                                           \n",
       "<span style=\"color: #808000; text-decoration-color: #808000; font-weight: bold\">  7 </span>Was he faster or slower then last year?                                                                        \n",
       "<span style=\"color: #808000; text-decoration-color: #808000; font-weight: bold\">  8 </span>How much faster?                                                                                               \n",
       "<span style=\"color: #808000; text-decoration-color: #808000; font-weight: bold\">  9 </span>How old was he for his first Marathon?                                                                         \n",
       "<span style=\"color: #808000; text-decoration-color: #808000; font-weight: bold\"> 10 </span>What year did he become the first centenarian to complete a run?                                               \n",
       "\n",
       "\n",
       "                                                   <span style=\"font-weight: bold; text-decoration: underline\">GROUND_TRUTH</span>                                                    \n",
       "\n",
       "<span style=\"color: #808000; text-decoration-color: #808000; font-weight: bold\">  1 </span>101                                                                                                            \n",
       "<span style=\"color: #808000; text-decoration-color: #808000; font-weight: bold\">  2 </span>nine                                                                                                           \n",
       "<span style=\"color: #808000; text-decoration-color: #808000; font-weight: bold\">  3 </span>Turbaned Tornado                                                                                               \n",
       "<span style=\"color: #808000; text-decoration-color: #808000; font-weight: bold\">  4 </span>attempt to lift depression                                                                                     \n",
       "<span style=\"color: #808000; text-decoration-color: #808000; font-weight: bold\">  5 </span>10-kilometer                                                                                                   \n",
       "<span style=\"color: #808000; text-decoration-color: #808000; font-weight: bold\">  6 </span>one hour 32 minutes and 28 seconds                                                                             \n",
       "<span style=\"color: #808000; text-decoration-color: #808000; font-weight: bold\">  7 </span>faster                                                                                                         \n",
       "<span style=\"color: #808000; text-decoration-color: #808000; font-weight: bold\">  8 </span>four minutes                                                                                                   \n",
       "<span style=\"color: #808000; text-decoration-color: #808000; font-weight: bold\">  9 </span>89                                                                                                             \n",
       "<span style=\"color: #808000; text-decoration-color: #808000; font-weight: bold\"> 10 </span>2011                                                                                                           \n",
       "\n",
       "\n",
       "                                                   <span style=\"font-weight: bold; text-decoration: underline\">MODEL OUTPUT</span>                                                    \n",
       "\n",
       "<span style=\"color: #808000; text-decoration-color: #808000; font-weight: bold\"> 1 </span>101 2. nine 3. \"Turbaned Tornado\" 4. attempt to lift depression that engulfed him after he witnessed the death  \n",
       "<span style=\"color: #808000; text-decoration-color: #808000; font-weight: bold\">   </span>of his son. 5. 10km 6. one hour 32 minutes 7. slower 8. four minutes faster 9. 89 10. 2011                      \n",
       "</pre>\n"
      ],
      "text/plain": [
       "\n",
       "                                                   \u001b[1;4mINPUT PROMPT\u001b[0m                                                    \n",
       "\n",
       "Hong Kong (CNN) -- Not your average great-great grandfather, Fauja Singh has completed nine 26-mile (42-kilometer) \n",
       "marathons since taking up long-distance running just over a decade ago.                                            \n",
       "\n",
       "On Sunday, the 101-year-old Sikh finished his final competitive race in Hong Kong, putting an end to a sporting    \n",
       "career that has raised thousands of dollars for charity and been an inspiration to many around the world.          \n",
       "\n",
       "Nicknamed \"Turbaned Tornado\" by fans for his distinctive traditional headwear, Singh said he began long-distance   \n",
       "running in an attempt to lift the depression that engulfed him after he witnessed the death of his son.            \n",
       "\n",
       "\"I suffered a tragic incident in my life, a traumatic experience; I took up running as a new focus in life. And    \n",
       "then marathon running developed from there,\" he told CNN at a training session before Sunday's race.               \n",
       "\n",
       "He completed the 10-kilometer route that wound its way along Hong Kong's harborfront in one hour 32 minutes and 28 \n",
       "seconds -- four minutes faster than his time last year despite a small stumble.                                    \n",
       "\n",
       "\"Five or six kilometers into the race, I really decided to go for it,\" he said. \"I had lots of power today because \n",
       "I was very happy. \"                                                                                                \n",
       "\n",
       "Singh moved to the UK from India following the death of his son and entered his first marathon in London in 2000   \n",
       "aged 89.                                                                                                           \n",
       "\n",
       "In 2011, Singh became the first centenarian on record to complete a marathon after finishing the Toronto Waterfront\n",
       "Marathon in 2011 in eight hours and 11 minutes and six seconds.                                                    \n",
       "\n",
       "Now, provide a numbered list of answers to these questions:                                                        \n",
       "\n",
       "\u001b[1;33m  1 \u001b[0mHow old is Fauja Singh                                                                                         \n",
       "\u001b[1;33m  2 \u001b[0mHow many marathons has he completed?                                                                           \n",
       "\u001b[1;33m  3 \u001b[0mWhat is his nickname?                                                                                          \n",
       "\u001b[1;33m  4 \u001b[0mWhy did he start running?                                                                                      \n",
       "\u001b[1;33m  5 \u001b[0mhow long was today's run?                                                                                      \n",
       "\u001b[1;33m  6 \u001b[0mHow long did he take to complete it?                                                                           \n",
       "\u001b[1;33m  7 \u001b[0mWas he faster or slower then last year?                                                                        \n",
       "\u001b[1;33m  8 \u001b[0mHow much faster?                                                                                               \n",
       "\u001b[1;33m  9 \u001b[0mHow old was he for his first Marathon?                                                                         \n",
       "\u001b[1;33m 10 \u001b[0mWhat year did he become the first centenarian to complete a run?                                               \n",
       "\n",
       "\n",
       "                                                   \u001b[1;4mGROUND_TRUTH\u001b[0m                                                    \n",
       "\n",
       "\u001b[1;33m  1 \u001b[0m101                                                                                                            \n",
       "\u001b[1;33m  2 \u001b[0mnine                                                                                                           \n",
       "\u001b[1;33m  3 \u001b[0mTurbaned Tornado                                                                                               \n",
       "\u001b[1;33m  4 \u001b[0mattempt to lift depression                                                                                     \n",
       "\u001b[1;33m  5 \u001b[0m10-kilometer                                                                                                   \n",
       "\u001b[1;33m  6 \u001b[0mone hour 32 minutes and 28 seconds                                                                             \n",
       "\u001b[1;33m  7 \u001b[0mfaster                                                                                                         \n",
       "\u001b[1;33m  8 \u001b[0mfour minutes                                                                                                   \n",
       "\u001b[1;33m  9 \u001b[0m89                                                                                                             \n",
       "\u001b[1;33m 10 \u001b[0m2011                                                                                                           \n",
       "\n",
       "\n",
       "                                                   \u001b[1;4mMODEL OUTPUT\u001b[0m                                                    \n",
       "\n",
       "\u001b[1;33m 1 \u001b[0m101 2. nine 3. \"Turbaned Tornado\" 4. attempt to lift depression that engulfed him after he witnessed the death  \n",
       "\u001b[1;33m   \u001b[0mof his son. 5. 10km 6. one hour 32 minutes 7. slower 8. four minutes faster 9. 89 10. 2011                      \n"
      ]
     },
     "execution_count": 8,
     "metadata": {},
     "output_type": "execute_result"
    }
   ],
   "source": [
    "dataset = create_instruct_dataset([\"coqa\"])\n",
    "example = dataset[0]\n",
    "prediction = eval.generate([example[\"prompt\"]], max_tokens=150)[0]\n",
    "Markdown(template.format(prompt=example[\"prompt\"], \n",
    "                         completion=example[\"completion\"], \n",
    "                         prediction=prediction))"
   ]
  },
  {
   "cell_type": "markdown",
   "metadata": {},
   "source": [
    "## Human Eval"
   ]
  },
  {
   "cell_type": "code",
   "execution_count": 14,
   "metadata": {},
   "outputs": [
    {
     "data": {
      "application/vnd.jupyter.widget-view+json": {
       "model_id": "5ba600ca52b54d63a9494990f68d88a6",
       "version_major": 2,
       "version_minor": 0
      },
      "text/plain": [
       "Map:   0%|          | 0/164 [00:00<?, ? examples/s]"
      ]
     },
     "metadata": {},
     "output_type": "display_data"
    },
    {
     "data": {
      "application/vnd.jupyter.widget-view+json": {
       "model_id": "ae7622b08f1846658601389e962aebf4",
       "version_major": 2,
       "version_minor": 0
      },
      "text/plain": [
       "Filter:   0%|          | 0/164 [00:00<?, ? examples/s]"
      ]
     },
     "metadata": {},
     "output_type": "display_data"
    },
    {
     "data": {
      "application/vnd.jupyter.widget-view+json": {
       "model_id": "37c5832c6d75411d86257eedea08cd27",
       "version_major": 2,
       "version_minor": 0
      },
      "text/plain": [
       "Map:   0%|          | 0/164 [00:00<?, ? examples/s]"
      ]
     },
     "metadata": {},
     "output_type": "display_data"
    },
    {
     "name": "stderr",
     "output_type": "stream",
     "text": [
      "Generating response... :   0%|          | 0/1 [00:00<?, ?it/s]The attention mask is not set and cannot be inferred from input because pad token is same as eos token. As a consequence, you may observe unexpected behavior. Please pass your input's `attention_mask` to obtain reliable results.\n",
      "Generating response... : 100%|██████████| 1/1 [00:04<00:00,  4.07s/it]\n"
     ]
    },
    {
     "data": {
      "text/html": [
       "<pre style=\"white-space:pre;overflow-x:auto;line-height:normal;font-family:Menlo,'DejaVu Sans Mono',consolas,'Courier New',monospace\">\n",
       "                                                   <span style=\"font-weight: bold; text-decoration: underline\">INPUT PROMPT</span>                                                    \n",
       "\n",
       "def add(lst): \"\"\"Given a non-empty list of integers lst. add the even elements that are at odd indices..           \n",
       "\n",
       "<span style=\"background-color: #272822\">                                                                                                                   \n",
       " </span><span style=\"color: #f8f8f2; text-decoration-color: #f8f8f2; background-color: #272822\">Examples:</span><span style=\"background-color: #272822\">                                                                                                         </span>\n",
       "<span style=\"background-color: #272822\"> </span><span style=\"color: #f8f8f2; text-decoration-color: #f8f8f2; background-color: #272822\">    add([4, 2, 6, 7]) ==&gt; 2 </span><span style=\"background-color: #272822\">                                                                                      </span>\n",
       "<span style=\"background-color: #272822\"> </span><span style=\"color: #f8f8f2; text-decoration-color: #f8f8f2; background-color: #272822\">\"\"\"</span><span style=\"background-color: #272822\">                                                                                                               </span>\n",
       "<span style=\"background-color: #272822\">                                                                                                                   \n",
       "</span>\n",
       "\n",
       "                                                   <span style=\"font-weight: bold; text-decoration: underline\">GROUND_TRUTH</span>                                                    \n",
       "\n",
       "<span style=\"background-color: #272822\">                                                                                                                   \n",
       " </span><span style=\"color: #f8f8f2; text-decoration-color: #f8f8f2; background-color: #272822\">    </span><span style=\"color: #66d9ef; text-decoration-color: #66d9ef; background-color: #272822\">return</span><span style=\"color: #f8f8f2; text-decoration-color: #f8f8f2; background-color: #272822\"> sum([lst[i] </span><span style=\"color: #66d9ef; text-decoration-color: #66d9ef; background-color: #272822\">for</span><span style=\"color: #f8f8f2; text-decoration-color: #f8f8f2; background-color: #272822\"> i </span><span style=\"color: #ff4689; text-decoration-color: #ff4689; background-color: #272822\">in</span><span style=\"color: #f8f8f2; text-decoration-color: #f8f8f2; background-color: #272822\"> range(</span><span style=\"color: #ae81ff; text-decoration-color: #ae81ff; background-color: #272822\">1</span><span style=\"color: #f8f8f2; text-decoration-color: #f8f8f2; background-color: #272822\">, len(lst), </span><span style=\"color: #ae81ff; text-decoration-color: #ae81ff; background-color: #272822\">2</span><span style=\"color: #f8f8f2; text-decoration-color: #f8f8f2; background-color: #272822\">) </span><span style=\"color: #66d9ef; text-decoration-color: #66d9ef; background-color: #272822\">if</span><span style=\"color: #f8f8f2; text-decoration-color: #f8f8f2; background-color: #272822\"> lst[i]</span><span style=\"color: #ff4689; text-decoration-color: #ff4689; background-color: #272822\">%</span><span style=\"color: #ae81ff; text-decoration-color: #ae81ff; background-color: #272822\">2</span><span style=\"color: #f8f8f2; text-decoration-color: #f8f8f2; background-color: #272822\"> </span><span style=\"color: #ff4689; text-decoration-color: #ff4689; background-color: #272822\">==</span><span style=\"color: #f8f8f2; text-decoration-color: #f8f8f2; background-color: #272822\"> </span><span style=\"color: #ae81ff; text-decoration-color: #ae81ff; background-color: #272822\">0</span><span style=\"color: #f8f8f2; text-decoration-color: #f8f8f2; background-color: #272822\">])</span><span style=\"background-color: #272822\">                                          </span>\n",
       "<span style=\"background-color: #272822\">                                                                                                                   \n",
       "</span>\n",
       "\n",
       "                                                   <span style=\"font-weight: bold; text-decoration: underline\">MODEL OUTPUT</span>                                                    \n",
       "\n",
       "def add(lst): \"\"\"Given a non-empty list of integers lst. add the even elements that are at odd indices.. Examples: \n",
       "add([4, 2, 6, 7]) ==&gt; 2                                                                                            \n",
       "</pre>\n"
      ],
      "text/plain": [
       "\n",
       "                                                   \u001b[1;4mINPUT PROMPT\u001b[0m                                                    \n",
       "\n",
       "def add(lst): \"\"\"Given a non-empty list of integers lst. add the even elements that are at odd indices..           \n",
       "\n",
       "\u001b[48;2;39;40;34m                                                                                                                   \n",
       "\u001b[0m\u001b[48;2;39;40;34m \u001b[0m\u001b[38;2;248;248;242;48;2;39;40;34mExamples:\u001b[0m\u001b[48;2;39;40;34m                                                                                                        \u001b[0m\u001b[48;2;39;40;34m \u001b[0m\n",
       "\u001b[48;2;39;40;34m \u001b[0m\u001b[38;2;248;248;242;48;2;39;40;34m    add([4, 2, 6, 7]) ==> 2 \u001b[0m\u001b[48;2;39;40;34m                                                                                     \u001b[0m\u001b[48;2;39;40;34m \u001b[0m\n",
       "\u001b[48;2;39;40;34m \u001b[0m\u001b[38;2;248;248;242;48;2;39;40;34m\"\"\"\u001b[0m\u001b[48;2;39;40;34m                                                                                                              \u001b[0m\u001b[48;2;39;40;34m \u001b[0m\n",
       "\u001b[48;2;39;40;34m                                                                                                                   \n",
       "\u001b[0m\n",
       "\n",
       "                                                   \u001b[1;4mGROUND_TRUTH\u001b[0m                                                    \n",
       "\n",
       "\u001b[48;2;39;40;34m                                                                                                                   \n",
       "\u001b[0m\u001b[48;2;39;40;34m \u001b[0m\u001b[38;2;248;248;242;48;2;39;40;34m    \u001b[0m\u001b[38;2;102;217;239;48;2;39;40;34mreturn\u001b[0m\u001b[38;2;248;248;242;48;2;39;40;34m \u001b[0m\u001b[38;2;248;248;242;48;2;39;40;34msum\u001b[0m\u001b[38;2;248;248;242;48;2;39;40;34m(\u001b[0m\u001b[38;2;248;248;242;48;2;39;40;34m[\u001b[0m\u001b[38;2;248;248;242;48;2;39;40;34mlst\u001b[0m\u001b[38;2;248;248;242;48;2;39;40;34m[\u001b[0m\u001b[38;2;248;248;242;48;2;39;40;34mi\u001b[0m\u001b[38;2;248;248;242;48;2;39;40;34m]\u001b[0m\u001b[38;2;248;248;242;48;2;39;40;34m \u001b[0m\u001b[38;2;102;217;239;48;2;39;40;34mfor\u001b[0m\u001b[38;2;248;248;242;48;2;39;40;34m \u001b[0m\u001b[38;2;248;248;242;48;2;39;40;34mi\u001b[0m\u001b[38;2;248;248;242;48;2;39;40;34m \u001b[0m\u001b[38;2;255;70;137;48;2;39;40;34min\u001b[0m\u001b[38;2;248;248;242;48;2;39;40;34m \u001b[0m\u001b[38;2;248;248;242;48;2;39;40;34mrange\u001b[0m\u001b[38;2;248;248;242;48;2;39;40;34m(\u001b[0m\u001b[38;2;174;129;255;48;2;39;40;34m1\u001b[0m\u001b[38;2;248;248;242;48;2;39;40;34m,\u001b[0m\u001b[38;2;248;248;242;48;2;39;40;34m \u001b[0m\u001b[38;2;248;248;242;48;2;39;40;34mlen\u001b[0m\u001b[38;2;248;248;242;48;2;39;40;34m(\u001b[0m\u001b[38;2;248;248;242;48;2;39;40;34mlst\u001b[0m\u001b[38;2;248;248;242;48;2;39;40;34m)\u001b[0m\u001b[38;2;248;248;242;48;2;39;40;34m,\u001b[0m\u001b[38;2;248;248;242;48;2;39;40;34m \u001b[0m\u001b[38;2;174;129;255;48;2;39;40;34m2\u001b[0m\u001b[38;2;248;248;242;48;2;39;40;34m)\u001b[0m\u001b[38;2;248;248;242;48;2;39;40;34m \u001b[0m\u001b[38;2;102;217;239;48;2;39;40;34mif\u001b[0m\u001b[38;2;248;248;242;48;2;39;40;34m \u001b[0m\u001b[38;2;248;248;242;48;2;39;40;34mlst\u001b[0m\u001b[38;2;248;248;242;48;2;39;40;34m[\u001b[0m\u001b[38;2;248;248;242;48;2;39;40;34mi\u001b[0m\u001b[38;2;248;248;242;48;2;39;40;34m]\u001b[0m\u001b[38;2;255;70;137;48;2;39;40;34m%\u001b[0m\u001b[38;2;174;129;255;48;2;39;40;34m2\u001b[0m\u001b[38;2;248;248;242;48;2;39;40;34m \u001b[0m\u001b[38;2;255;70;137;48;2;39;40;34m==\u001b[0m\u001b[38;2;248;248;242;48;2;39;40;34m \u001b[0m\u001b[38;2;174;129;255;48;2;39;40;34m0\u001b[0m\u001b[38;2;248;248;242;48;2;39;40;34m]\u001b[0m\u001b[38;2;248;248;242;48;2;39;40;34m)\u001b[0m\u001b[48;2;39;40;34m                                         \u001b[0m\u001b[48;2;39;40;34m \u001b[0m\n",
       "\u001b[48;2;39;40;34m                                                                                                                   \n",
       "\u001b[0m\n",
       "\n",
       "                                                   \u001b[1;4mMODEL OUTPUT\u001b[0m                                                    \n",
       "\n",
       "def add(lst): \"\"\"Given a non-empty list of integers lst. add the even elements that are at odd indices.. Examples: \n",
       "add([4, 2, 6, 7]) ==> 2                                                                                            \n"
      ]
     },
     "execution_count": 14,
     "metadata": {},
     "output_type": "execute_result"
    }
   ],
   "source": [
    "dataset = create_instruct_dataset([\"human_eval\"], train=False)\n",
    "example = dataset[0]\n",
    "prediction = eval.generate([example[\"prompt\"]])[0]\n",
    "Markdown(template.format(prompt=example[\"prompt\"], \n",
    "                         completion=example[\"completion\"], \n",
    "                         prediction=prediction))"
   ]
  },
  {
   "cell_type": "markdown",
   "metadata": {},
   "source": [
    "## XSum"
   ]
  },
  {
   "cell_type": "code",
   "execution_count": 7,
   "metadata": {},
   "outputs": [
    {
     "data": {
      "application/vnd.jupyter.widget-view+json": {
       "model_id": "b1274b5663174453ba6524dc7ca7e485",
       "version_major": 2,
       "version_minor": 0
      },
      "text/plain": [
       "Filter:   0%|          | 0/204045 [00:00<?, ? examples/s]"
      ]
     },
     "metadata": {},
     "output_type": "display_data"
    },
    {
     "data": {
      "application/vnd.jupyter.widget-view+json": {
       "model_id": "9b08f38faea647809497ca95ca085c57",
       "version_major": 2,
       "version_minor": 0
      },
      "text/plain": [
       "Map:   0%|          | 0/10000 [00:00<?, ? examples/s]"
      ]
     },
     "metadata": {},
     "output_type": "display_data"
    },
    {
     "name": "stderr",
     "output_type": "stream",
     "text": [
      "Generating response... :   0%|          | 0/1 [00:00<?, ?it/s]Token indices sequence length is longer than the specified maximum sequence length for this model (735 > 512). Running this sequence through the model will result in indexing errors\n",
      "The attention mask is not set and cannot be inferred from input because pad token is same as eos token. As a consequence, you may observe unexpected behavior. Please pass your input's `attention_mask` to obtain reliable results.\n",
      "Generating response... : 100%|██████████| 1/1 [00:03<00:00,  3.34s/it]\n"
     ]
    },
    {
     "data": {
      "text/html": [
       "<pre style=\"white-space:pre;overflow-x:auto;line-height:normal;font-family:Menlo,'DejaVu Sans Mono',consolas,'Courier New',monospace\">\n",
       "                                                   <span style=\"font-weight: bold; text-decoration: underline\">INPUT PROMPT</span>                                                    \n",
       "\n",
       "Summarize this article:                                                                                            \n",
       "\n",
       "The biggest increase in tax take by far, according to Labour's plans, will come from an increase in corporation    \n",
       "tax. It's currently 19% and Labour plans to increase that rate to 26% by 2021. Once that's done, Labour says       \n",
       "corporation tax will raise £19.4bn per year. There are other measures to raise revenue: VAT on private school fees,\n",
       "for example, and a levy on what Labour calls excessive pay - starting with a 2.5% levy paid by employers on pay    \n",
       "packages over £330,000. The manifesto also says £6.5bn will be raised from an aggressive programme to crack down on\n",
       "tax avoidance. Political parties always say they will do that, and it can be done - but it's a pretty inexact      \n",
       "science. A further £5.6bn comes from a new tax on financial transactions - known as a \"Robin Hood\" tax. Another    \n",
       "large chunk of extra revenue, £6.4bn, comes from taxing high earners more. Reality Check: Who would be affected by \n",
       "Labour's higher taxes? Those earning £80,000 will be taxed at 45%, while a new 50% rate will be reintroduced for   \n",
       "those on salaries above £123,000. The new income tax rules will apply to about 4% of the workforce, that's about   \n",
       "1.2 million people. But will all the changes bring in the sort of money Labour expects? The headline numbers, for  \n",
       "one, don't take into account any behavioural change. For example, high earners could transfer part of their incomes\n",
       "into private pensions, do less work or leave the country. And remember, the Scottish Parliament has some freedom to\n",
       "set its own tax rates and thresholds. Even though the manifesto says the changes to income tax should raise £6.4bn,\n",
       "Labour concedes that once behavioural change is taken into account, the actual money coming in will be lower. The  \n",
       "manifesto gives the party £3.9bn of wiggle room for all their tax rises - an allowance for less money coming as a  \n",
       "result of changing behaviour. But according to the independent Institute for Fiscal Studies (IFS) - which looks at \n",
       "tax and spend policy - Labour might still be overestimating how much it thinks it can raise. The IFS says Labour's \n",
       "forecasts \"looks a little on the optimistic side\". Likewise, companies may change their behaviour when tax rates   \n",
       "change, and you also have to take account of the overall health of the economy. This could affect the expected     \n",
       "revenue from corporation tax changes and the introduction of the \"Robin Hood\" tax. Overall, though, Labour says it \n",
       "can finance all its current spending plans through changes in the tax system: £48.6bn out, £48.6bn in. But these   \n",
       "numbers do not include the party's big plans for investment spending and renationalising services such as the      \n",
       "railways, the Royal Mail and so on. Labour says it will borrow money to pay for future investment - it pledges to  \n",
       "create a National Transformation Fund of £250bn - but there is no detailed costing of nationalisation plans in the \n",
       "manifesto and what it will mean for overall borrowing. Despite all the extra borrowing, Labour makes one bold      \n",
       "promise - it says it is committed to ensuring that the national debt is lower at the end of the next Parliament    \n",
       "than it is today. Read more from Reality Check Follow us on Twitter                                                \n",
       "\n",
       "\n",
       "                                                   <span style=\"font-weight: bold; text-decoration: underline\">GROUND_TRUTH</span>                                                    \n",
       "\n",
       "Labour's manifesto itemises revenue-raising measures it says will bring in an extra £48.6bn a year.                \n",
       "\n",
       "\n",
       "                                                   <span style=\"font-weight: bold; text-decoration: underline\">MODEL OUTPUT</span>                                                    \n",
       "\n",
       "On 24 April, the newly released Labour manifesto launched by the party's leader Jeremy Corbyn sets out a series of \n",
       "tax payments, spending cuts and the promise of spending cuts of                                                    \n",
       "</pre>\n"
      ],
      "text/plain": [
       "\n",
       "                                                   \u001b[1;4mINPUT PROMPT\u001b[0m                                                    \n",
       "\n",
       "Summarize this article:                                                                                            \n",
       "\n",
       "The biggest increase in tax take by far, according to Labour's plans, will come from an increase in corporation    \n",
       "tax. It's currently 19% and Labour plans to increase that rate to 26% by 2021. Once that's done, Labour says       \n",
       "corporation tax will raise £19.4bn per year. There are other measures to raise revenue: VAT on private school fees,\n",
       "for example, and a levy on what Labour calls excessive pay - starting with a 2.5% levy paid by employers on pay    \n",
       "packages over £330,000. The manifesto also says £6.5bn will be raised from an aggressive programme to crack down on\n",
       "tax avoidance. Political parties always say they will do that, and it can be done - but it's a pretty inexact      \n",
       "science. A further £5.6bn comes from a new tax on financial transactions - known as a \"Robin Hood\" tax. Another    \n",
       "large chunk of extra revenue, £6.4bn, comes from taxing high earners more. Reality Check: Who would be affected by \n",
       "Labour's higher taxes? Those earning £80,000 will be taxed at 45%, while a new 50% rate will be reintroduced for   \n",
       "those on salaries above £123,000. The new income tax rules will apply to about 4% of the workforce, that's about   \n",
       "1.2 million people. But will all the changes bring in the sort of money Labour expects? The headline numbers, for  \n",
       "one, don't take into account any behavioural change. For example, high earners could transfer part of their incomes\n",
       "into private pensions, do less work or leave the country. And remember, the Scottish Parliament has some freedom to\n",
       "set its own tax rates and thresholds. Even though the manifesto says the changes to income tax should raise £6.4bn,\n",
       "Labour concedes that once behavioural change is taken into account, the actual money coming in will be lower. The  \n",
       "manifesto gives the party £3.9bn of wiggle room for all their tax rises - an allowance for less money coming as a  \n",
       "result of changing behaviour. But according to the independent Institute for Fiscal Studies (IFS) - which looks at \n",
       "tax and spend policy - Labour might still be overestimating how much it thinks it can raise. The IFS says Labour's \n",
       "forecasts \"looks a little on the optimistic side\". Likewise, companies may change their behaviour when tax rates   \n",
       "change, and you also have to take account of the overall health of the economy. This could affect the expected     \n",
       "revenue from corporation tax changes and the introduction of the \"Robin Hood\" tax. Overall, though, Labour says it \n",
       "can finance all its current spending plans through changes in the tax system: £48.6bn out, £48.6bn in. But these   \n",
       "numbers do not include the party's big plans for investment spending and renationalising services such as the      \n",
       "railways, the Royal Mail and so on. Labour says it will borrow money to pay for future investment - it pledges to  \n",
       "create a National Transformation Fund of £250bn - but there is no detailed costing of nationalisation plans in the \n",
       "manifesto and what it will mean for overall borrowing. Despite all the extra borrowing, Labour makes one bold      \n",
       "promise - it says it is committed to ensuring that the national debt is lower at the end of the next Parliament    \n",
       "than it is today. Read more from Reality Check Follow us on Twitter                                                \n",
       "\n",
       "\n",
       "                                                   \u001b[1;4mGROUND_TRUTH\u001b[0m                                                    \n",
       "\n",
       "Labour's manifesto itemises revenue-raising measures it says will bring in an extra £48.6bn a year.                \n",
       "\n",
       "\n",
       "                                                   \u001b[1;4mMODEL OUTPUT\u001b[0m                                                    \n",
       "\n",
       "On 24 April, the newly released Labour manifesto launched by the party's leader Jeremy Corbyn sets out a series of \n",
       "tax payments, spending cuts and the promise of spending cuts of                                                    \n"
      ]
     },
     "execution_count": 7,
     "metadata": {},
     "output_type": "execute_result"
    }
   ],
   "source": [
    "dataset = create_instruct_dataset([\"xsum\"])\n",
    "example = dataset[0]\n",
    "prediction = eval.generate([example[\"prompt\"]])[0]\n",
    "Markdown(template.format(prompt=example[\"prompt\"], \n",
    "                         completion=example[\"completion\"], \n",
    "                         prediction=prediction))"
   ]
  },
  {
   "cell_type": "code",
   "execution_count": null,
   "metadata": {},
   "outputs": [],
   "source": []
  }
 ],
 "metadata": {
  "kernelspec": {
   "display_name": "transformers-311",
   "language": "python",
   "name": "python3"
  },
  "language_info": {
   "codemirror_mode": {
    "name": "ipython",
    "version": 3
   },
   "file_extension": ".py",
   "mimetype": "text/x-python",
   "name": "python",
   "nbconvert_exporter": "python",
   "pygments_lexer": "ipython3",
   "version": "3.11.9"
  }
 },
 "nbformat": 4,
 "nbformat_minor": 2
}
